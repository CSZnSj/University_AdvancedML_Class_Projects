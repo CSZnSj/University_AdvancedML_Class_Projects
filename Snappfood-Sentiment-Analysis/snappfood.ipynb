{
 "cells": [
  {
   "cell_type": "code",
   "execution_count": 1,
   "metadata": {
    "execution": {
     "iopub.execute_input": "2024-01-30T04:44:30.931575Z",
     "iopub.status.busy": "2024-01-30T04:44:30.931278Z",
     "iopub.status.idle": "2024-01-30T04:44:33.603170Z",
     "shell.execute_reply": "2024-01-30T04:44:33.602307Z",
     "shell.execute_reply.started": "2024-01-30T04:44:30.931549Z"
    }
   },
   "outputs": [],
   "source": [
    "import numpy as np\n",
    "import pandas as pd\n",
    "import matplotlib.pyplot as plt\n",
    "\n",
    "import re\n",
    "\n",
    "from collections import Counter\n",
    "\n",
    "import torch\n",
    "import torch.nn as nn\n",
    "from torch.utils.data import Dataset, DataLoader\n",
    "\n",
    "from tqdm import tqdm\n",
    "\n",
    "from sklearn.metrics import f1_score"
   ]
  },
  {
   "cell_type": "code",
   "execution_count": 2,
   "metadata": {
    "execution": {
     "iopub.execute_input": "2024-01-30T04:44:33.608568Z",
     "iopub.status.busy": "2024-01-30T04:44:33.608311Z",
     "iopub.status.idle": "2024-01-30T04:44:33.892335Z",
     "shell.execute_reply": "2024-01-30T04:44:33.891365Z",
     "shell.execute_reply.started": "2024-01-30T04:44:33.608543Z"
    }
   },
   "outputs": [],
   "source": [
    "train_df = pd.read_csv(\"/kaggle/input/persian-sentiment-analysis-snnapfood/train.csv\", sep='\\t', index_col=\"Unnamed: 0\", on_bad_lines='skip')\n",
    "dev_df = pd.read_csv(\"/kaggle/input/persian-sentiment-analysis-snnapfood/dev.csv\", sep='\\t', index_col=\"Unnamed: 0\", on_bad_lines='skip')\n",
    "test_df = pd.read_csv(\"/kaggle/input/persian-sentiment-analysis-snnapfood/test.csv\", sep='\\t', index_col=\"Unnamed: 0\", on_bad_lines='skip')"
   ]
  },
  {
   "cell_type": "code",
   "execution_count": 3,
   "metadata": {
    "execution": {
     "iopub.execute_input": "2024-01-30T04:44:33.893735Z",
     "iopub.status.busy": "2024-01-30T04:44:33.893456Z",
     "iopub.status.idle": "2024-01-30T04:44:33.907403Z",
     "shell.execute_reply": "2024-01-30T04:44:33.906467Z",
     "shell.execute_reply.started": "2024-01-30T04:44:33.893709Z"
    }
   },
   "outputs": [],
   "source": [
    "class Vocabulary:\n",
    "    def __init__(self, freq_threshold, max_size):\n",
    "        \"\"\"\n",
    "        Initialize Vocabulary object.\n",
    "        \n",
    "        Args:\n",
    "        - freq_threshold (int): Minimum frequency threshold for a word to be included in the vocabulary.\n",
    "        - max_size (int): Maximum size of the vocabulary.\n",
    "        \"\"\"\n",
    "        self.itos = {0: '<PAD>', 1: '<SOS>', 2: '<EOS>', 3: '<UNK>'}\n",
    "        self.stoi = {k: j for j, k in self.itos.items()}\n",
    "        self.freq_threshold = freq_threshold\n",
    "        self.max_size = max_size\n",
    "\n",
    "    def __len__(self):\n",
    "        \"\"\"\n",
    "        Get the length of the vocabulary.\n",
    "        \"\"\"\n",
    "        return len(self.itos)\n",
    "\n",
    "    @staticmethod\n",
    "    def tokenizer(text):\n",
    "        \"\"\"\n",
    "        Tokenize the input text into individual words.\n",
    "        \n",
    "        Args:\n",
    "        - text (str): Input text to tokenize.\n",
    "        \n",
    "        Returns:\n",
    "        - list of str: List of tokenized words.\n",
    "        \"\"\"\n",
    "        patterns = [\n",
    "            (r'([a-zA-Z]+)', r' \\1 '),                   \n",
    "            (r'([\\u0600-\\u06FF]+)', r' \\1 '),            \n",
    "            (r'(?:[\\d۰-۹]+(?:[.,/][\\d۰-۹]+)?)', r' NUM '),  \n",
    "            (r'([،؛؟»«!\"#$%&()*+,-./:;<=>?@[\\\\\\]^_`{|}~\\t\\n])\\1*', r' \\1 '), \n",
    "            (r'(\\u200c)+', r' \\1 '),                     \n",
    "        ]\n",
    "        \n",
    "        for pattern, replacement in patterns:\n",
    "            text = re.sub(pattern, replacement, text)\n",
    "            \n",
    "        return text.strip().split()\n",
    "\n",
    "    def build_vocabulary(self, sentence_list):\n",
    "        \"\"\"\n",
    "        Build the vocabulary based on the input list of sentences.\n",
    "        \n",
    "        Args:\n",
    "        - sentence_list (list of str): List of sentences to build vocabulary from.\n",
    "        \"\"\"\n",
    "        frequencies = Counter()\n",
    "        for sentence in sentence_list:\n",
    "            frequencies.update(self.tokenizer(sentence))\n",
    "\n",
    "        frequencies = {k: v for k, v in frequencies.items() if v > self.freq_threshold}\n",
    "        \n",
    "        frequencies = dict(sorted(frequencies.items(), key=lambda x: -x[1])[:self.max_size - 4])\n",
    "\n",
    "        idx = 4\n",
    "        for word in frequencies:\n",
    "            self.stoi[word] = idx\n",
    "            self.itos[idx] = word\n",
    "            idx += 1\n",
    "            \n",
    "    def get_vocabularies(self):\n",
    "        \"\"\"\n",
    "        Get vocabularies.\n",
    "        \n",
    "        Returns:\n",
    "        - tuple: Dictionaries itos.\n",
    "        \"\"\"\n",
    "        return self.itos\n",
    "\n",
    "    def numericalize(self, text):\n",
    "        \"\"\"\n",
    "        Convert input text into a sequence of numerical indices based on the vocabulary.\n",
    "        \n",
    "        Args:\n",
    "        - text (str): Input text to convert into numerical representation.\n",
    "        \n",
    "        Returns:\n",
    "        - list of int: List of numerical indices representing the input text.\n",
    "        \"\"\"\n",
    "        tokenized_text = self.tokenizer(text)\n",
    "        numericalized_text = [self.stoi.get(token, self.stoi['<UNK>']) for token in tokenized_text]\n",
    "        return numericalized_text"
   ]
  },
  {
   "cell_type": "code",
   "execution_count": 4,
   "metadata": {
    "execution": {
     "iopub.execute_input": "2024-01-30T04:44:33.910446Z",
     "iopub.status.busy": "2024-01-30T04:44:33.910166Z",
     "iopub.status.idle": "2024-01-30T04:44:33.922607Z",
     "shell.execute_reply": "2024-01-30T04:44:33.921803Z",
     "shell.execute_reply.started": "2024-01-30T04:44:33.910421Z"
    }
   },
   "outputs": [],
   "source": [
    "class CustomDataset(Dataset):\n",
    "    \"\"\"\n",
    "    A custom PyTorch dataset class for loading data from a dataframe.\n",
    "\n",
    "    Args:\n",
    "        dataframe (pandas.DataFrame): The dataframe containing the data.\n",
    "        text_col (str, optional): The name of the column containing text data. Default is 'comment'.\n",
    "        label_col (str, optional): The name of the column containing label data. Default is 'label_id'.\n",
    "        transform (callable, optional): Optional transform to be applied on a sample.\n",
    "    \"\"\"\n",
    "\n",
    "    def __init__(self, dataframe, text_col='comment', label_col='label_id', transform=None):\n",
    "        \"\"\"\n",
    "        Initializes the CustomDataset object.\n",
    "\n",
    "        Args:\n",
    "            dataframe (pandas.DataFrame): The dataframe containing the data.\n",
    "            text_col (str, optional): The name of the column containing text data. Default is 'comment'.\n",
    "            label_col (str, optional): The name of the column containing label data. Default is 'label_id'.\n",
    "            transform (callable, optional): Optional transform to be applied on a sample.\n",
    "        \"\"\"\n",
    "        self.dataframe = dataframe\n",
    "        self.text_col = text_col\n",
    "        self.label_col = label_col\n",
    "        self.transform = transform\n",
    "\n",
    "    def __len__(self):\n",
    "        \"\"\"\n",
    "        Returns the length of the dataset.\n",
    "\n",
    "        Returns:\n",
    "            int: The length of the dataset.\n",
    "        \"\"\"\n",
    "        return len(self.dataframe)\n",
    "\n",
    "    def __getitem__(self, idx):\n",
    "        \"\"\"\n",
    "        Retrieves a sample from the dataset at the given index.\n",
    "\n",
    "        Args:\n",
    "            idx (int): The index of the sample to retrieve.\n",
    "\n",
    "        Returns:\n",
    "            dict: A dictionary containing the text and label of the sample.\n",
    "        \"\"\"\n",
    "        comment_of_sample = self.dataframe.iloc[idx][self.text_col]\n",
    "        label_of_sample = self.dataframe.iloc[idx][self.label_col]\n",
    "        sample = {'text': comment_of_sample , 'label': label_of_sample}\n",
    "\n",
    "        if self.transform:\n",
    "            sample = self.transform(sample)\n",
    "        return sample"
   ]
  },
  {
   "cell_type": "code",
   "execution_count": 5,
   "metadata": {
    "execution": {
     "iopub.execute_input": "2024-01-30T04:44:33.923849Z",
     "iopub.status.busy": "2024-01-30T04:44:33.923600Z",
     "iopub.status.idle": "2024-01-30T04:44:33.936247Z",
     "shell.execute_reply": "2024-01-30T04:44:33.935427Z",
     "shell.execute_reply.started": "2024-01-30T04:44:33.923826Z"
    }
   },
   "outputs": [],
   "source": [
    "def collate_batch(batch, vocab):\n",
    "    \"\"\"\n",
    "    Collates a batch of samples into padded sequences of text and labels.\n",
    "\n",
    "    Args:\n",
    "        batch (list): A list of samples, where each sample is a dictionary containing 'text' and 'label' keys.\n",
    "        vocab (torchtext.vocab.Vocab): The vocabulary object used to numericalize text.\n",
    "\n",
    "    Returns:\n",
    "        tuple: A tuple containing three elements:\n",
    "            - padded_text (torch.Tensor): Padded sequences of numericalized text.\n",
    "            - label_list (torch.Tensor): Tensor containing labels for each sample.\n",
    "            - lengths (torch.Tensor): Tensor containing lengths of sequences in the batch.\n",
    "    \"\"\"\n",
    "    text_list, label_list, lengths = [], [], []\n",
    "    for sample in batch:\n",
    "        _text = sample[\"text\"]\n",
    "        _label = sample[\"label\"]\n",
    "        \n",
    "        processed_text = torch.tensor(vocab.numericalize(_text), dtype=torch.int64)\n",
    "        \n",
    "        text_list.append(processed_text)\n",
    "        label_list.append(float(_label))\n",
    "        lengths.append(len(processed_text))\n",
    "    \n",
    "    padded_text = torch.nn.utils.rnn.pad_sequence(text_list, batch_first=True, padding_value=vocab.stoi['<PAD>'])\n",
    "    \n",
    "    return padded_text, torch.tensor(label_list), torch.tensor(lengths)"
   ]
  },
  {
   "cell_type": "code",
   "execution_count": 6,
   "metadata": {
    "execution": {
     "iopub.execute_input": "2024-01-30T04:44:33.937760Z",
     "iopub.status.busy": "2024-01-30T04:44:33.937455Z",
     "iopub.status.idle": "2024-01-30T04:44:33.952265Z",
     "shell.execute_reply": "2024-01-30T04:44:33.951376Z",
     "shell.execute_reply.started": "2024-01-30T04:44:33.937737Z"
    }
   },
   "outputs": [],
   "source": [
    "class RNN(nn.Module):\n",
    "    \"\"\"\n",
    "    A recurrent neural network (RNN) model for sequence classification.\n",
    "\n",
    "    Args:\n",
    "        vocab_size (int): The size of the vocabulary.\n",
    "        embed_dim (int): The dimensionality of the embedding layer.\n",
    "        rnn_hidden_dim (int): The number of features in the RNN hidden state.\n",
    "        fc_dim (int): The dimensionality of the fully connected layer.\n",
    "        bidirectional (bool, optional): If True, use a bidirectional RNN. Default is True.\n",
    "        num_layers (int, optional): Number of recurrent layers. Default is 2.\n",
    "        dropout (float, optional): Dropout probability. Default is 0.25.\n",
    "    \"\"\"\n",
    "\n",
    "    def __init__(self, vocab_size, embed_dim, rnn_hidden_dim, fc_dim, bidirectional=True, num_layers=2, dropout=0.5):\n",
    "        \"\"\"\n",
    "        Initializes the RNN model.\n",
    "\n",
    "        Args:\n",
    "            vocab_size (int): The size of the vocabulary.\n",
    "            embed_dim (int): The dimensionality of the embedding layer.\n",
    "            rnn_hidden_dim (int): The number of features in the RNN hidden state.\n",
    "            fc_dim (int): The dimensionality of the fully connected layer.\n",
    "            bidirectional (bool, optional): If True, use a bidirectional RNN. Default is True.\n",
    "            num_layers (int, optional): Number of recurrent layers. Default is 2.\n",
    "            dropout (float, optional): Dropout probability. Default is 0.25.\n",
    "        \"\"\"\n",
    "        super().__init__()\n",
    "        self.embedding = nn.Embedding(vocab_size, embed_dim, padding_idx=0)\n",
    "        self.rnn = nn.LSTM(embed_dim, rnn_hidden_dim, batch_first=True, bidirectional=bidirectional, num_layers=num_layers, dropout=dropout)\n",
    "        self.fc1 = nn.Linear(rnn_hidden_dim * 2 if bidirectional else rnn_hidden_dim, fc_dim)\n",
    "        self.relu = nn.ReLU()\n",
    "        self.fc2 = nn.Linear(fc_dim, 1)\n",
    "        self.sigmoid = nn.Sigmoid()\n",
    "\n",
    "    def forward(self, text, lengths):\n",
    "        \"\"\"\n",
    "        Performs forward pass of the RNN model.\n",
    "\n",
    "        Args:\n",
    "            text (torch.Tensor): Input sequences of token indices.\n",
    "            lengths (torch.Tensor): Lengths of sequences in the batch.\n",
    "\n",
    "        Returns:\n",
    "            torch.Tensor: Output predictions (probabilities).\n",
    "        \"\"\"\n",
    "        out = self.embedding(text)\n",
    "        out = nn.utils.rnn.pack_padded_sequence(out, lengths.cpu().numpy(), enforce_sorted=False, batch_first=True)\n",
    "        _, (hidden, cell) = self.rnn(out)\n",
    "        out = torch.cat((hidden[-2, :, :], hidden[-1, :, :]), dim=1) if self.rnn.bidirectional else hidden[-1, :, :]\n",
    "        out = self.fc1(out)\n",
    "        out = self.relu(out)\n",
    "        out = self.fc2(out)\n",
    "        out = self.sigmoid(out)\n",
    "        return out\n"
   ]
  },
  {
   "cell_type": "code",
   "execution_count": 7,
   "metadata": {
    "execution": {
     "iopub.execute_input": "2024-01-30T04:44:33.953619Z",
     "iopub.status.busy": "2024-01-30T04:44:33.953347Z",
     "iopub.status.idle": "2024-01-30T04:44:33.966381Z",
     "shell.execute_reply": "2024-01-30T04:44:33.965694Z",
     "shell.execute_reply.started": "2024-01-30T04:44:33.953596Z"
    }
   },
   "outputs": [],
   "source": [
    "def train(dataloader):\n",
    "    \"\"\"\n",
    "    Trains the model using the given dataloader.\n",
    "\n",
    "    Args:\n",
    "        dataloader (torch.utils.data.DataLoader): The dataloader providing batches of data.\n",
    "\n",
    "    Returns:\n",
    "        tuple: A tuple containing three elements:\n",
    "            - avg_acc (float): Average accuracy of the model on the training data.\n",
    "            - avg_loss (float): Average loss of the model on the training data.\n",
    "            - f1 (float): F1 score of the model on the training data.\n",
    "    \"\"\"\n",
    "    model.train()\n",
    "    total_acc, total_loss = 0, 0\n",
    "    y_true, y_pred = [], []\n",
    "    for text_batch, label_batch, lengths in dataloader:\n",
    "        text_batch, label_batch, lengths = text_batch.to(device), label_batch.to(device), lengths.to(device)\n",
    "        optimizer.zero_grad()\n",
    "        pred = model(text_batch, lengths)[:, 0]\n",
    "        loss = criterion(pred, label_batch)\n",
    "        loss.backward()\n",
    "        optimizer.step()\n",
    "        total_acc += ((pred >= 0.5).float() == label_batch).float().sum().item()\n",
    "        total_loss += loss.item() * label_batch.size(0)\n",
    "        y_true.extend(label_batch.cpu().numpy())\n",
    "        y_pred.extend((pred >= 0.5).cpu().numpy())\n",
    "    \n",
    "    # Learning rate scheduling after each epoch\n",
    "    scheduler.step()\n",
    "    \n",
    "    avg_acc = total_acc / len(dataloader.dataset)\n",
    "    avg_loss = total_loss / len(dataloader.dataset)\n",
    "    f1 = f1_score(y_true, y_pred)\n",
    "    return avg_acc, avg_loss, f1"
   ]
  },
  {
   "cell_type": "code",
   "execution_count": 8,
   "metadata": {
    "execution": {
     "iopub.execute_input": "2024-01-30T04:44:33.967640Z",
     "iopub.status.busy": "2024-01-30T04:44:33.967403Z",
     "iopub.status.idle": "2024-01-30T04:44:33.982347Z",
     "shell.execute_reply": "2024-01-30T04:44:33.981615Z",
     "shell.execute_reply.started": "2024-01-30T04:44:33.967618Z"
    }
   },
   "outputs": [],
   "source": [
    "def evaluate(dataloader):\n",
    "    \"\"\"\n",
    "    Evaluates the model using the given dataloader.\n",
    "\n",
    "    Args:\n",
    "        dataloader (torch.utils.data.DataLoader): The dataloader providing batches of data.\n",
    "\n",
    "    Returns:\n",
    "        tuple: A tuple containing three elements:\n",
    "            - avg_acc (float): Average accuracy of the model on the validation data.\n",
    "            - avg_loss (float): Average loss of the model on the validation data.\n",
    "            - f1 (float): F1 score of the model on the validation data.\n",
    "    \"\"\"\n",
    "    model.eval()\n",
    "    total_acc, total_loss = 0, 0\n",
    "    y_true, y_pred = [], []\n",
    "    with torch.no_grad():\n",
    "        for text_batch, label_batch, lengths in dataloader:\n",
    "            text_batch, label_batch, lengths = text_batch.to(device), label_batch.to(device), lengths.to(device)\n",
    "            pred = model(text_batch, lengths)[:, 0]\n",
    "            loss = criterion(pred, label_batch)\n",
    "            total_acc += ((pred >= 0.5).float() == label_batch).float().sum().item()\n",
    "            total_loss += loss.item() * label_batch.size(0)\n",
    "            y_true.extend(label_batch.cpu().numpy())\n",
    "            y_pred.extend((pred >= 0.5).cpu().numpy())\n",
    "    avg_accuracy = total_acc / len(dataloader.dataset)\n",
    "    average_loss = total_loss / len(dataloader.dataset)\n",
    "    f1 = f1_score(y_true, y_pred)\n",
    "    \n",
    "    return avg_accuracy, average_loss, f1\n"
   ]
  },
  {
   "cell_type": "code",
   "execution_count": null,
   "metadata": {},
   "outputs": [],
   "source": []
  },
  {
   "cell_type": "code",
   "execution_count": 9,
   "metadata": {
    "execution": {
     "iopub.execute_input": "2024-01-30T04:44:33.983623Z",
     "iopub.status.busy": "2024-01-30T04:44:33.983362Z",
     "iopub.status.idle": "2024-01-30T04:44:38.978293Z",
     "shell.execute_reply": "2024-01-30T04:44:38.977511Z",
     "shell.execute_reply.started": "2024-01-30T04:44:33.983600Z"
    }
   },
   "outputs": [],
   "source": [
    "vocab = Vocabulary(freq_threshold=5, max_size=10000)\n",
    "vocab.build_vocabulary(train_df['comment'])"
   ]
  },
  {
   "cell_type": "code",
   "execution_count": 10,
   "metadata": {
    "execution": {
     "iopub.execute_input": "2024-01-30T04:44:38.979695Z",
     "iopub.status.busy": "2024-01-30T04:44:38.979410Z",
     "iopub.status.idle": "2024-01-30T04:44:38.985108Z",
     "shell.execute_reply": "2024-01-30T04:44:38.984150Z",
     "shell.execute_reply.started": "2024-01-30T04:44:38.979669Z"
    }
   },
   "outputs": [
    {
     "name": "stdout",
     "output_type": "stream",
     "text": [
      "['<PAD>', '<SOS>', '<EOS>', '<UNK>', 'بود', 'و', '.', '\\u200c', 'به', 'از', 'که', 'خیلی', '،', 'هم', 'غذا', 'کیفیت', 'خوب', 'با', 'عالی', 'سفارش', 'شده', 'NUM', 'ولی', 'این', 'در', 'رو', 'من', 'نبود', 'بسیار', 'پیتزا', '!', 'رسید', 'واقعا', 'اصلا', 'سرد', 'خوشمزه', 'فقط', 'ارسال', 'ها', 'طعم', 'یک', 'مرغ', 'ممنون', 'کم', 'همیشه', 'تازه', 'بد', 'پیک', '…', 'یه', 'تا', 'مزه', 'برای', 'بودم', 'سیب', 'داشت', 'کاملا', 'اما', 'نداشت', 'تحویل', 'همه', 'بودن', 'بسته', 'سس', 'بی', 'نان', 'شد', 'مثل', 'قیمت', 'گرم', 'رستوران', 'زمینی', 'شیرینی', 'اینکه', 'متاسفانه', 'دادم', 'ساندویچ', 'حجم', 'اسنپ', 'دیگه', 'نسبت', 'تو', 'بندی', 'ای', 'های', 'می', 'داده', 'پایین', 'نون', 'ساعت', 'سلام', 'کیک', 'سریع', 'راضی', 'بار', 'کرده', 'پنیر', 'فود', 'سالاد', 'دو', 'زیاد', 'گوشت', 'موقع', 'را', 'باشه', 'بعد', 'مونده', 'بیشتر', 'کباب', 'نیست', 'دستم', 'کل', 'خشک', 'جوجه', 'مشتری', 'قبل', 'دقیقه', 'است', 'زمان', 'هست', 'کنید', '-', 'نه', 'ما', '؟', 'چیز', 'هر', 'برنج', 'میشه', 'خوبی', 'شما', 'فوق', 'قابل', 'ممنونم', 'روی', 'نظر', 'بهتر', 'تاخیر', 'جای', 'تر', 'ی', 'استفاده', 'دیر', 'داغ', 'العاده', 'میداد', 'نشده', 'کردم', 'ریخته', 'یا', 'غذای', 'باید', 'خوش', 'هیچ', 'سوخاری', 'کمی', 'لطفا', 'تشکر', 'سوخته', 'داخل', 'خمیر', 'چی', 'مواد', 'بودند', 'خرید', 'مناسب', 'داره', 'معمولی', 'بدون', 'توی', 'افتضاح', 'چون', 'کلا', 'وقتی', 'دفعه', 'بشه', 'قارچ', ')', 'جعبه', 'اگر', 'توجه', 'کنم', ':', 'بوی', 'آب', 'برگر', 'طول', 'بالا', 'سیر', 'برخورد', 'یکی', 'زود', 'هزینه', 'مقدار', 'خام', 'دست', 'انگار', 'چرا', 'خوردن', 'نوشابه', 'یکم', 'روز', 'چرب', 'نمی', 'سفت', 'حتی', '(', 'اندازه', 'فرستادن', 'چیزی', 'کردن', 'کشید', 'خامه', 'روغن', 'نیم', 'پر', 'کمتر', 'مرسی', 'اون', 'دور', 'ظرف', 'توضیحات', 'میکنم', 'متاسفم', 'اگه', 'شور', 'شدت', 'خوبه', 'داشتم', 'گوجه', 'چند', 'درست', 'شدم', 'قبلا', 'همراه', 'بستنی', 'یخ', 'پیتزای', 'همین', 'باز', 'انتظار', 'گذاشته', 'تماس', 'پول', 'کهنه', 'فکر', 'امیدوارم', 'زده', 'کرد', 'بوده']\n"
     ]
    }
   ],
   "source": [
    "print(list(vocab.get_vocabularies().values())[:250])"
   ]
  },
  {
   "cell_type": "code",
   "execution_count": 11,
   "metadata": {
    "execution": {
     "iopub.execute_input": "2024-01-30T04:44:38.986513Z",
     "iopub.status.busy": "2024-01-30T04:44:38.986243Z",
     "iopub.status.idle": "2024-01-30T04:44:38.995456Z",
     "shell.execute_reply": "2024-01-30T04:44:38.994575Z",
     "shell.execute_reply.started": "2024-01-30T04:44:38.986489Z"
    }
   },
   "outputs": [],
   "source": [
    "train_dataset = CustomDataset(train_df)\n",
    "validation_dataset = CustomDataset(dev_df)\n",
    "test_dataset = CustomDataset(test_df)"
   ]
  },
  {
   "cell_type": "code",
   "execution_count": 12,
   "metadata": {
    "execution": {
     "iopub.execute_input": "2024-01-30T04:44:38.997053Z",
     "iopub.status.busy": "2024-01-30T04:44:38.996708Z",
     "iopub.status.idle": "2024-01-30T04:44:39.007201Z",
     "shell.execute_reply": "2024-01-30T04:44:39.006359Z",
     "shell.execute_reply.started": "2024-01-30T04:44:38.997015Z"
    }
   },
   "outputs": [],
   "source": [
    "batch_size = 64\n",
    "train_dl = DataLoader(train_dataset, batch_size=batch_size, shuffle=True, collate_fn=lambda batch: collate_batch(batch, vocab))\n",
    "valid_dl = DataLoader(validation_dataset, batch_size=batch_size, shuffle=False, collate_fn=lambda batch: collate_batch(batch, vocab))\n",
    "test_dl = DataLoader(test_dataset, batch_size=batch_size, shuffle=False, collate_fn=lambda batch: collate_batch(batch, vocab))"
   ]
  },
  {
   "cell_type": "code",
   "execution_count": 13,
   "metadata": {
    "execution": {
     "iopub.execute_input": "2024-01-30T04:44:39.011325Z",
     "iopub.status.busy": "2024-01-30T04:44:39.011052Z",
     "iopub.status.idle": "2024-01-30T04:44:39.241017Z",
     "shell.execute_reply": "2024-01-30T04:44:39.240018Z",
     "shell.execute_reply.started": "2024-01-30T04:44:39.011292Z"
    }
   },
   "outputs": [
    {
     "name": "stdout",
     "output_type": "stream",
     "text": [
      "cuda\n",
      "RNN(\n",
      "  (embedding): Embedding(5890, 32, padding_idx=0)\n",
      "  (rnn): LSTM(32, 8, num_layers=2, batch_first=True, dropout=0.5, bidirectional=True)\n",
      "  (fc1): Linear(in_features=16, out_features=8, bias=True)\n",
      "  (relu): ReLU()\n",
      "  (fc2): Linear(in_features=8, out_features=1, bias=True)\n",
      "  (sigmoid): Sigmoid()\n",
      ")\n"
     ]
    }
   ],
   "source": [
    "torch.manual_seed(1)\n",
    "\n",
    "device = 'cuda' if torch.cuda.is_available() else 'cpu'\n",
    "print(device)\n",
    "\n",
    "vocab_size = len(vocab)  \n",
    "embed_dim = 32  \n",
    "rnn_hidden_dim = 8\n",
    "fc_dim =  8\n",
    "\n",
    "model = RNN(vocab_size, embed_dim, rnn_hidden_dim, fc_dim).to(device)\n",
    "\n",
    "print(model)"
   ]
  },
  {
   "cell_type": "code",
   "execution_count": 14,
   "metadata": {
    "execution": {
     "iopub.execute_input": "2024-01-30T04:44:39.242642Z",
     "iopub.status.busy": "2024-01-30T04:44:39.242288Z",
     "iopub.status.idle": "2024-01-30T04:44:40.872996Z",
     "shell.execute_reply": "2024-01-30T04:44:40.872101Z",
     "shell.execute_reply.started": "2024-01-30T04:44:39.242605Z"
    }
   },
   "outputs": [],
   "source": [
    "criterion = nn.BCELoss()\n",
    "optimizer = torch.optim.Adam(model.parameters(), lr=0.01)\n",
    "scheduler = torch.optim.lr_scheduler.StepLR(optimizer, step_size=5, gamma=0.1)"
   ]
  },
  {
   "cell_type": "code",
   "execution_count": 15,
   "metadata": {
    "execution": {
     "iopub.execute_input": "2024-01-30T04:44:40.874602Z",
     "iopub.status.busy": "2024-01-30T04:44:40.874105Z",
     "iopub.status.idle": "2024-01-30T04:46:59.804901Z",
     "shell.execute_reply": "2024-01-30T04:46:59.803849Z",
     "shell.execute_reply.started": "2024-01-30T04:44:40.874564Z"
    }
   },
   "outputs": [
    {
     "name": "stderr",
     "output_type": "stream",
     "text": [
      " 20%|██        | 1/5 [00:28<01:54, 28.55s/it]"
     ]
    },
    {
     "name": "stdout",
     "output_type": "stream",
     "text": [
      "Epoch 0 *** acc_train: 0.8324 ****** acc_valid: 0.8581\n",
      "Epoch 0 *** loss_train: 0.3835 ****** loss_valid: 0.3355\n",
      "Epoch 0 *** f1_score_train: 0.8406 ****** f1_score_valid: 0.8681\n"
     ]
    },
    {
     "name": "stderr",
     "output_type": "stream",
     "text": [
      " 40%|████      | 2/5 [00:56<01:24, 28.11s/it]"
     ]
    },
    {
     "name": "stdout",
     "output_type": "stream",
     "text": [
      "Epoch 1 *** acc_train: 0.8698 ****** acc_valid: 0.8605\n",
      "Epoch 1 *** loss_train: 0.3145 ****** loss_valid: 0.3387\n",
      "Epoch 1 *** f1_score_train: 0.8756 ****** f1_score_valid: 0.8688\n"
     ]
    },
    {
     "name": "stderr",
     "output_type": "stream",
     "text": [
      " 60%|██████    | 3/5 [01:23<00:55, 27.88s/it]"
     ]
    },
    {
     "name": "stdout",
     "output_type": "stream",
     "text": [
      "Epoch 2 *** acc_train: 0.8791 ****** acc_valid: 0.8611\n",
      "Epoch 2 *** loss_train: 0.2915 ****** loss_valid: 0.3311\n",
      "Epoch 2 *** f1_score_train: 0.8840 ****** f1_score_valid: 0.8694\n"
     ]
    },
    {
     "name": "stderr",
     "output_type": "stream",
     "text": [
      " 80%|████████  | 4/5 [01:51<00:27, 27.72s/it]"
     ]
    },
    {
     "name": "stdout",
     "output_type": "stream",
     "text": [
      "Epoch 3 *** acc_train: 0.8873 ****** acc_valid: 0.8548\n",
      "Epoch 3 *** loss_train: 0.2733 ****** loss_valid: 0.3403\n",
      "Epoch 3 *** f1_score_train: 0.8915 ****** f1_score_valid: 0.8629\n"
     ]
    },
    {
     "name": "stderr",
     "output_type": "stream",
     "text": [
      "100%|██████████| 5/5 [02:18<00:00, 27.78s/it]"
     ]
    },
    {
     "name": "stdout",
     "output_type": "stream",
     "text": [
      "Epoch 4 *** acc_train: 0.8934 ****** acc_valid: 0.8560\n",
      "Epoch 4 *** loss_train: 0.2615 ****** loss_valid: 0.3521\n",
      "Epoch 4 *** f1_score_train: 0.8971 ****** f1_score_valid: 0.8589\n"
     ]
    },
    {
     "name": "stderr",
     "output_type": "stream",
     "text": [
      "\n"
     ]
    }
   ],
   "source": [
    "num_epochs = 5\n",
    "torch.manual_seed(1)\n",
    "\n",
    "train_acc_list, train_loss_list = [], []\n",
    "valid_acc_list, valid_loss_list = [], []\n",
    "train_f1_score_list, valid_f1_score_list = [], []\n",
    "\n",
    "for epoch in tqdm(range(num_epochs)):\n",
    "    acc_train, loss_train, f1_score_train = train(train_dl)\n",
    "    acc_valid, loss_valid, f1_score_valid = evaluate(valid_dl)\n",
    "    \n",
    "    train_acc_list.append(acc_train)\n",
    "    train_loss_list.append(loss_train)\n",
    "    train_f1_score_list.append(f1_score_train)\n",
    "    \n",
    "    valid_acc_list.append(acc_valid)\n",
    "    valid_loss_list.append(loss_valid)\n",
    "    valid_f1_score_list.append(f1_score_valid)\n",
    "    \n",
    "    print(f'Epoch {epoch} *** acc_train: {acc_train:.4f} ****** acc_valid: {acc_valid:.4f}')\n",
    "    print(f'Epoch {epoch} *** loss_train: {loss_train:.4f} ****** loss_valid: {loss_valid:.4f}')\n",
    "    print(f'Epoch {epoch} *** f1_score_train: {f1_score_train:.4f} ****** f1_score_valid: {f1_score_valid:.4f}')        "
   ]
  },
  {
   "cell_type": "code",
   "execution_count": 16,
   "metadata": {
    "execution": {
     "iopub.execute_input": "2024-01-30T04:46:59.806595Z",
     "iopub.status.busy": "2024-01-30T04:46:59.806231Z",
     "iopub.status.idle": "2024-01-30T04:47:00.613825Z",
     "shell.execute_reply": "2024-01-30T04:47:00.612852Z",
     "shell.execute_reply.started": "2024-01-30T04:46:59.806559Z"
    }
   },
   "outputs": [
    {
     "data": {
      "image/png": "[encoded data removed]",
      "text/plain": [
       "<Figure size 1500x500 with 3 Axes>"
      ]
     },
     "metadata": {},
     "output_type": "display_data"
    }
   ],
   "source": [
    "import matplotlib.pyplot as plt\n",
    "\n",
    "def plot_metric(ax, epochs_range, train_values, valid_values, metric_name):\n",
    "    \"\"\"\n",
    "    Plots a single metric (e.g., accuracy, loss, F1 score) over epochs.\n",
    "\n",
    "    Args:\n",
    "        ax (matplotlib.axes.Axes): The axes to plot on.\n",
    "        epochs (list): List of epoch numbers.\n",
    "        train_values (list): List of training values of the metric over epochs.\n",
    "        valid_values (list): List of validation values of the metric over epochs.\n",
    "        metric_name (str): Name of the metric (e.g., 'Accuracy', 'Loss', 'F1 Score').\n",
    "    \"\"\"\n",
    "    ax.plot(epochs_range, train_values, label=f'Training {metric_name}')\n",
    "    ax.plot(epochs_range, valid_values, label=f'Validation {metric_name}')\n",
    "    ax.set_title(f'{metric_name} over Epochs')\n",
    "    ax.set_xlabel('Epochs')\n",
    "    ax.set_ylabel(metric_name)\n",
    "    ax.legend()\n",
    "    ax.grid(True)\n",
    "\n",
    "epochs = range(1, num_epochs + 1)\n",
    "\n",
    "fig, (ax1, ax2, ax3) = plt.subplots(1, 3, figsize=(15, 5))\n",
    "\n",
    "plot_metric(ax1, epochs, train_acc_list, valid_acc_list, 'Accuracy')\n",
    "plot_metric(ax2, epochs, train_loss_list, valid_loss_list, 'Loss')\n",
    "plot_metric(ax3, epochs, train_f1_score_list, valid_f1_score_list, 'F1 Score')\n",
    "\n",
    "plt.tight_layout()\n",
    "plt.show()\n"
   ]
  },
  {
   "cell_type": "code",
   "execution_count": 17,
   "metadata": {
    "execution": {
     "iopub.execute_input": "2024-01-30T04:47:00.615278Z",
     "iopub.status.busy": "2024-01-30T04:47:00.614983Z",
     "iopub.status.idle": "2024-01-30T04:47:02.733970Z",
     "shell.execute_reply": "2024-01-30T04:47:02.733032Z",
     "shell.execute_reply.started": "2024-01-30T04:47:00.615251Z"
    }
   },
   "outputs": [
    {
     "name": "stdout",
     "output_type": "stream",
     "text": [
      "acc_test: 0.8569 ****** f1_score_test: 0.8582\n"
     ]
    }
   ],
   "source": [
    "acc_test, _, f1_score_test = evaluate(test_dl)\n",
    "print(f'acc_test: {acc_test:.4f} ****** f1_score_test: {f1_score_test:.4f}')"
   ]
  },
  {
   "cell_type": "code",
   "execution_count": 18,
   "metadata": {
    "execution": {
     "iopub.execute_input": "2024-01-30T04:47:02.735996Z",
     "iopub.status.busy": "2024-01-30T04:47:02.735579Z",
     "iopub.status.idle": "2024-01-30T04:47:02.745731Z",
     "shell.execute_reply": "2024-01-30T04:47:02.744656Z",
     "shell.execute_reply.started": "2024-01-30T04:47:02.735956Z"
    }
   },
   "outputs": [],
   "source": [
    "torch.save(model, 'model.pth')"
   ]
  },
  {
   "cell_type": "code",
   "execution_count": null,
   "metadata": {},
   "outputs": [],
   "source": []
  }
 ],
 "metadata": {
  "kaggle": {
   "accelerator": "nvidiaTeslaT4",
   "dataSources": [
    {
     "datasetId": 4364727,
     "sourceId": 7496023,
     "sourceType": "datasetVersion"
    }
   ],
   "isGpuEnabled": true,
   "isInternetEnabled": true,
   "language": "python",
   "sourceType": "notebook"
  },
  "kernelspec": {
   "display_name": "Python 3 (ipykernel)",
   "language": "python",
   "name": "python3"
  },
  "language_info": {
   "codemirror_mode": {
    "name": "ipython",
    "version": 3
   },
   "file_extension": ".py",
   "mimetype": "text/x-python",
   "name": "python",
   "nbconvert_exporter": "python",
   "pygments_lexer": "ipython3",
   "version": "3.11.5"
  }
 },
 "nbformat": 4,
 "nbformat_minor": 4
}
