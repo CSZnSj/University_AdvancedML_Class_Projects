{
 "cells": [
  {
   "cell_type": "markdown",
   "id": "0e63b158",
   "metadata": {
    "papermill": {
     "duration": 0.015957,
     "end_time": "2024-01-31T02:39:46.983477",
     "exception": false,
     "start_time": "2024-01-31T02:39:46.967520",
     "status": "completed"
    },
    "tags": []
   },
   "source": [
    "# import"
   ]
  },
  {
   "cell_type": "code",
   "execution_count": 1,
   "id": "4c48098e",
   "metadata": {
    "_cell_guid": "b1076dfc-b9ad-4769-8c92-a6c4dae69d19",
    "_uuid": "8f2839f25d086af736a60e9eeb907d3b93b6e0e5",
    "execution": {
     "iopub.execute_input": "2024-01-31T02:39:47.015345Z",
     "iopub.status.busy": "2024-01-31T02:39:47.015023Z",
     "iopub.status.idle": "2024-01-31T02:39:47.733261Z",
     "shell.execute_reply": "2024-01-31T02:39:47.732331Z"
    },
    "papermill": {
     "duration": 0.73666,
     "end_time": "2024-01-31T02:39:47.735501",
     "exception": false,
     "start_time": "2024-01-31T02:39:46.998841",
     "status": "completed"
    },
    "tags": []
   },
   "outputs": [
    {
     "name": "stdout",
     "output_type": "stream",
     "text": [
      "/kaggle/input/daigt-proper-train-dataset/train_drcat_03.csv\n",
      "/kaggle/input/daigt-proper-train-dataset/train_drcat_02.csv\n",
      "/kaggle/input/daigt-proper-train-dataset/train_drcat_04.csv\n",
      "/kaggle/input/daigt-proper-train-dataset/train_drcat_01.csv\n",
      "/kaggle/input/llm-detect-ai-generated-text/sample_submission.csv\n",
      "/kaggle/input/llm-detect-ai-generated-text/train_prompts.csv\n",
      "/kaggle/input/llm-detect-ai-generated-text/test_essays.csv\n",
      "/kaggle/input/llm-detect-ai-generated-text/train_essays.csv\n"
     ]
    }
   ],
   "source": [
    "# This Python 3 environment comes with many helpful analytics libraries installed\n",
    "# It is defined by the kaggle/python Docker image: https://github.com/kaggle/docker-python\n",
    "# For example, here's several helpful packages to load\n",
    "\n",
    "import numpy as np # linear algebra\n",
    "import pandas as pd # data processing, CSV file I/O (e.g. pd.read_csv)\n",
    "\n",
    "# Input data files are available in the read-only \"../input/\" directory\n",
    "# For example, running this (by clicking run or pressing Shift+Enter) will list all files under the input directory\n",
    "\n",
    "import os\n",
    "for dirname, _, filenames in os.walk('/kaggle/input'):\n",
    "    for filename in filenames:\n",
    "        print(os.path.join(dirname, filename))\n",
    "\n",
    "# You can write up to 20GB to the current directory (/kaggle/working/) that gets preserved as output when you create a version using \"Save & Run All\" \n",
    "# You can also write temporary files to /kaggle/temp/, but they won't be saved outside of the current session"
   ]
  },
  {
   "cell_type": "code",
   "execution_count": 2,
   "id": "263ee7e6",
   "metadata": {
    "execution": {
     "iopub.execute_input": "2024-01-31T02:39:47.768883Z",
     "iopub.status.busy": "2024-01-31T02:39:47.768472Z",
     "iopub.status.idle": "2024-01-31T02:40:00.781394Z",
     "shell.execute_reply": "2024-01-31T02:40:00.780126Z"
    },
    "papermill": {
     "duration": 13.033238,
     "end_time": "2024-01-31T02:40:00.784525",
     "exception": false,
     "start_time": "2024-01-31T02:39:47.751287",
     "status": "completed"
    },
    "tags": []
   },
   "outputs": [],
   "source": [
    "! pip install -q squarify"
   ]
  },
  {
   "cell_type": "code",
   "execution_count": 3,
   "id": "d315af2f",
   "metadata": {
    "execution": {
     "iopub.execute_input": "2024-01-31T02:40:00.825613Z",
     "iopub.status.busy": "2024-01-31T02:40:00.825246Z",
     "iopub.status.idle": "2024-01-31T02:40:00.831862Z",
     "shell.execute_reply": "2024-01-31T02:40:00.831029Z"
    },
    "papermill": {
     "duration": 0.028621,
     "end_time": "2024-01-31T02:40:00.833842",
     "exception": false,
     "start_time": "2024-01-31T02:40:00.805221",
     "status": "completed"
    },
    "tags": []
   },
   "outputs": [],
   "source": [
    "import matplotlib.pyplot as plt\n",
    "import squarify"
   ]
  },
  {
   "cell_type": "code",
   "execution_count": 4,
   "id": "9bf47e09",
   "metadata": {
    "execution": {
     "iopub.execute_input": "2024-01-31T02:40:00.869966Z",
     "iopub.status.busy": "2024-01-31T02:40:00.869684Z",
     "iopub.status.idle": "2024-01-31T02:40:06.517394Z",
     "shell.execute_reply": "2024-01-31T02:40:06.516609Z"
    },
    "papermill": {
     "duration": 5.66997,
     "end_time": "2024-01-31T02:40:06.519642",
     "exception": false,
     "start_time": "2024-01-31T02:40:00.849672",
     "status": "completed"
    },
    "tags": []
   },
   "outputs": [],
   "source": [
    "org_train = pd.read_csv(\"/kaggle/input/llm-detect-ai-generated-text/train_essays.csv\")\n",
    "new_train = pd.read_csv(\"/kaggle/input/daigt-proper-train-dataset/train_drcat_02.csv\")\n",
    "test_candidate = pd.read_csv(\"/kaggle/input/daigt-proper-train-dataset/train_drcat_04.csv\")"
   ]
  },
  {
   "cell_type": "markdown",
   "id": "e11bc042",
   "metadata": {
    "papermill": {
     "duration": 0.015185,
     "end_time": "2024-01-31T02:40:06.550644",
     "exception": false,
     "start_time": "2024-01-31T02:40:06.535459",
     "status": "completed"
    },
    "tags": []
   },
   "source": [
    "# EDA : org_train"
   ]
  },
  {
   "cell_type": "code",
   "execution_count": 5,
   "id": "965e4c57",
   "metadata": {
    "execution": {
     "iopub.execute_input": "2024-01-31T02:40:06.582372Z",
     "iopub.status.busy": "2024-01-31T02:40:06.582049Z",
     "iopub.status.idle": "2024-01-31T02:40:06.603554Z",
     "shell.execute_reply": "2024-01-31T02:40:06.602755Z"
    },
    "papermill": {
     "duration": 0.039954,
     "end_time": "2024-01-31T02:40:06.605868",
     "exception": false,
     "start_time": "2024-01-31T02:40:06.565914",
     "status": "completed"
    },
    "tags": []
   },
   "outputs": [
    {
     "data": {
      "text/html": [
       "<div>\n",
       "<style scoped>\n",
       "    .dataframe tbody tr th:only-of-type {\n",
       "        vertical-align: middle;\n",
       "    }\n",
       "\n",
       "    .dataframe tbody tr th {\n",
       "        vertical-align: top;\n",
       "    }\n",
       "\n",
       "    .dataframe thead th {\n",
       "        text-align: right;\n",
       "    }\n",
       "</style>\n",
       "<table border=\"1\" class=\"dataframe\">\n",
       "  <thead>\n",
       "    <tr style=\"text-align: right;\">\n",
       "      <th></th>\n",
       "      <th>id</th>\n",
       "      <th>prompt_id</th>\n",
       "      <th>text</th>\n",
       "      <th>generated</th>\n",
       "    </tr>\n",
       "  </thead>\n",
       "  <tbody>\n",
       "    <tr>\n",
       "      <th>0</th>\n",
       "      <td>0059830c</td>\n",
       "      <td>0</td>\n",
       "      <td>Cars. Cars have been around since they became ...</td>\n",
       "      <td>0</td>\n",
       "    </tr>\n",
       "    <tr>\n",
       "      <th>1</th>\n",
       "      <td>005db917</td>\n",
       "      <td>0</td>\n",
       "      <td>Transportation is a large necessity in most co...</td>\n",
       "      <td>0</td>\n",
       "    </tr>\n",
       "    <tr>\n",
       "      <th>2</th>\n",
       "      <td>008f63e3</td>\n",
       "      <td>0</td>\n",
       "      <td>\"America's love affair with it's vehicles seem...</td>\n",
       "      <td>0</td>\n",
       "    </tr>\n",
       "    <tr>\n",
       "      <th>3</th>\n",
       "      <td>00940276</td>\n",
       "      <td>0</td>\n",
       "      <td>How often do you ride in a car? Do you drive a...</td>\n",
       "      <td>0</td>\n",
       "    </tr>\n",
       "    <tr>\n",
       "      <th>4</th>\n",
       "      <td>00c39458</td>\n",
       "      <td>0</td>\n",
       "      <td>Cars are a wonderful thing. They are perhaps o...</td>\n",
       "      <td>0</td>\n",
       "    </tr>\n",
       "    <tr>\n",
       "      <th>...</th>\n",
       "      <td>...</td>\n",
       "      <td>...</td>\n",
       "      <td>...</td>\n",
       "      <td>...</td>\n",
       "    </tr>\n",
       "    <tr>\n",
       "      <th>1373</th>\n",
       "      <td>fe6ff9a5</td>\n",
       "      <td>1</td>\n",
       "      <td>There has been a fuss about the Elector Colleg...</td>\n",
       "      <td>0</td>\n",
       "    </tr>\n",
       "    <tr>\n",
       "      <th>1374</th>\n",
       "      <td>ff669174</td>\n",
       "      <td>0</td>\n",
       "      <td>Limiting car usage has many advantages. Such a...</td>\n",
       "      <td>0</td>\n",
       "    </tr>\n",
       "    <tr>\n",
       "      <th>1375</th>\n",
       "      <td>ffa247e0</td>\n",
       "      <td>0</td>\n",
       "      <td>There's a new trend that has been developing f...</td>\n",
       "      <td>0</td>\n",
       "    </tr>\n",
       "    <tr>\n",
       "      <th>1376</th>\n",
       "      <td>ffc237e9</td>\n",
       "      <td>0</td>\n",
       "      <td>As we all know cars are a big part of our soci...</td>\n",
       "      <td>0</td>\n",
       "    </tr>\n",
       "    <tr>\n",
       "      <th>1377</th>\n",
       "      <td>ffe1ca0d</td>\n",
       "      <td>0</td>\n",
       "      <td>Cars have been around since the 1800's and hav...</td>\n",
       "      <td>0</td>\n",
       "    </tr>\n",
       "  </tbody>\n",
       "</table>\n",
       "<p>1378 rows × 4 columns</p>\n",
       "</div>"
      ],
      "text/plain": [
       "            id  prompt_id                                               text  \\\n",
       "0     0059830c          0  Cars. Cars have been around since they became ...   \n",
       "1     005db917          0  Transportation is a large necessity in most co...   \n",
       "2     008f63e3          0  \"America's love affair with it's vehicles seem...   \n",
       "3     00940276          0  How often do you ride in a car? Do you drive a...   \n",
       "4     00c39458          0  Cars are a wonderful thing. They are perhaps o...   \n",
       "...        ...        ...                                                ...   \n",
       "1373  fe6ff9a5          1  There has been a fuss about the Elector Colleg...   \n",
       "1374  ff669174          0  Limiting car usage has many advantages. Such a...   \n",
       "1375  ffa247e0          0  There's a new trend that has been developing f...   \n",
       "1376  ffc237e9          0  As we all know cars are a big part of our soci...   \n",
       "1377  ffe1ca0d          0  Cars have been around since the 1800's and hav...   \n",
       "\n",
       "      generated  \n",
       "0             0  \n",
       "1             0  \n",
       "2             0  \n",
       "3             0  \n",
       "4             0  \n",
       "...         ...  \n",
       "1373          0  \n",
       "1374          0  \n",
       "1375          0  \n",
       "1376          0  \n",
       "1377          0  \n",
       "\n",
       "[1378 rows x 4 columns]"
      ]
     },
     "execution_count": 5,
     "metadata": {},
     "output_type": "execute_result"
    }
   ],
   "source": [
    "org_train"
   ]
  },
  {
   "cell_type": "code",
   "execution_count": 6,
   "id": "b9febe3c",
   "metadata": {
    "execution": {
     "iopub.execute_input": "2024-01-31T02:40:06.638531Z",
     "iopub.status.busy": "2024-01-31T02:40:06.638266Z",
     "iopub.status.idle": "2024-01-31T02:40:06.658223Z",
     "shell.execute_reply": "2024-01-31T02:40:06.657311Z"
    },
    "papermill": {
     "duration": 0.03829,
     "end_time": "2024-01-31T02:40:06.660029",
     "exception": false,
     "start_time": "2024-01-31T02:40:06.621739",
     "status": "completed"
    },
    "tags": []
   },
   "outputs": [
    {
     "name": "stdout",
     "output_type": "stream",
     "text": [
      "<class 'pandas.core.frame.DataFrame'>\n",
      "RangeIndex: 1378 entries, 0 to 1377\n",
      "Data columns (total 4 columns):\n",
      " #   Column     Non-Null Count  Dtype \n",
      "---  ------     --------------  ----- \n",
      " 0   id         1378 non-null   object\n",
      " 1   prompt_id  1378 non-null   int64 \n",
      " 2   text       1378 non-null   object\n",
      " 3   generated  1378 non-null   int64 \n",
      "dtypes: int64(2), object(2)\n",
      "memory usage: 43.2+ KB\n"
     ]
    }
   ],
   "source": [
    "org_train.info()"
   ]
  },
  {
   "cell_type": "code",
   "execution_count": 7,
   "id": "57c048c5",
   "metadata": {
    "execution": {
     "iopub.execute_input": "2024-01-31T02:40:06.692556Z",
     "iopub.status.busy": "2024-01-31T02:40:06.692295Z",
     "iopub.status.idle": "2024-01-31T02:40:06.698098Z",
     "shell.execute_reply": "2024-01-31T02:40:06.697254Z"
    },
    "papermill": {
     "duration": 0.024475,
     "end_time": "2024-01-31T02:40:06.700387",
     "exception": false,
     "start_time": "2024-01-31T02:40:06.675912",
     "status": "completed"
    },
    "tags": []
   },
   "outputs": [
    {
     "data": {
      "text/plain": [
       "(1378, 1378)"
      ]
     },
     "execution_count": 7,
     "metadata": {},
     "output_type": "execute_result"
    }
   ],
   "source": [
    "org_train[\"id\"].nunique(), len(org_train)"
   ]
  },
  {
   "cell_type": "code",
   "execution_count": 8,
   "id": "b19f4341",
   "metadata": {
    "execution": {
     "iopub.execute_input": "2024-01-31T02:40:06.733293Z",
     "iopub.status.busy": "2024-01-31T02:40:06.733015Z",
     "iopub.status.idle": "2024-01-31T02:40:06.741088Z",
     "shell.execute_reply": "2024-01-31T02:40:06.740247Z"
    },
    "papermill": {
     "duration": 0.026362,
     "end_time": "2024-01-31T02:40:06.742877",
     "exception": false,
     "start_time": "2024-01-31T02:40:06.716515",
     "status": "completed"
    },
    "tags": []
   },
   "outputs": [
    {
     "data": {
      "text/plain": [
       "0"
      ]
     },
     "execution_count": 8,
     "metadata": {},
     "output_type": "execute_result"
    }
   ],
   "source": [
    "org_train.duplicated('text').sum()"
   ]
  },
  {
   "cell_type": "code",
   "execution_count": 9,
   "id": "84744c2d",
   "metadata": {
    "execution": {
     "iopub.execute_input": "2024-01-31T02:40:06.775708Z",
     "iopub.status.busy": "2024-01-31T02:40:06.775474Z",
     "iopub.status.idle": "2024-01-31T02:40:06.930694Z",
     "shell.execute_reply": "2024-01-31T02:40:06.929801Z"
    },
    "papermill": {
     "duration": 0.173963,
     "end_time": "2024-01-31T02:40:06.932825",
     "exception": false,
     "start_time": "2024-01-31T02:40:06.758862",
     "status": "completed"
    },
    "tags": []
   },
   "outputs": [
    {
     "name": "stdout",
     "output_type": "stream",
     "text": [
      "generated\n",
      "0    1375\n",
      "1       3\n",
      "Name: count, dtype: int64\n"
     ]
    },
    {
     "data": {
      "image/png": "[encoded data removed]",
      "text/plain": [
       "<Figure size 640x480 with 1 Axes>"
      ]
     },
     "metadata": {},
     "output_type": "display_data"
    }
   ],
   "source": [
    "generated_value_counts = org_train[\"generated\"].value_counts()\n",
    "print(generated_value_counts)\n",
    "generated_value_counts.plot.pie(autopct='%1.1f%%');"
   ]
  },
  {
   "cell_type": "markdown",
   "id": "ff0d943b",
   "metadata": {
    "papermill": {
     "duration": 0.017303,
     "end_time": "2024-01-31T02:40:06.969374",
     "exception": false,
     "start_time": "2024-01-31T02:40:06.952071",
     "status": "completed"
    },
    "tags": []
   },
   "source": [
    "# EDA : new_train"
   ]
  },
  {
   "cell_type": "code",
   "execution_count": 10,
   "id": "7e626939",
   "metadata": {
    "execution": {
     "iopub.execute_input": "2024-01-31T02:40:07.005813Z",
     "iopub.status.busy": "2024-01-31T02:40:07.005542Z",
     "iopub.status.idle": "2024-01-31T02:40:07.019180Z",
     "shell.execute_reply": "2024-01-31T02:40:07.018279Z"
    },
    "papermill": {
     "duration": 0.034798,
     "end_time": "2024-01-31T02:40:07.021650",
     "exception": false,
     "start_time": "2024-01-31T02:40:06.986852",
     "status": "completed"
    },
    "tags": []
   },
   "outputs": [
    {
     "data": {
      "text/html": [
       "<div>\n",
       "<style scoped>\n",
       "    .dataframe tbody tr th:only-of-type {\n",
       "        vertical-align: middle;\n",
       "    }\n",
       "\n",
       "    .dataframe tbody tr th {\n",
       "        vertical-align: top;\n",
       "    }\n",
       "\n",
       "    .dataframe thead th {\n",
       "        text-align: right;\n",
       "    }\n",
       "</style>\n",
       "<table border=\"1\" class=\"dataframe\">\n",
       "  <thead>\n",
       "    <tr style=\"text-align: right;\">\n",
       "      <th></th>\n",
       "      <th>essay_id</th>\n",
       "      <th>text</th>\n",
       "      <th>label</th>\n",
       "      <th>source</th>\n",
       "      <th>prompt</th>\n",
       "      <th>fold</th>\n",
       "    </tr>\n",
       "  </thead>\n",
       "  <tbody>\n",
       "    <tr>\n",
       "      <th>0</th>\n",
       "      <td>E0B86027C5C5</td>\n",
       "      <td>Okay, here is my essay:\\n\\nWorking or doing th...</td>\n",
       "      <td>1</td>\n",
       "      <td>llama2_chat</td>\n",
       "      <td>Task: \\n\\n1. Research the benefits of working ...</td>\n",
       "      <td>1</td>\n",
       "    </tr>\n",
       "    <tr>\n",
       "      <th>1</th>\n",
       "      <td>8B9EEF86DD66</td>\n",
       "      <td>Dear Principal,\\r\\n\\r\\nI just want to let you ...</td>\n",
       "      <td>0</td>\n",
       "      <td>original_moth</td>\n",
       "      <td>Task: Research the effects of implementing a p...</td>\n",
       "      <td>2</td>\n",
       "    </tr>\n",
       "    <tr>\n",
       "      <th>2</th>\n",
       "      <td>116FB053BEC7</td>\n",
       "      <td>I believe they should change the voting to pop...</td>\n",
       "      <td>0</td>\n",
       "      <td>persuade_corpus</td>\n",
       "      <td>NaN</td>\n",
       "      <td>9</td>\n",
       "    </tr>\n",
       "    <tr>\n",
       "      <th>3</th>\n",
       "      <td>A72A4397F9F5</td>\n",
       "      <td>One example of an inspiring individual who has...</td>\n",
       "      <td>1</td>\n",
       "      <td>chat_gpt_moth</td>\n",
       "      <td>Task: Analyze examples of inspiring people who...</td>\n",
       "      <td>0</td>\n",
       "    </tr>\n",
       "    <tr>\n",
       "      <th>4</th>\n",
       "      <td>D90A159EDD27</td>\n",
       "      <td>Dear Mr. Principal,\\n\\nI believe that students...</td>\n",
       "      <td>0</td>\n",
       "      <td>persuade_corpus</td>\n",
       "      <td>NaN</td>\n",
       "      <td>5</td>\n",
       "    </tr>\n",
       "    <tr>\n",
       "      <th>...</th>\n",
       "      <td>...</td>\n",
       "      <td>...</td>\n",
       "      <td>...</td>\n",
       "      <td>...</td>\n",
       "      <td>...</td>\n",
       "      <td>...</td>\n",
       "    </tr>\n",
       "    <tr>\n",
       "      <th>39780</th>\n",
       "      <td>F7341069C4A4</td>\n",
       "      <td>\"Oh man I didn't make the soccer team!\", yelle...</td>\n",
       "      <td>0</td>\n",
       "      <td>persuade_corpus</td>\n",
       "      <td>NaN</td>\n",
       "      <td>4</td>\n",
       "    </tr>\n",
       "    <tr>\n",
       "      <th>39781</th>\n",
       "      <td>AFE6E553DAC2</td>\n",
       "      <td>I believe that using this technology could be ...</td>\n",
       "      <td>0</td>\n",
       "      <td>persuade_corpus</td>\n",
       "      <td>NaN</td>\n",
       "      <td>2</td>\n",
       "    </tr>\n",
       "    <tr>\n",
       "      <th>39782</th>\n",
       "      <td>falcon_180b_v1_600</td>\n",
       "      <td>The Face on Mars is a fascinating phenomenon t...</td>\n",
       "      <td>1</td>\n",
       "      <td>falcon_180b_v1</td>\n",
       "      <td>You have read the article 'Unmasking the Face ...</td>\n",
       "      <td>2</td>\n",
       "    </tr>\n",
       "    <tr>\n",
       "      <th>39783</th>\n",
       "      <td>A5F84C104693</td>\n",
       "      <td>Texting &amp; Driving\\n\\nUsing your phone while dr...</td>\n",
       "      <td>0</td>\n",
       "      <td>persuade_corpus</td>\n",
       "      <td>NaN</td>\n",
       "      <td>2</td>\n",
       "    </tr>\n",
       "    <tr>\n",
       "      <th>39784</th>\n",
       "      <td>A148C659E98B</td>\n",
       "      <td>Dear Principal,\\n\\nI have been really good thi...</td>\n",
       "      <td>0</td>\n",
       "      <td>persuade_corpus</td>\n",
       "      <td>NaN</td>\n",
       "      <td>4</td>\n",
       "    </tr>\n",
       "  </tbody>\n",
       "</table>\n",
       "<p>39785 rows × 6 columns</p>\n",
       "</div>"
      ],
      "text/plain": [
       "                 essay_id                                               text  \\\n",
       "0            E0B86027C5C5  Okay, here is my essay:\\n\\nWorking or doing th...   \n",
       "1            8B9EEF86DD66  Dear Principal,\\r\\n\\r\\nI just want to let you ...   \n",
       "2            116FB053BEC7  I believe they should change the voting to pop...   \n",
       "3            A72A4397F9F5  One example of an inspiring individual who has...   \n",
       "4            D90A159EDD27  Dear Mr. Principal,\\n\\nI believe that students...   \n",
       "...                   ...                                                ...   \n",
       "39780        F7341069C4A4  \"Oh man I didn't make the soccer team!\", yelle...   \n",
       "39781        AFE6E553DAC2  I believe that using this technology could be ...   \n",
       "39782  falcon_180b_v1_600  The Face on Mars is a fascinating phenomenon t...   \n",
       "39783        A5F84C104693  Texting & Driving\\n\\nUsing your phone while dr...   \n",
       "39784        A148C659E98B  Dear Principal,\\n\\nI have been really good thi...   \n",
       "\n",
       "       label           source  \\\n",
       "0          1      llama2_chat   \n",
       "1          0    original_moth   \n",
       "2          0  persuade_corpus   \n",
       "3          1    chat_gpt_moth   \n",
       "4          0  persuade_corpus   \n",
       "...      ...              ...   \n",
       "39780      0  persuade_corpus   \n",
       "39781      0  persuade_corpus   \n",
       "39782      1   falcon_180b_v1   \n",
       "39783      0  persuade_corpus   \n",
       "39784      0  persuade_corpus   \n",
       "\n",
       "                                                  prompt  fold  \n",
       "0      Task: \\n\\n1. Research the benefits of working ...     1  \n",
       "1      Task: Research the effects of implementing a p...     2  \n",
       "2                                                    NaN     9  \n",
       "3      Task: Analyze examples of inspiring people who...     0  \n",
       "4                                                    NaN     5  \n",
       "...                                                  ...   ...  \n",
       "39780                                                NaN     4  \n",
       "39781                                                NaN     2  \n",
       "39782  You have read the article 'Unmasking the Face ...     2  \n",
       "39783                                                NaN     2  \n",
       "39784                                                NaN     4  \n",
       "\n",
       "[39785 rows x 6 columns]"
      ]
     },
     "execution_count": 10,
     "metadata": {},
     "output_type": "execute_result"
    }
   ],
   "source": [
    "new_train"
   ]
  },
  {
   "cell_type": "code",
   "execution_count": 11,
   "id": "da306669",
   "metadata": {
    "execution": {
     "iopub.execute_input": "2024-01-31T02:40:07.059565Z",
     "iopub.status.busy": "2024-01-31T02:40:07.059049Z",
     "iopub.status.idle": "2024-01-31T02:40:07.084431Z",
     "shell.execute_reply": "2024-01-31T02:40:07.083224Z"
    },
    "papermill": {
     "duration": 0.045752,
     "end_time": "2024-01-31T02:40:07.086619",
     "exception": false,
     "start_time": "2024-01-31T02:40:07.040867",
     "status": "completed"
    },
    "tags": []
   },
   "outputs": [
    {
     "name": "stdout",
     "output_type": "stream",
     "text": [
      "<class 'pandas.core.frame.DataFrame'>\n",
      "RangeIndex: 39785 entries, 0 to 39784\n",
      "Data columns (total 6 columns):\n",
      " #   Column    Non-Null Count  Dtype \n",
      "---  ------    --------------  ----- \n",
      " 0   essay_id  39785 non-null  object\n",
      " 1   text      39785 non-null  object\n",
      " 2   label     39785 non-null  int64 \n",
      " 3   source    39785 non-null  object\n",
      " 4   prompt    9490 non-null   object\n",
      " 5   fold      39785 non-null  int64 \n",
      "dtypes: int64(2), object(4)\n",
      "memory usage: 1.8+ MB\n"
     ]
    }
   ],
   "source": [
    "new_train.info()"
   ]
  },
  {
   "cell_type": "code",
   "execution_count": 12,
   "id": "63913f15",
   "metadata": {
    "execution": {
     "iopub.execute_input": "2024-01-31T02:40:07.123095Z",
     "iopub.status.busy": "2024-01-31T02:40:07.122592Z",
     "iopub.status.idle": "2024-01-31T02:40:07.145230Z",
     "shell.execute_reply": "2024-01-31T02:40:07.144315Z"
    },
    "papermill": {
     "duration": 0.04214,
     "end_time": "2024-01-31T02:40:07.147050",
     "exception": false,
     "start_time": "2024-01-31T02:40:07.104910",
     "status": "completed"
    },
    "tags": []
   },
   "outputs": [
    {
     "data": {
      "text/plain": [
       "essay_id        0\n",
       "text            0\n",
       "label           0\n",
       "source          0\n",
       "prompt      30295\n",
       "fold            0\n",
       "dtype: int64"
      ]
     },
     "execution_count": 12,
     "metadata": {},
     "output_type": "execute_result"
    }
   ],
   "source": [
    "new_train.isna().sum()"
   ]
  },
  {
   "cell_type": "code",
   "execution_count": 13,
   "id": "7729413f",
   "metadata": {
    "execution": {
     "iopub.execute_input": "2024-01-31T02:40:07.182737Z",
     "iopub.status.busy": "2024-01-31T02:40:07.182435Z",
     "iopub.status.idle": "2024-01-31T02:40:07.281801Z",
     "shell.execute_reply": "2024-01-31T02:40:07.281014Z"
    },
    "papermill": {
     "duration": 0.119424,
     "end_time": "2024-01-31T02:40:07.283932",
     "exception": false,
     "start_time": "2024-01-31T02:40:07.164508",
     "status": "completed"
    },
    "tags": []
   },
   "outputs": [
    {
     "name": "stdout",
     "output_type": "stream",
     "text": [
      "label\n",
      "0    29792\n",
      "1     9993\n",
      "Name: count, dtype: int64\n"
     ]
    },
    {
     "data": {
      "text/plain": [
       "<Axes: ylabel='count'>"
      ]
     },
     "execution_count": 13,
     "metadata": {},
     "output_type": "execute_result"
    },
    {
     "data": {
      "image/png": "[encoded data removed]",
      "text/plain": [
       "<Figure size 640x480 with 1 Axes>"
      ]
     },
     "metadata": {},
     "output_type": "display_data"
    }
   ],
   "source": [
    "label_value_counts = new_train[\"label\"].value_counts()\n",
    "print(label_value_counts)\n",
    "label_value_counts.plot.pie(autopct='%1.1f%%')"
   ]
  },
  {
   "cell_type": "code",
   "execution_count": 14,
   "id": "a9770352",
   "metadata": {
    "execution": {
     "iopub.execute_input": "2024-01-31T02:40:07.320533Z",
     "iopub.status.busy": "2024-01-31T02:40:07.320290Z",
     "iopub.status.idle": "2024-01-31T02:40:07.380846Z",
     "shell.execute_reply": "2024-01-31T02:40:07.380021Z"
    },
    "papermill": {
     "duration": 0.080994,
     "end_time": "2024-01-31T02:40:07.382810",
     "exception": false,
     "start_time": "2024-01-31T02:40:07.301816",
     "status": "completed"
    },
    "tags": []
   },
   "outputs": [
    {
     "data": {
      "text/plain": [
       "51"
      ]
     },
     "execution_count": 14,
     "metadata": {},
     "output_type": "execute_result"
    }
   ],
   "source": [
    "new_train.duplicated('text').sum()"
   ]
  },
  {
   "cell_type": "code",
   "execution_count": 15,
   "id": "9e8e441e",
   "metadata": {
    "execution": {
     "iopub.execute_input": "2024-01-31T02:40:07.419448Z",
     "iopub.status.busy": "2024-01-31T02:40:07.419206Z",
     "iopub.status.idle": "2024-01-31T02:40:07.441545Z",
     "shell.execute_reply": "2024-01-31T02:40:07.440756Z"
    },
    "papermill": {
     "duration": 0.043221,
     "end_time": "2024-01-31T02:40:07.443682",
     "exception": false,
     "start_time": "2024-01-31T02:40:07.400461",
     "status": "completed"
    },
    "tags": []
   },
   "outputs": [
    {
     "data": {
      "text/html": [
       "<div>\n",
       "<style scoped>\n",
       "    .dataframe tbody tr th:only-of-type {\n",
       "        vertical-align: middle;\n",
       "    }\n",
       "\n",
       "    .dataframe tbody tr th {\n",
       "        vertical-align: top;\n",
       "    }\n",
       "\n",
       "    .dataframe thead th {\n",
       "        text-align: right;\n",
       "    }\n",
       "</style>\n",
       "<table border=\"1\" class=\"dataframe\">\n",
       "  <thead>\n",
       "    <tr style=\"text-align: right;\">\n",
       "      <th></th>\n",
       "      <th>essay_id</th>\n",
       "      <th>text</th>\n",
       "      <th>label</th>\n",
       "      <th>source</th>\n",
       "      <th>prompt</th>\n",
       "      <th>fold</th>\n",
       "    </tr>\n",
       "  </thead>\n",
       "  <tbody>\n",
       "    <tr>\n",
       "      <th>0</th>\n",
       "      <td>E0B86027C5C5</td>\n",
       "      <td>Okay, here is my essay:\\n\\nWorking or doing th...</td>\n",
       "      <td>1</td>\n",
       "      <td>llama2_chat</td>\n",
       "      <td>Task: \\n\\n1. Research the benefits of working ...</td>\n",
       "      <td>1</td>\n",
       "    </tr>\n",
       "    <tr>\n",
       "      <th>1</th>\n",
       "      <td>8B9EEF86DD66</td>\n",
       "      <td>Dear Principal,\\r\\n\\r\\nI just want to let you ...</td>\n",
       "      <td>0</td>\n",
       "      <td>original_moth</td>\n",
       "      <td>Task: Research the effects of implementing a p...</td>\n",
       "      <td>2</td>\n",
       "    </tr>\n",
       "    <tr>\n",
       "      <th>2</th>\n",
       "      <td>116FB053BEC7</td>\n",
       "      <td>I believe they should change the voting to pop...</td>\n",
       "      <td>0</td>\n",
       "      <td>persuade_corpus</td>\n",
       "      <td>NaN</td>\n",
       "      <td>9</td>\n",
       "    </tr>\n",
       "    <tr>\n",
       "      <th>3</th>\n",
       "      <td>A72A4397F9F5</td>\n",
       "      <td>One example of an inspiring individual who has...</td>\n",
       "      <td>1</td>\n",
       "      <td>chat_gpt_moth</td>\n",
       "      <td>Task: Analyze examples of inspiring people who...</td>\n",
       "      <td>0</td>\n",
       "    </tr>\n",
       "    <tr>\n",
       "      <th>4</th>\n",
       "      <td>D90A159EDD27</td>\n",
       "      <td>Dear Mr. Principal,\\n\\nI believe that students...</td>\n",
       "      <td>0</td>\n",
       "      <td>persuade_corpus</td>\n",
       "      <td>NaN</td>\n",
       "      <td>5</td>\n",
       "    </tr>\n",
       "    <tr>\n",
       "      <th>...</th>\n",
       "      <td>...</td>\n",
       "      <td>...</td>\n",
       "      <td>...</td>\n",
       "      <td>...</td>\n",
       "      <td>...</td>\n",
       "      <td>...</td>\n",
       "    </tr>\n",
       "    <tr>\n",
       "      <th>39780</th>\n",
       "      <td>F7341069C4A4</td>\n",
       "      <td>\"Oh man I didn't make the soccer team!\", yelle...</td>\n",
       "      <td>0</td>\n",
       "      <td>persuade_corpus</td>\n",
       "      <td>NaN</td>\n",
       "      <td>4</td>\n",
       "    </tr>\n",
       "    <tr>\n",
       "      <th>39781</th>\n",
       "      <td>AFE6E553DAC2</td>\n",
       "      <td>I believe that using this technology could be ...</td>\n",
       "      <td>0</td>\n",
       "      <td>persuade_corpus</td>\n",
       "      <td>NaN</td>\n",
       "      <td>2</td>\n",
       "    </tr>\n",
       "    <tr>\n",
       "      <th>39782</th>\n",
       "      <td>falcon_180b_v1_600</td>\n",
       "      <td>The Face on Mars is a fascinating phenomenon t...</td>\n",
       "      <td>1</td>\n",
       "      <td>falcon_180b_v1</td>\n",
       "      <td>You have read the article 'Unmasking the Face ...</td>\n",
       "      <td>2</td>\n",
       "    </tr>\n",
       "    <tr>\n",
       "      <th>39783</th>\n",
       "      <td>A5F84C104693</td>\n",
       "      <td>Texting &amp; Driving\\n\\nUsing your phone while dr...</td>\n",
       "      <td>0</td>\n",
       "      <td>persuade_corpus</td>\n",
       "      <td>NaN</td>\n",
       "      <td>2</td>\n",
       "    </tr>\n",
       "    <tr>\n",
       "      <th>39784</th>\n",
       "      <td>A148C659E98B</td>\n",
       "      <td>Dear Principal,\\n\\nI have been really good thi...</td>\n",
       "      <td>0</td>\n",
       "      <td>persuade_corpus</td>\n",
       "      <td>NaN</td>\n",
       "      <td>4</td>\n",
       "    </tr>\n",
       "  </tbody>\n",
       "</table>\n",
       "<p>39734 rows × 6 columns</p>\n",
       "</div>"
      ],
      "text/plain": [
       "                 essay_id                                               text  \\\n",
       "0            E0B86027C5C5  Okay, here is my essay:\\n\\nWorking or doing th...   \n",
       "1            8B9EEF86DD66  Dear Principal,\\r\\n\\r\\nI just want to let you ...   \n",
       "2            116FB053BEC7  I believe they should change the voting to pop...   \n",
       "3            A72A4397F9F5  One example of an inspiring individual who has...   \n",
       "4            D90A159EDD27  Dear Mr. Principal,\\n\\nI believe that students...   \n",
       "...                   ...                                                ...   \n",
       "39780        F7341069C4A4  \"Oh man I didn't make the soccer team!\", yelle...   \n",
       "39781        AFE6E553DAC2  I believe that using this technology could be ...   \n",
       "39782  falcon_180b_v1_600  The Face on Mars is a fascinating phenomenon t...   \n",
       "39783        A5F84C104693  Texting & Driving\\n\\nUsing your phone while dr...   \n",
       "39784        A148C659E98B  Dear Principal,\\n\\nI have been really good thi...   \n",
       "\n",
       "       label           source  \\\n",
       "0          1      llama2_chat   \n",
       "1          0    original_moth   \n",
       "2          0  persuade_corpus   \n",
       "3          1    chat_gpt_moth   \n",
       "4          0  persuade_corpus   \n",
       "...      ...              ...   \n",
       "39780      0  persuade_corpus   \n",
       "39781      0  persuade_corpus   \n",
       "39782      1   falcon_180b_v1   \n",
       "39783      0  persuade_corpus   \n",
       "39784      0  persuade_corpus   \n",
       "\n",
       "                                                  prompt  fold  \n",
       "0      Task: \\n\\n1. Research the benefits of working ...     1  \n",
       "1      Task: Research the effects of implementing a p...     2  \n",
       "2                                                    NaN     9  \n",
       "3      Task: Analyze examples of inspiring people who...     0  \n",
       "4                                                    NaN     5  \n",
       "...                                                  ...   ...  \n",
       "39780                                                NaN     4  \n",
       "39781                                                NaN     2  \n",
       "39782  You have read the article 'Unmasking the Face ...     2  \n",
       "39783                                                NaN     2  \n",
       "39784                                                NaN     4  \n",
       "\n",
       "[39734 rows x 6 columns]"
      ]
     },
     "execution_count": 15,
     "metadata": {},
     "output_type": "execute_result"
    }
   ],
   "source": [
    "new_train.drop_duplicates('text', inplace=True)\n",
    "new_train"
   ]
  },
  {
   "cell_type": "code",
   "execution_count": 16,
   "id": "8509b191",
   "metadata": {
    "execution": {
     "iopub.execute_input": "2024-01-31T02:40:07.483162Z",
     "iopub.status.busy": "2024-01-31T02:40:07.482531Z",
     "iopub.status.idle": "2024-01-31T02:40:08.738323Z",
     "shell.execute_reply": "2024-01-31T02:40:08.737452Z"
    },
    "papermill": {
     "duration": 1.276831,
     "end_time": "2024-01-31T02:40:08.740595",
     "exception": false,
     "start_time": "2024-01-31T02:40:07.463764",
     "status": "completed"
    },
    "tags": []
   },
   "outputs": [
    {
     "data": {
      "image/png": "[encoded data removed]",
      "text/plain": [
       "<Figure size 640x480 with 1 Axes>"
      ]
     },
     "metadata": {},
     "output_type": "display_data"
    }
   ],
   "source": [
    "new_train[\"text\"].map(lambda x: len(x.strip().split())).hist()\n",
    "plt.xlabel(\"#tokens\")\n",
    "plt.ylabel(\"Count\")\n",
    "plt.title(\"Distribution of number of tokens in texts\");"
   ]
  },
  {
   "cell_type": "code",
   "execution_count": 17,
   "id": "a6332da4",
   "metadata": {
    "execution": {
     "iopub.execute_input": "2024-01-31T02:40:08.779827Z",
     "iopub.status.busy": "2024-01-31T02:40:08.779108Z",
     "iopub.status.idle": "2024-01-31T02:40:09.016162Z",
     "shell.execute_reply": "2024-01-31T02:40:09.015331Z"
    },
    "papermill": {
     "duration": 0.258955,
     "end_time": "2024-01-31T02:40:09.018427",
     "exception": false,
     "start_time": "2024-01-31T02:40:08.759472",
     "status": "completed"
    },
    "tags": []
   },
   "outputs": [
    {
     "data": {
      "image/png": "[encoded data removed]",
      "text/plain": [
       "<Figure size 500x500 with 1 Axes>"
      ]
     },
     "metadata": {},
     "output_type": "display_data"
    }
   ],
   "source": [
    "source_value_counts = new_train[\"source\"].value_counts()\n",
    "values = source_value_counts.values\n",
    "short_labels = ['persuade_corpus', 'Llama2', 'ChatGP', 'llammis', 'Moth', 'train_essays', 'LmaV1', 'FconV1', 'R500']\n",
    "pastel_colors = ['#FFB6C1', '#FFD700', '#87CEEB', '#90EE90', '#FFA07A', '#FA8072', '#9370DB', '#F08080', '#20B2AA']\n",
    "\n",
    "fig, ax = plt.subplots(figsize=(5, 5))\n",
    "\n",
    "squarify.plot(sizes=values, label=short_labels, color=pastel_colors, pad=True)\n",
    "plt.title(\"Source Distribution\");"
   ]
  },
  {
   "cell_type": "code",
   "execution_count": 18,
   "id": "9222bc04",
   "metadata": {
    "execution": {
     "iopub.execute_input": "2024-01-31T02:40:09.057296Z",
     "iopub.status.busy": "2024-01-31T02:40:09.057012Z",
     "iopub.status.idle": "2024-01-31T02:40:09.068031Z",
     "shell.execute_reply": "2024-01-31T02:40:09.067202Z"
    },
    "papermill": {
     "duration": 0.032461,
     "end_time": "2024-01-31T02:40:09.069843",
     "exception": false,
     "start_time": "2024-01-31T02:40:09.037382",
     "status": "completed"
    },
    "tags": []
   },
   "outputs": [
    {
     "data": {
      "text/plain": [
       "9887"
      ]
     },
     "execution_count": 18,
     "metadata": {},
     "output_type": "execute_result"
    }
   ],
   "source": [
    "redundant_essay_id_indicies = new_train.duplicated('essay_id', keep=False)\n",
    "redundant_essay_id_indicies.sum()"
   ]
  },
  {
   "cell_type": "code",
   "execution_count": 19,
   "id": "cf724766",
   "metadata": {
    "execution": {
     "iopub.execute_input": "2024-01-31T02:40:09.147605Z",
     "iopub.status.busy": "2024-01-31T02:40:09.147281Z",
     "iopub.status.idle": "2024-01-31T02:40:09.168253Z",
     "shell.execute_reply": "2024-01-31T02:40:09.167423Z"
    },
    "papermill": {
     "duration": 0.042542,
     "end_time": "2024-01-31T02:40:09.170148",
     "exception": false,
     "start_time": "2024-01-31T02:40:09.127606",
     "status": "completed"
    },
    "tags": []
   },
   "outputs": [
    {
     "data": {
      "text/plain": [
       "essay_id      label\n",
       "6060D28C05B6  1        3\n",
       "              0        1\n",
       "60623DB5DE7A  1        3\n",
       "              0        1\n",
       "607A39D981DE  1        3\n",
       "                      ..\n",
       "F610B3CBF3DF  0        1\n",
       "F610C7BCD9EC  1        3\n",
       "              0        2\n",
       "F6194DEBEFA7  1        3\n",
       "              0        1\n",
       "Name: count, Length: 4842, dtype: int64"
      ]
     },
     "execution_count": 19,
     "metadata": {},
     "output_type": "execute_result"
    }
   ],
   "source": [
    "new_train.loc[redundant_essay_id_indicies].groupby('essay_id')[\"label\"].value_counts()"
   ]
  },
  {
   "cell_type": "code",
   "execution_count": 20,
   "id": "70cae060",
   "metadata": {
    "execution": {
     "iopub.execute_input": "2024-01-31T02:40:09.208948Z",
     "iopub.status.busy": "2024-01-31T02:40:09.208663Z",
     "iopub.status.idle": "2024-01-31T02:40:09.267226Z",
     "shell.execute_reply": "2024-01-31T02:40:09.266360Z"
    },
    "papermill": {
     "duration": 0.080072,
     "end_time": "2024-01-31T02:40:09.269083",
     "exception": false,
     "start_time": "2024-01-31T02:40:09.189011",
     "status": "completed"
    },
    "tags": []
   },
   "outputs": [
    {
     "data": {
      "text/plain": [
       "essay_id\n",
       "6060D28C05B6    4\n",
       "60623DB5DE7A    4\n",
       "607A39D981DE    4\n",
       "60ACDFA1609E    4\n",
       "60AE13D3F07B    4\n",
       "               ..\n",
       "F5FF5E9E553C    4\n",
       "F60545D8271E    4\n",
       "F610B3CBF3DF    4\n",
       "F610C7BCD9EC    5\n",
       "F6194DEBEFA7    4\n",
       "Name: text, Length: 2421, dtype: int64"
      ]
     },
     "execution_count": 20,
     "metadata": {},
     "output_type": "execute_result"
    }
   ],
   "source": [
    "new_train.loc[redundant_essay_id_indicies].groupby('essay_id')[\"text\"].nunique()"
   ]
  },
  {
   "cell_type": "markdown",
   "id": "d47fb0d5",
   "metadata": {
    "papermill": {
     "duration": 0.01914,
     "end_time": "2024-01-31T02:40:09.307237",
     "exception": false,
     "start_time": "2024-01-31T02:40:09.288097",
     "status": "completed"
    },
    "tags": []
   },
   "source": [
    "# preprocessing : Data Augmentation"
   ]
  },
  {
   "cell_type": "code",
   "execution_count": 21,
   "id": "2d31e1f7",
   "metadata": {
    "execution": {
     "iopub.execute_input": "2024-01-31T02:40:09.346438Z",
     "iopub.status.busy": "2024-01-31T02:40:09.346168Z",
     "iopub.status.idle": "2024-01-31T02:40:09.356292Z",
     "shell.execute_reply": "2024-01-31T02:40:09.355446Z"
    },
    "papermill": {
     "duration": 0.031912,
     "end_time": "2024-01-31T02:40:09.358102",
     "exception": false,
     "start_time": "2024-01-31T02:40:09.326190",
     "status": "completed"
    },
    "tags": []
   },
   "outputs": [
    {
     "data": {
      "text/html": [
       "<div>\n",
       "<style scoped>\n",
       "    .dataframe tbody tr th:only-of-type {\n",
       "        vertical-align: middle;\n",
       "    }\n",
       "\n",
       "    .dataframe tbody tr th {\n",
       "        vertical-align: top;\n",
       "    }\n",
       "\n",
       "    .dataframe thead th {\n",
       "        text-align: right;\n",
       "    }\n",
       "</style>\n",
       "<table border=\"1\" class=\"dataframe\">\n",
       "  <thead>\n",
       "    <tr style=\"text-align: right;\">\n",
       "      <th></th>\n",
       "      <th>text</th>\n",
       "      <th>generated</th>\n",
       "    </tr>\n",
       "  </thead>\n",
       "  <tbody>\n",
       "    <tr>\n",
       "      <th>0</th>\n",
       "      <td>Cars. Cars have been around since they became ...</td>\n",
       "      <td>0</td>\n",
       "    </tr>\n",
       "    <tr>\n",
       "      <th>1</th>\n",
       "      <td>Transportation is a large necessity in most co...</td>\n",
       "      <td>0</td>\n",
       "    </tr>\n",
       "    <tr>\n",
       "      <th>2</th>\n",
       "      <td>\"America's love affair with it's vehicles seem...</td>\n",
       "      <td>0</td>\n",
       "    </tr>\n",
       "    <tr>\n",
       "      <th>3</th>\n",
       "      <td>How often do you ride in a car? Do you drive a...</td>\n",
       "      <td>0</td>\n",
       "    </tr>\n",
       "    <tr>\n",
       "      <th>4</th>\n",
       "      <td>Cars are a wonderful thing. They are perhaps o...</td>\n",
       "      <td>0</td>\n",
       "    </tr>\n",
       "    <tr>\n",
       "      <th>...</th>\n",
       "      <td>...</td>\n",
       "      <td>...</td>\n",
       "    </tr>\n",
       "    <tr>\n",
       "      <th>1373</th>\n",
       "      <td>There has been a fuss about the Elector Colleg...</td>\n",
       "      <td>0</td>\n",
       "    </tr>\n",
       "    <tr>\n",
       "      <th>1374</th>\n",
       "      <td>Limiting car usage has many advantages. Such a...</td>\n",
       "      <td>0</td>\n",
       "    </tr>\n",
       "    <tr>\n",
       "      <th>1375</th>\n",
       "      <td>There's a new trend that has been developing f...</td>\n",
       "      <td>0</td>\n",
       "    </tr>\n",
       "    <tr>\n",
       "      <th>1376</th>\n",
       "      <td>As we all know cars are a big part of our soci...</td>\n",
       "      <td>0</td>\n",
       "    </tr>\n",
       "    <tr>\n",
       "      <th>1377</th>\n",
       "      <td>Cars have been around since the 1800's and hav...</td>\n",
       "      <td>0</td>\n",
       "    </tr>\n",
       "  </tbody>\n",
       "</table>\n",
       "<p>1378 rows × 2 columns</p>\n",
       "</div>"
      ],
      "text/plain": [
       "                                                   text  generated\n",
       "0     Cars. Cars have been around since they became ...          0\n",
       "1     Transportation is a large necessity in most co...          0\n",
       "2     \"America's love affair with it's vehicles seem...          0\n",
       "3     How often do you ride in a car? Do you drive a...          0\n",
       "4     Cars are a wonderful thing. They are perhaps o...          0\n",
       "...                                                 ...        ...\n",
       "1373  There has been a fuss about the Elector Colleg...          0\n",
       "1374  Limiting car usage has many advantages. Such a...          0\n",
       "1375  There's a new trend that has been developing f...          0\n",
       "1376  As we all know cars are a big part of our soci...          0\n",
       "1377  Cars have been around since the 1800's and hav...          0\n",
       "\n",
       "[1378 rows x 2 columns]"
      ]
     },
     "execution_count": 21,
     "metadata": {},
     "output_type": "execute_result"
    }
   ],
   "source": [
    "org_train = org_train[[\"text\", \"generated\"]]\n",
    "org_train"
   ]
  },
  {
   "cell_type": "code",
   "execution_count": 22,
   "id": "c31c03e9",
   "metadata": {
    "execution": {
     "iopub.execute_input": "2024-01-31T02:40:09.397445Z",
     "iopub.status.busy": "2024-01-31T02:40:09.397194Z",
     "iopub.status.idle": "2024-01-31T02:40:09.410418Z",
     "shell.execute_reply": "2024-01-31T02:40:09.409594Z"
    },
    "papermill": {
     "duration": 0.034914,
     "end_time": "2024-01-31T02:40:09.412158",
     "exception": false,
     "start_time": "2024-01-31T02:40:09.377244",
     "status": "completed"
    },
    "tags": []
   },
   "outputs": [
    {
     "data": {
      "text/html": [
       "<div>\n",
       "<style scoped>\n",
       "    .dataframe tbody tr th:only-of-type {\n",
       "        vertical-align: middle;\n",
       "    }\n",
       "\n",
       "    .dataframe tbody tr th {\n",
       "        vertical-align: top;\n",
       "    }\n",
       "\n",
       "    .dataframe thead th {\n",
       "        text-align: right;\n",
       "    }\n",
       "</style>\n",
       "<table border=\"1\" class=\"dataframe\">\n",
       "  <thead>\n",
       "    <tr style=\"text-align: right;\">\n",
       "      <th></th>\n",
       "      <th>text</th>\n",
       "      <th>generated</th>\n",
       "    </tr>\n",
       "  </thead>\n",
       "  <tbody>\n",
       "    <tr>\n",
       "      <th>0</th>\n",
       "      <td>Okay, here is my essay:\\n\\nWorking or doing th...</td>\n",
       "      <td>1</td>\n",
       "    </tr>\n",
       "    <tr>\n",
       "      <th>3</th>\n",
       "      <td>One example of an inspiring individual who has...</td>\n",
       "      <td>1</td>\n",
       "    </tr>\n",
       "    <tr>\n",
       "      <th>6</th>\n",
       "      <td>\"As a high school student, I have witnessed th...</td>\n",
       "      <td>1</td>\n",
       "    </tr>\n",
       "    <tr>\n",
       "      <th>11</th>\n",
       "      <td>Video games have been a popular form of entert...</td>\n",
       "      <td>1</td>\n",
       "    </tr>\n",
       "    <tr>\n",
       "      <th>13</th>\n",
       "      <td>Group work is an essential part of life; it ca...</td>\n",
       "      <td>1</td>\n",
       "    </tr>\n",
       "    <tr>\n",
       "      <th>...</th>\n",
       "      <td>...</td>\n",
       "      <td>...</td>\n",
       "    </tr>\n",
       "    <tr>\n",
       "      <th>39767</th>\n",
       "      <td>Sure thing! Here's my attempt at writing an es...</td>\n",
       "      <td>1</td>\n",
       "    </tr>\n",
       "    <tr>\n",
       "      <th>39770</th>\n",
       "      <td>I think our principal's idea of making us do e...</td>\n",
       "      <td>1</td>\n",
       "    </tr>\n",
       "    <tr>\n",
       "      <th>39771</th>\n",
       "      <td>I think it's a good idea for schools to have o...</td>\n",
       "      <td>1</td>\n",
       "    </tr>\n",
       "    <tr>\n",
       "      <th>39778</th>\n",
       "      <td>Advantages of Limiting Car Usage\\n\\nLimiting c...</td>\n",
       "      <td>1</td>\n",
       "    </tr>\n",
       "    <tr>\n",
       "      <th>39782</th>\n",
       "      <td>The Face on Mars is a fascinating phenomenon t...</td>\n",
       "      <td>1</td>\n",
       "    </tr>\n",
       "  </tbody>\n",
       "</table>\n",
       "<p>9993 rows × 2 columns</p>\n",
       "</div>"
      ],
      "text/plain": [
       "                                                    text  generated\n",
       "0      Okay, here is my essay:\\n\\nWorking or doing th...          1\n",
       "3      One example of an inspiring individual who has...          1\n",
       "6      \"As a high school student, I have witnessed th...          1\n",
       "11     Video games have been a popular form of entert...          1\n",
       "13     Group work is an essential part of life; it ca...          1\n",
       "...                                                  ...        ...\n",
       "39767  Sure thing! Here's my attempt at writing an es...          1\n",
       "39770  I think our principal's idea of making us do e...          1\n",
       "39771  I think it's a good idea for schools to have o...          1\n",
       "39778  Advantages of Limiting Car Usage\\n\\nLimiting c...          1\n",
       "39782  The Face on Mars is a fascinating phenomenon t...          1\n",
       "\n",
       "[9993 rows x 2 columns]"
      ]
     },
     "execution_count": 22,
     "metadata": {},
     "output_type": "execute_result"
    }
   ],
   "source": [
    "positive = new_train.loc[new_train['label'] == 1][[\"text\", \"label\"]]\n",
    "positive = positive.rename(columns={\"text\": \"text\", \"label\": \"generated\"})\n",
    "positive"
   ]
  },
  {
   "cell_type": "code",
   "execution_count": 23,
   "id": "eca0ca7c",
   "metadata": {
    "execution": {
     "iopub.execute_input": "2024-01-31T02:40:09.452743Z",
     "iopub.status.busy": "2024-01-31T02:40:09.452487Z",
     "iopub.status.idle": "2024-01-31T02:40:09.468258Z",
     "shell.execute_reply": "2024-01-31T02:40:09.467425Z"
    },
    "papermill": {
     "duration": 0.037891,
     "end_time": "2024-01-31T02:40:09.470047",
     "exception": false,
     "start_time": "2024-01-31T02:40:09.432156",
     "status": "completed"
    },
    "tags": []
   },
   "outputs": [
    {
     "data": {
      "text/html": [
       "<div>\n",
       "<style scoped>\n",
       "    .dataframe tbody tr th:only-of-type {\n",
       "        vertical-align: middle;\n",
       "    }\n",
       "\n",
       "    .dataframe tbody tr th {\n",
       "        vertical-align: top;\n",
       "    }\n",
       "\n",
       "    .dataframe thead th {\n",
       "        text-align: right;\n",
       "    }\n",
       "</style>\n",
       "<table border=\"1\" class=\"dataframe\">\n",
       "  <thead>\n",
       "    <tr style=\"text-align: right;\">\n",
       "      <th></th>\n",
       "      <th>text</th>\n",
       "      <th>generated</th>\n",
       "    </tr>\n",
       "  </thead>\n",
       "  <tbody>\n",
       "    <tr>\n",
       "      <th>1</th>\n",
       "      <td>Dear Principal,\\r\\n\\r\\nI just want to let you ...</td>\n",
       "      <td>0</td>\n",
       "    </tr>\n",
       "    <tr>\n",
       "      <th>2</th>\n",
       "      <td>I believe they should change the voting to pop...</td>\n",
       "      <td>0</td>\n",
       "    </tr>\n",
       "    <tr>\n",
       "      <th>4</th>\n",
       "      <td>Dear Mr. Principal,\\n\\nI believe that students...</td>\n",
       "      <td>0</td>\n",
       "    </tr>\n",
       "    <tr>\n",
       "      <th>5</th>\n",
       "      <td>I think that this image of this face is very n...</td>\n",
       "      <td>0</td>\n",
       "    </tr>\n",
       "    <tr>\n",
       "      <th>7</th>\n",
       "      <td>Dear Principle,\\n\\nI sincerely hope you will n...</td>\n",
       "      <td>0</td>\n",
       "    </tr>\n",
       "    <tr>\n",
       "      <th>...</th>\n",
       "      <td>...</td>\n",
       "      <td>...</td>\n",
       "    </tr>\n",
       "    <tr>\n",
       "      <th>39779</th>\n",
       "      <td>Are driverless cars really necessary? Most of ...</td>\n",
       "      <td>0</td>\n",
       "    </tr>\n",
       "    <tr>\n",
       "      <th>39780</th>\n",
       "      <td>\"Oh man I didn't make the soccer team!\", yelle...</td>\n",
       "      <td>0</td>\n",
       "    </tr>\n",
       "    <tr>\n",
       "      <th>39781</th>\n",
       "      <td>I believe that using this technology could be ...</td>\n",
       "      <td>0</td>\n",
       "    </tr>\n",
       "    <tr>\n",
       "      <th>39783</th>\n",
       "      <td>Texting &amp; Driving\\n\\nUsing your phone while dr...</td>\n",
       "      <td>0</td>\n",
       "    </tr>\n",
       "    <tr>\n",
       "      <th>39784</th>\n",
       "      <td>Dear Principal,\\n\\nI have been really good thi...</td>\n",
       "      <td>0</td>\n",
       "    </tr>\n",
       "  </tbody>\n",
       "</table>\n",
       "<p>29741 rows × 2 columns</p>\n",
       "</div>"
      ],
      "text/plain": [
       "                                                    text  generated\n",
       "1      Dear Principal,\\r\\n\\r\\nI just want to let you ...          0\n",
       "2      I believe they should change the voting to pop...          0\n",
       "4      Dear Mr. Principal,\\n\\nI believe that students...          0\n",
       "5      I think that this image of this face is very n...          0\n",
       "7      Dear Principle,\\n\\nI sincerely hope you will n...          0\n",
       "...                                                  ...        ...\n",
       "39779  Are driverless cars really necessary? Most of ...          0\n",
       "39780  \"Oh man I didn't make the soccer team!\", yelle...          0\n",
       "39781  I believe that using this technology could be ...          0\n",
       "39783  Texting & Driving\\n\\nUsing your phone while dr...          0\n",
       "39784  Dear Principal,\\n\\nI have been really good thi...          0\n",
       "\n",
       "[29741 rows x 2 columns]"
      ]
     },
     "execution_count": 23,
     "metadata": {},
     "output_type": "execute_result"
    }
   ],
   "source": [
    "negative = new_train.loc[new_train['label'] == 0][[\"text\", \"label\"]]\n",
    "negative = negative.rename(columns={\"text\": \"text\", \"label\": \"generated\"})\n",
    "negative"
   ]
  },
  {
   "cell_type": "code",
   "execution_count": 24,
   "id": "bcf10ca4",
   "metadata": {
    "execution": {
     "iopub.execute_input": "2024-01-31T02:40:09.510768Z",
     "iopub.status.busy": "2024-01-31T02:40:09.510498Z",
     "iopub.status.idle": "2024-01-31T02:40:09.518181Z",
     "shell.execute_reply": "2024-01-31T02:40:09.517323Z"
    },
    "papermill": {
     "duration": 0.03023,
     "end_time": "2024-01-31T02:40:09.520129",
     "exception": false,
     "start_time": "2024-01-31T02:40:09.489899",
     "status": "completed"
    },
    "tags": []
   },
   "outputs": [
    {
     "data": {
      "text/plain": [
       "3"
      ]
     },
     "execution_count": 24,
     "metadata": {},
     "output_type": "execute_result"
    }
   ],
   "source": [
    "text_overlap_of_positive = positive[\"text\"].isin(org_train[\"text\"])\n",
    "text_overlap_of_positive.sum()"
   ]
  },
  {
   "cell_type": "code",
   "execution_count": 25,
   "id": "27bc3325",
   "metadata": {
    "execution": {
     "iopub.execute_input": "2024-01-31T02:40:09.560838Z",
     "iopub.status.busy": "2024-01-31T02:40:09.560386Z",
     "iopub.status.idle": "2024-01-31T02:40:09.566789Z",
     "shell.execute_reply": "2024-01-31T02:40:09.566043Z"
    },
    "papermill": {
     "duration": 0.028701,
     "end_time": "2024-01-31T02:40:09.568623",
     "exception": false,
     "start_time": "2024-01-31T02:40:09.539922",
     "status": "completed"
    },
    "tags": []
   },
   "outputs": [
    {
     "data": {
      "text/plain": [
       "(9990, 2)"
      ]
     },
     "execution_count": 25,
     "metadata": {},
     "output_type": "execute_result"
    }
   ],
   "source": [
    "positive = positive[~text_overlap_of_positive]\n",
    "positive.shape"
   ]
  },
  {
   "cell_type": "code",
   "execution_count": 26,
   "id": "4437a430",
   "metadata": {
    "execution": {
     "iopub.execute_input": "2024-01-31T02:40:09.609403Z",
     "iopub.status.busy": "2024-01-31T02:40:09.609168Z",
     "iopub.status.idle": "2024-01-31T02:40:09.620227Z",
     "shell.execute_reply": "2024-01-31T02:40:09.619404Z"
    },
    "papermill": {
     "duration": 0.033502,
     "end_time": "2024-01-31T02:40:09.622032",
     "exception": false,
     "start_time": "2024-01-31T02:40:09.588530",
     "status": "completed"
    },
    "tags": []
   },
   "outputs": [
    {
     "data": {
      "text/plain": [
       "1375"
      ]
     },
     "execution_count": 26,
     "metadata": {},
     "output_type": "execute_result"
    }
   ],
   "source": [
    "text_overlap_of_negative = negative[\"text\"].isin(org_train[\"text\"])\n",
    "text_overlap_of_negative.sum()"
   ]
  },
  {
   "cell_type": "code",
   "execution_count": 27,
   "id": "00c0dfc2",
   "metadata": {
    "execution": {
     "iopub.execute_input": "2024-01-31T02:40:09.663300Z",
     "iopub.status.busy": "2024-01-31T02:40:09.663043Z",
     "iopub.status.idle": "2024-01-31T02:40:09.670169Z",
     "shell.execute_reply": "2024-01-31T02:40:09.669297Z"
    },
    "papermill": {
     "duration": 0.030199,
     "end_time": "2024-01-31T02:40:09.672370",
     "exception": false,
     "start_time": "2024-01-31T02:40:09.642171",
     "status": "completed"
    },
    "tags": []
   },
   "outputs": [
    {
     "data": {
      "text/plain": [
       "(28366, 2)"
      ]
     },
     "execution_count": 27,
     "metadata": {},
     "output_type": "execute_result"
    }
   ],
   "source": [
    "negative = negative[~text_overlap_of_negative]\n",
    "negative.shape"
   ]
  },
  {
   "cell_type": "code",
   "execution_count": 28,
   "id": "5859e5ca",
   "metadata": {
    "execution": {
     "iopub.execute_input": "2024-01-31T02:40:09.713880Z",
     "iopub.status.busy": "2024-01-31T02:40:09.713619Z",
     "iopub.status.idle": "2024-01-31T02:40:09.721573Z",
     "shell.execute_reply": "2024-01-31T02:40:09.720805Z"
    },
    "papermill": {
     "duration": 0.030852,
     "end_time": "2024-01-31T02:40:09.723549",
     "exception": false,
     "start_time": "2024-01-31T02:40:09.692697",
     "status": "completed"
    },
    "tags": []
   },
   "outputs": [
    {
     "data": {
      "text/plain": [
       "(generated\n",
       " 0    1375\n",
       " 1       3\n",
       " Name: count, dtype: int64,\n",
       " generated\n",
       " 1    9990\n",
       " Name: count, dtype: int64,\n",
       " generated\n",
       " 0    28366\n",
       " Name: count, dtype: int64)"
      ]
     },
     "execution_count": 28,
     "metadata": {},
     "output_type": "execute_result"
    }
   ],
   "source": [
    "org_train['generated'].value_counts(), positive['generated'].value_counts(), negative['generated'].value_counts()"
   ]
  },
  {
   "cell_type": "code",
   "execution_count": 29,
   "id": "d3afa77b",
   "metadata": {
    "execution": {
     "iopub.execute_input": "2024-01-31T02:40:09.765518Z",
     "iopub.status.busy": "2024-01-31T02:40:09.765263Z",
     "iopub.status.idle": "2024-01-31T02:40:09.770362Z",
     "shell.execute_reply": "2024-01-31T02:40:09.769544Z"
    },
    "papermill": {
     "duration": 0.028084,
     "end_time": "2024-01-31T02:40:09.772187",
     "exception": false,
     "start_time": "2024-01-31T02:40:09.744103",
     "status": "completed"
    },
    "tags": []
   },
   "outputs": [
    {
     "data": {
      "text/plain": [
       "8618"
      ]
     },
     "execution_count": 29,
     "metadata": {},
     "output_type": "execute_result"
    }
   ],
   "source": [
    "9993-1375"
   ]
  },
  {
   "cell_type": "code",
   "execution_count": 30,
   "id": "44f48e5c",
   "metadata": {
    "execution": {
     "iopub.execute_input": "2024-01-31T02:40:09.814225Z",
     "iopub.status.busy": "2024-01-31T02:40:09.813953Z",
     "iopub.status.idle": "2024-01-31T02:40:09.828958Z",
     "shell.execute_reply": "2024-01-31T02:40:09.828146Z"
    },
    "papermill": {
     "duration": 0.038061,
     "end_time": "2024-01-31T02:40:09.830825",
     "exception": false,
     "start_time": "2024-01-31T02:40:09.792764",
     "status": "completed"
    },
    "tags": []
   },
   "outputs": [
    {
     "data": {
      "text/html": [
       "<div>\n",
       "<style scoped>\n",
       "    .dataframe tbody tr th:only-of-type {\n",
       "        vertical-align: middle;\n",
       "    }\n",
       "\n",
       "    .dataframe tbody tr th {\n",
       "        vertical-align: top;\n",
       "    }\n",
       "\n",
       "    .dataframe thead th {\n",
       "        text-align: right;\n",
       "    }\n",
       "</style>\n",
       "<table border=\"1\" class=\"dataframe\">\n",
       "  <thead>\n",
       "    <tr style=\"text-align: right;\">\n",
       "      <th></th>\n",
       "      <th>text</th>\n",
       "      <th>generated</th>\n",
       "    </tr>\n",
       "  </thead>\n",
       "  <tbody>\n",
       "    <tr>\n",
       "      <th>0</th>\n",
       "      <td>Introduction:\\n\\nHey everyone! I just read thi...</td>\n",
       "      <td>1</td>\n",
       "    </tr>\n",
       "    <tr>\n",
       "      <th>1</th>\n",
       "      <td>Hey there! \\n\\nSo, you know how people always ...</td>\n",
       "      <td>1</td>\n",
       "    </tr>\n",
       "    <tr>\n",
       "      <th>2</th>\n",
       "      <td>I think that students would not benefit from t...</td>\n",
       "      <td>0</td>\n",
       "    </tr>\n",
       "    <tr>\n",
       "      <th>3</th>\n",
       "      <td>\"Making Mona Lisa Smile\" is an article that ta...</td>\n",
       "      <td>1</td>\n",
       "    </tr>\n",
       "    <tr>\n",
       "      <th>4</th>\n",
       "      <td>The question of whether or not we have to live...</td>\n",
       "      <td>1</td>\n",
       "    </tr>\n",
       "    <tr>\n",
       "      <th>...</th>\n",
       "      <td>...</td>\n",
       "      <td>...</td>\n",
       "    </tr>\n",
       "    <tr>\n",
       "      <th>19981</th>\n",
       "      <td>Dear,Pricipal please do not change the school ...</td>\n",
       "      <td>0</td>\n",
       "    </tr>\n",
       "    <tr>\n",
       "      <th>19982</th>\n",
       "      <td>Hey there!  So, Mr. Jefferson was totally righ...</td>\n",
       "      <td>1</td>\n",
       "    </tr>\n",
       "    <tr>\n",
       "      <th>19983</th>\n",
       "      <td>Hey there!  So, you want me to write an essay ...</td>\n",
       "      <td>1</td>\n",
       "    </tr>\n",
       "    <tr>\n",
       "      <th>19984</th>\n",
       "      <td>Hey, I'm just an average 8th grader, but I'm g...</td>\n",
       "      <td>1</td>\n",
       "    </tr>\n",
       "    <tr>\n",
       "      <th>19985</th>\n",
       "      <td>Dear Principle,\\n\\nI think you should require ...</td>\n",
       "      <td>0</td>\n",
       "    </tr>\n",
       "  </tbody>\n",
       "</table>\n",
       "<p>19986 rows × 2 columns</p>\n",
       "</div>"
      ],
      "text/plain": [
       "                                                    text  generated\n",
       "0      Introduction:\\n\\nHey everyone! I just read thi...          1\n",
       "1      Hey there! \\n\\nSo, you know how people always ...          1\n",
       "2      I think that students would not benefit from t...          0\n",
       "3      \"Making Mona Lisa Smile\" is an article that ta...          1\n",
       "4      The question of whether or not we have to live...          1\n",
       "...                                                  ...        ...\n",
       "19981  Dear,Pricipal please do not change the school ...          0\n",
       "19982  Hey there!  So, Mr. Jefferson was totally righ...          1\n",
       "19983  Hey there!  So, you want me to write an essay ...          1\n",
       "19984  Hey, I'm just an average 8th grader, but I'm g...          1\n",
       "19985  Dear Principle,\\n\\nI think you should require ...          0\n",
       "\n",
       "[19986 rows x 2 columns]"
      ]
     },
     "execution_count": 30,
     "metadata": {},
     "output_type": "execute_result"
    }
   ],
   "source": [
    "data = pd.concat([org_train, positive, negative.sample(8618)])\n",
    "data = data.sample(frac=1).reset_index(drop=True)\n",
    "data"
   ]
  },
  {
   "cell_type": "code",
   "execution_count": 31,
   "id": "af5ba199",
   "metadata": {
    "execution": {
     "iopub.execute_input": "2024-01-31T02:40:09.873399Z",
     "iopub.status.busy": "2024-01-31T02:40:09.873154Z",
     "iopub.status.idle": "2024-01-31T02:40:09.948348Z",
     "shell.execute_reply": "2024-01-31T02:40:09.947504Z"
    },
    "papermill": {
     "duration": 0.098546,
     "end_time": "2024-01-31T02:40:09.950283",
     "exception": false,
     "start_time": "2024-01-31T02:40:09.851737",
     "status": "completed"
    },
    "tags": []
   },
   "outputs": [
    {
     "data": {
      "image/png": "[encoded data removed]",
      "text/plain": [
       "<Figure size 640x480 with 1 Axes>"
      ]
     },
     "metadata": {},
     "output_type": "display_data"
    }
   ],
   "source": [
    "data['generated'].value_counts().plot.pie();"
   ]
  },
  {
   "cell_type": "code",
   "execution_count": 32,
   "id": "4306e6dc",
   "metadata": {
    "execution": {
     "iopub.execute_input": "2024-01-31T02:40:09.994419Z",
     "iopub.status.busy": "2024-01-31T02:40:09.994127Z",
     "iopub.status.idle": "2024-01-31T02:40:09.998133Z",
     "shell.execute_reply": "2024-01-31T02:40:09.997327Z"
    },
    "papermill": {
     "duration": 0.027494,
     "end_time": "2024-01-31T02:40:10.000037",
     "exception": false,
     "start_time": "2024-01-31T02:40:09.972543",
     "status": "completed"
    },
    "tags": []
   },
   "outputs": [],
   "source": [
    "X, y = data[\"text\"], data[\"generated\"]"
   ]
  },
  {
   "cell_type": "code",
   "execution_count": 33,
   "id": "fcdf135c",
   "metadata": {
    "execution": {
     "iopub.execute_input": "2024-01-31T02:40:10.042641Z",
     "iopub.status.busy": "2024-01-31T02:40:10.042405Z",
     "iopub.status.idle": "2024-01-31T02:40:11.168128Z",
     "shell.execute_reply": "2024-01-31T02:40:11.167382Z"
    },
    "papermill": {
     "duration": 1.149399,
     "end_time": "2024-01-31T02:40:11.170350",
     "exception": false,
     "start_time": "2024-01-31T02:40:10.020951",
     "status": "completed"
    },
    "tags": []
   },
   "outputs": [],
   "source": [
    "from sklearn.model_selection import train_test_split\n",
    "X_train, X_val, y_train, y_val = train_test_split(X, y, train_size=0.8, stratify=y)"
   ]
  },
  {
   "cell_type": "code",
   "execution_count": 34,
   "id": "73b6ec21",
   "metadata": {
    "execution": {
     "iopub.execute_input": "2024-01-31T02:40:11.214835Z",
     "iopub.status.busy": "2024-01-31T02:40:11.214397Z",
     "iopub.status.idle": "2024-01-31T02:40:11.220921Z",
     "shell.execute_reply": "2024-01-31T02:40:11.220057Z"
    },
    "papermill": {
     "duration": 0.030368,
     "end_time": "2024-01-31T02:40:11.222749",
     "exception": false,
     "start_time": "2024-01-31T02:40:11.192381",
     "status": "completed"
    },
    "tags": []
   },
   "outputs": [],
   "source": [
    "X_train = X_train.reset_index(drop=True)\n",
    "X_val = X_val.reset_index(drop=True)\n",
    "y_train = y_train.reset_index(drop=True)\n",
    "y_val = y_val.reset_index(drop=True)"
   ]
  },
  {
   "cell_type": "code",
   "execution_count": 35,
   "id": "c92da606",
   "metadata": {
    "execution": {
     "iopub.execute_input": "2024-01-31T02:40:11.266762Z",
     "iopub.status.busy": "2024-01-31T02:40:11.266482Z",
     "iopub.status.idle": "2024-01-31T02:40:11.351268Z",
     "shell.execute_reply": "2024-01-31T02:40:11.350407Z"
    },
    "papermill": {
     "duration": 0.109054,
     "end_time": "2024-01-31T02:40:11.353159",
     "exception": false,
     "start_time": "2024-01-31T02:40:11.244105",
     "status": "completed"
    },
    "tags": []
   },
   "outputs": [
    {
     "data": {
      "text/html": [
       "<div>\n",
       "<style scoped>\n",
       "    .dataframe tbody tr th:only-of-type {\n",
       "        vertical-align: middle;\n",
       "    }\n",
       "\n",
       "    .dataframe tbody tr th {\n",
       "        vertical-align: top;\n",
       "    }\n",
       "\n",
       "    .dataframe thead th {\n",
       "        text-align: right;\n",
       "    }\n",
       "</style>\n",
       "<table border=\"1\" class=\"dataframe\">\n",
       "  <thead>\n",
       "    <tr style=\"text-align: right;\">\n",
       "      <th></th>\n",
       "      <th>text</th>\n",
       "      <th>generated</th>\n",
       "    </tr>\n",
       "  </thead>\n",
       "  <tbody>\n",
       "    <tr>\n",
       "      <th>0</th>\n",
       "      <td>In recent years, technology has had a profoun...</td>\n",
       "      <td>1</td>\n",
       "    </tr>\n",
       "    <tr>\n",
       "      <th>1</th>\n",
       "      <td>Should students participate in an extracurricu...</td>\n",
       "      <td>0</td>\n",
       "    </tr>\n",
       "    <tr>\n",
       "      <th>2</th>\n",
       "      <td>The electoral college is a symbol of mockery a...</td>\n",
       "      <td>0</td>\n",
       "    </tr>\n",
       "    <tr>\n",
       "      <th>3</th>\n",
       "      <td>This is why I think the principle should allow...</td>\n",
       "      <td>0</td>\n",
       "    </tr>\n",
       "    <tr>\n",
       "      <th>4</th>\n",
       "      <td>I strongly believe that meditation and mindful...</td>\n",
       "      <td>1</td>\n",
       "    </tr>\n",
       "    <tr>\n",
       "      <th>...</th>\n",
       "      <td>...</td>\n",
       "      <td>...</td>\n",
       "    </tr>\n",
       "    <tr>\n",
       "      <th>44150</th>\n",
       "      <td>\"Oh man I didn't make the soccer team!\", yelle...</td>\n",
       "      <td>0</td>\n",
       "    </tr>\n",
       "    <tr>\n",
       "      <th>44151</th>\n",
       "      <td>I believe that using this technology could be ...</td>\n",
       "      <td>0</td>\n",
       "    </tr>\n",
       "    <tr>\n",
       "      <th>44152</th>\n",
       "      <td>The Face on Mars is a fascinating phenomenon t...</td>\n",
       "      <td>1</td>\n",
       "    </tr>\n",
       "    <tr>\n",
       "      <th>44153</th>\n",
       "      <td>Texting &amp; Driving\\n\\nUsing your phone while dr...</td>\n",
       "      <td>0</td>\n",
       "    </tr>\n",
       "    <tr>\n",
       "      <th>44154</th>\n",
       "      <td>Dear Principal,\\n\\nI have been really good thi...</td>\n",
       "      <td>0</td>\n",
       "    </tr>\n",
       "  </tbody>\n",
       "</table>\n",
       "<p>44155 rows × 2 columns</p>\n",
       "</div>"
      ],
      "text/plain": [
       "                                                    text  generated\n",
       "0       In recent years, technology has had a profoun...          1\n",
       "1      Should students participate in an extracurricu...          0\n",
       "2      The electoral college is a symbol of mockery a...          0\n",
       "3      This is why I think the principle should allow...          0\n",
       "4      I strongly believe that meditation and mindful...          1\n",
       "...                                                  ...        ...\n",
       "44150  \"Oh man I didn't make the soccer team!\", yelle...          0\n",
       "44151  I believe that using this technology could be ...          0\n",
       "44152  The Face on Mars is a fascinating phenomenon t...          1\n",
       "44153  Texting & Driving\\n\\nUsing your phone while dr...          0\n",
       "44154  Dear Principal,\\n\\nI have been really good thi...          0\n",
       "\n",
       "[44155 rows x 2 columns]"
      ]
     },
     "execution_count": 35,
     "metadata": {},
     "output_type": "execute_result"
    }
   ],
   "source": [
    "test_candidate = test_candidate.drop_duplicates('text')\n",
    "test_candidate = test_candidate[[\"text\", \"label\"]]\n",
    "test_candidate = test_candidate.rename(columns={'text':'text', 'label':\"generated\"})\n",
    "test_candidate = test_candidate.reset_index(drop=True)\n",
    "test_candidate"
   ]
  },
  {
   "cell_type": "code",
   "execution_count": 36,
   "id": "c7b6485d",
   "metadata": {
    "execution": {
     "iopub.execute_input": "2024-01-31T02:40:11.397039Z",
     "iopub.status.busy": "2024-01-31T02:40:11.396750Z",
     "iopub.status.idle": "2024-01-31T02:40:11.403406Z",
     "shell.execute_reply": "2024-01-31T02:40:11.402603Z"
    },
    "papermill": {
     "duration": 0.030339,
     "end_time": "2024-01-31T02:40:11.405295",
     "exception": false,
     "start_time": "2024-01-31T02:40:11.374956",
     "status": "completed"
    },
    "tags": []
   },
   "outputs": [
    {
     "data": {
      "text/plain": [
       "((44155,), (44155,))"
      ]
     },
     "execution_count": 36,
     "metadata": {},
     "output_type": "execute_result"
    }
   ],
   "source": [
    "X_test, y_test = test_candidate['text'], test_candidate['generated']\n",
    "X_test.shape, y_test.shape"
   ]
  },
  {
   "cell_type": "markdown",
   "id": "b5476433",
   "metadata": {
    "papermill": {
     "duration": 0.023299,
     "end_time": "2024-01-31T02:40:11.450081",
     "exception": false,
     "start_time": "2024-01-31T02:40:11.426782",
     "status": "completed"
    },
    "tags": []
   },
   "source": [
    "# training models : binary text classification"
   ]
  },
  {
   "cell_type": "markdown",
   "id": "4f98af31",
   "metadata": {
    "papermill": {
     "duration": 0.022472,
     "end_time": "2024-01-31T02:40:11.493958",
     "exception": false,
     "start_time": "2024-01-31T02:40:11.471486",
     "status": "completed"
    },
    "tags": []
   },
   "source": [
    "## bidirection LSTM"
   ]
  },
  {
   "cell_type": "code",
   "execution_count": 37,
   "id": "2ddac5e3",
   "metadata": {
    "execution": {
     "iopub.execute_input": "2024-01-31T02:40:11.543755Z",
     "iopub.status.busy": "2024-01-31T02:40:11.543406Z",
     "iopub.status.idle": "2024-01-31T02:40:15.243698Z",
     "shell.execute_reply": "2024-01-31T02:40:15.242733Z"
    },
    "papermill": {
     "duration": 3.727628,
     "end_time": "2024-01-31T02:40:15.246106",
     "exception": false,
     "start_time": "2024-01-31T02:40:11.518478",
     "status": "completed"
    },
    "tags": []
   },
   "outputs": [],
   "source": [
    "from collections import Counter\n",
    "\n",
    "import torch\n",
    "import torch.nn as nn\n",
    "from torch.utils.data import Dataset, DataLoader\n",
    "\n",
    "from tqdm import tqdm\n",
    "\n",
    "from sklearn.metrics import f1_score, classification_report, roc_curve, auc"
   ]
  },
  {
   "cell_type": "code",
   "execution_count": 38,
   "id": "086c686c",
   "metadata": {
    "execution": {
     "iopub.execute_input": "2024-01-31T02:40:15.291582Z",
     "iopub.status.busy": "2024-01-31T02:40:15.290845Z",
     "iopub.status.idle": "2024-01-31T02:40:16.473192Z",
     "shell.execute_reply": "2024-01-31T02:40:16.472390Z"
    },
    "papermill": {
     "duration": 1.206901,
     "end_time": "2024-01-31T02:40:16.475324",
     "exception": false,
     "start_time": "2024-01-31T02:40:15.268423",
     "status": "completed"
    },
    "tags": []
   },
   "outputs": [],
   "source": [
    "from torchtext.data.utils import get_tokenizer\n",
    "class Vocabulary:\n",
    "    def __init__(self, freq_threshold, max_size):\n",
    "        \"\"\"\n",
    "        Initialize Vocabulary object.\n",
    "        \n",
    "        Args:\n",
    "        - freq_threshold (int): Minimum frequency threshold for a word to be included in the vocabulary.\n",
    "        - max_size (int): Maximum size of the vocabulary.\n",
    "        \"\"\"\n",
    "        self.itos = {0: '<PAD>', 1: '<SOS>', 2: '<EOS>', 3: '<UNK>'}\n",
    "        self.stoi = {k: j for j, k in self.itos.items()}\n",
    "        self.freq_threshold = freq_threshold\n",
    "        self.max_size = max_size\n",
    "        self.tokenizer = get_tokenizer(\"basic_english\")\n",
    "\n",
    "    def __len__(self):\n",
    "        \"\"\"\n",
    "        Get the length of the vocabulary.\n",
    "        \"\"\"\n",
    "        return len(self.itos)\n",
    "\n",
    "\n",
    "    def build_vocabulary(self, sentence_list):\n",
    "        \"\"\"\n",
    "        Build the vocabulary based on the input list of sentences.\n",
    "        \n",
    "        Args:\n",
    "        - sentence_list (list of str): List of sentences to build vocabulary from.\n",
    "        \"\"\"\n",
    "        frequencies = Counter()\n",
    "        for sentence in sentence_list:\n",
    "            frequencies.update(self.tokenizer(sentence))\n",
    "\n",
    "        frequencies = {k: v for k, v in frequencies.items() if v > self.freq_threshold}\n",
    "        \n",
    "        frequencies = dict(sorted(frequencies.items(), key=lambda x: -x[1])[:self.max_size - 4])\n",
    "\n",
    "        idx = 4\n",
    "        for word in frequencies:\n",
    "            self.stoi[word] = idx\n",
    "            self.itos[idx] = word\n",
    "            idx += 1\n",
    "            \n",
    "    def get_vocabularies(self):\n",
    "        \"\"\"\n",
    "        Get vocabularies.\n",
    "        \n",
    "        Returns:\n",
    "        - tuple: Dictionaries itos.\n",
    "        \"\"\"\n",
    "        return self.itos\n",
    "\n",
    "    def numericalize(self, text):\n",
    "        \"\"\"\n",
    "        Convert input text into a sequence of numerical indices based on the vocabulary.\n",
    "        \n",
    "        Args:\n",
    "        - text (str): Input text to convert into numerical representation.\n",
    "        \n",
    "        Returns:\n",
    "        - list of int: List of numerical indices representing the input text.\n",
    "        \"\"\"\n",
    "        tokenized_text = self.tokenizer(text)\n",
    "        numericalized_text = [self.stoi.get(token, self.stoi['<UNK>']) for token in tokenized_text]\n",
    "        return numericalized_text"
   ]
  },
  {
   "cell_type": "code",
   "execution_count": 39,
   "id": "950d6bf0",
   "metadata": {
    "execution": {
     "iopub.execute_input": "2024-01-31T02:40:16.520192Z",
     "iopub.status.busy": "2024-01-31T02:40:16.519691Z",
     "iopub.status.idle": "2024-01-31T02:40:16.525087Z",
     "shell.execute_reply": "2024-01-31T02:40:16.524239Z"
    },
    "papermill": {
     "duration": 0.029837,
     "end_time": "2024-01-31T02:40:16.527095",
     "exception": false,
     "start_time": "2024-01-31T02:40:16.497258",
     "status": "completed"
    },
    "tags": []
   },
   "outputs": [],
   "source": [
    "class CustomDataset(Dataset):\n",
    "    def __init__(self, X, y):\n",
    "        self.X = X\n",
    "        self.y = y\n",
    "        \n",
    "    def __len__(self):\n",
    "        return len(self.X)\n",
    "    \n",
    "    def __getitem__(self, idx):\n",
    "        return self.X[idx], self.y[idx]"
   ]
  },
  {
   "cell_type": "code",
   "execution_count": 40,
   "id": "6740822b",
   "metadata": {
    "execution": {
     "iopub.execute_input": "2024-01-31T02:40:16.571493Z",
     "iopub.status.busy": "2024-01-31T02:40:16.571247Z",
     "iopub.status.idle": "2024-01-31T02:40:16.577773Z",
     "shell.execute_reply": "2024-01-31T02:40:16.576949Z"
    },
    "papermill": {
     "duration": 0.030888,
     "end_time": "2024-01-31T02:40:16.579632",
     "exception": false,
     "start_time": "2024-01-31T02:40:16.548744",
     "status": "completed"
    },
    "tags": []
   },
   "outputs": [],
   "source": [
    "def collate_batch(batch, vocab):\n",
    "    \"\"\"\n",
    "    Collates a batch of samples into padded sequences of text and labels.\n",
    "\n",
    "    Args:\n",
    "        batch (list): A list of samples, where each sample is a dictionary containing 'text' and 'label' keys.\n",
    "        vocab (torchtext.vocab.Vocab): The vocabulary object used to numericalize text.\n",
    "\n",
    "    Returns:\n",
    "        tuple: A tuple containing three elements:\n",
    "            - padded_text (torch.Tensor): Padded sequences of numericalized text.\n",
    "            - label_list (torch.Tensor): Tensor containing labels for each sample.\n",
    "            - lengths (torch.Tensor): Tensor containing lengths of sequences in the batch.\n",
    "    \"\"\"\n",
    "    text_list, label_list, lengths = [], [], []\n",
    "    for _text, _label in batch:\n",
    "        \n",
    "        processed_text = torch.tensor(vocab.numericalize(_text), dtype=torch.int64)\n",
    "        \n",
    "        text_list.append(processed_text)\n",
    "        label_list.append(float(_label))\n",
    "        lengths.append(len(processed_text))\n",
    "    \n",
    "    padded_text = torch.nn.utils.rnn.pad_sequence(text_list, batch_first=True, padding_value=vocab.stoi['<PAD>'])\n",
    "    \n",
    "    return padded_text, torch.tensor(label_list), torch.tensor(lengths)"
   ]
  },
  {
   "cell_type": "code",
   "execution_count": 41,
   "id": "cb9f8ead",
   "metadata": {
    "execution": {
     "iopub.execute_input": "2024-01-31T02:40:16.623284Z",
     "iopub.status.busy": "2024-01-31T02:40:16.623020Z",
     "iopub.status.idle": "2024-01-31T02:40:16.634854Z",
     "shell.execute_reply": "2024-01-31T02:40:16.634045Z"
    },
    "papermill": {
     "duration": 0.035782,
     "end_time": "2024-01-31T02:40:16.636684",
     "exception": false,
     "start_time": "2024-01-31T02:40:16.600902",
     "status": "completed"
    },
    "tags": []
   },
   "outputs": [],
   "source": [
    "class RNN(nn.Module):\n",
    "    \"\"\"\n",
    "    A recurrent neural network (RNN) model for sequence classification.\n",
    "\n",
    "    Args:\n",
    "        vocab_size (int): The size of the vocabulary.\n",
    "        embed_dim (int): The dimensionality of the embedding layer.\n",
    "        rnn_hidden_dim (int): The number of features in the RNN hidden state.\n",
    "        fc_dim (int): The dimensionality of the fully connected layer.\n",
    "        bidirectional (bool, optional): If True, use a bidirectional RNN. Default is True.\n",
    "        num_layers (int, optional): Number of recurrent layers. Default is 2.\n",
    "        dropout (float, optional): Dropout probability. Default is 0.25.\n",
    "    \"\"\"\n",
    "\n",
    "    def __init__(self, vocab_size, embed_dim, rnn_hidden_dim, first_fc_dim, second_fc_dim, third_fc_dim, bidirectional=True, num_layers=4, dropout=0.25):\n",
    "        \"\"\"\n",
    "        Initializes the RNN model.\n",
    "\n",
    "        Args:\n",
    "            vocab_size (int): The size of the vocabulary.\n",
    "            embed_dim (int): The dimensionality of the embedding layer.\n",
    "            rnn_hidden_dim (int): The number of features in the RNN hidden state.\n",
    "            fc_dim (int): The dimensionality of the fully connected layer.\n",
    "            bidirectional (bool, optional): If True, use a bidirectional RNN. Default is True.\n",
    "            num_layers (int, optional): Number of recurrent layers. Default is 2.\n",
    "            dropout (float, optional): Dropout probability. Default is 0.25.\n",
    "        \"\"\"\n",
    "        super().__init__()\n",
    "        self.embedding = nn.Embedding(vocab_size, embed_dim, padding_idx=0)\n",
    "        self.rnn = nn.LSTM(embed_dim, rnn_hidden_dim, batch_first=True, bidirectional=bidirectional, num_layers=num_layers, dropout=dropout)\n",
    "        self.fc1 = nn.Linear(rnn_hidden_dim * 2 if bidirectional else rnn_hidden_dim, first_fc_dim)\n",
    "        self.fc2 = nn.Linear(first_fc_dim, second_fc_dim)\n",
    "        self.fc3 = nn.Linear(second_fc_dim, third_fc_dim)\n",
    "        self.fc4 = nn.Linear(third_fc_dim, 1)\n",
    "        self.relu = nn.ReLU()\n",
    "        self.sigmoid = nn.Sigmoid()\n",
    "\n",
    "    def forward(self, text, lengths):\n",
    "        \"\"\"\n",
    "        Performs forward pass of the RNN model.\n",
    "\n",
    "        Args:\n",
    "            text (torch.Tensor): Input sequences of token indices.\n",
    "            lengths (torch.Tensor): Lengths of sequences in the batch.\n",
    "\n",
    "        Returns:\n",
    "            torch.Tensor: Output predictions (probabilities).\n",
    "        \"\"\"\n",
    "        out = self.embedding(text)\n",
    "        out = nn.utils.rnn.pack_padded_sequence(out, lengths.cpu().numpy(), enforce_sorted=False, batch_first=True)\n",
    "        _, (hidden, cell) = self.rnn(out)\n",
    "        out = torch.cat((hidden[-2, :, :], hidden[-1, :, :]), dim=1) if self.rnn.bidirectional else hidden[-1, :, :]\n",
    "        out = self.fc1(out)\n",
    "        out = self.relu(out)\n",
    "        out = self.fc2(out)\n",
    "        out = self.relu(out)\n",
    "        out = self.fc3(out)\n",
    "        out = self.relu(out)\n",
    "        out = self.fc4(out)\n",
    "        out = self.sigmoid(out)\n",
    "        return out"
   ]
  },
  {
   "cell_type": "code",
   "execution_count": 42,
   "id": "f55793c3",
   "metadata": {
    "execution": {
     "iopub.execute_input": "2024-01-31T02:40:16.680294Z",
     "iopub.status.busy": "2024-01-31T02:40:16.680051Z",
     "iopub.status.idle": "2024-01-31T02:40:16.688639Z",
     "shell.execute_reply": "2024-01-31T02:40:16.687812Z"
    },
    "papermill": {
     "duration": 0.03256,
     "end_time": "2024-01-31T02:40:16.690462",
     "exception": false,
     "start_time": "2024-01-31T02:40:16.657902",
     "status": "completed"
    },
    "tags": []
   },
   "outputs": [],
   "source": [
    "def train(dataloader):\n",
    "    \"\"\"\n",
    "    Trains the model using the given dataloader.\n",
    "\n",
    "    Args:\n",
    "        dataloader (torch.utils.data.DataLoader): The dataloader providing batches of data.\n",
    "\n",
    "    Returns:\n",
    "        tuple: A tuple containing three elements:\n",
    "            - avg_acc (float): Average accuracy of the model on the training data.\n",
    "            - avg_loss (float): Average loss of the model on the training data.\n",
    "            - f1 (float): F1 score of the model on the training data.\n",
    "    \"\"\"\n",
    "    model.train()\n",
    "    total_acc, total_loss = 0, 0\n",
    "    y_true, y_pred = [], []\n",
    "    for text_batch, label_batch, lengths in dataloader:\n",
    "        text_batch, label_batch, lengths = text_batch.to(device), label_batch.to(device), lengths.to(device)\n",
    "        optimizer.zero_grad()\n",
    "        pred = model(text_batch, lengths)[:, 0]\n",
    "        loss = criterion(pred, label_batch)\n",
    "        loss.backward()\n",
    "        optimizer.step()\n",
    "        total_acc += ((pred >= 0.5).float() == label_batch).float().sum().item()\n",
    "        total_loss += loss.item() * label_batch.size(0)\n",
    "        y_true.extend(label_batch.cpu().numpy())\n",
    "        y_pred.extend((pred >= 0.5).cpu().numpy())\n",
    "    \n",
    "    # Learning rate scheduling after each epoch\n",
    "    scheduler.step()\n",
    "    \n",
    "    avg_acc = total_acc / len(dataloader.dataset)\n",
    "    avg_loss = total_loss / len(dataloader.dataset)\n",
    "    f1 = f1_score(y_true, y_pred)\n",
    "    return avg_acc, avg_loss, f1"
   ]
  },
  {
   "cell_type": "code",
   "execution_count": 43,
   "id": "e207f75b",
   "metadata": {
    "execution": {
     "iopub.execute_input": "2024-01-31T02:40:16.735000Z",
     "iopub.status.busy": "2024-01-31T02:40:16.734363Z",
     "iopub.status.idle": "2024-01-31T02:40:16.743098Z",
     "shell.execute_reply": "2024-01-31T02:40:16.742251Z"
    },
    "papermill": {
     "duration": 0.032784,
     "end_time": "2024-01-31T02:40:16.745082",
     "exception": false,
     "start_time": "2024-01-31T02:40:16.712298",
     "status": "completed"
    },
    "tags": []
   },
   "outputs": [],
   "source": [
    "def evaluate(dataloader):\n",
    "    \"\"\"\n",
    "    Evaluates the model using the given dataloader.\n",
    "\n",
    "    Args:\n",
    "        dataloader (torch.utils.data.DataLoader): The dataloader providing batches of data.\n",
    "\n",
    "    Returns:\n",
    "        tuple: A tuple containing three elements:\n",
    "            - avg_acc (float): Average accuracy of the model on the validation data.\n",
    "            - avg_loss (float): Average loss of the model on the validation data.\n",
    "            - f1 (float): F1 score of the model on the validation data.\n",
    "    \"\"\"\n",
    "    model.eval()\n",
    "    total_acc, total_loss = 0, 0\n",
    "    y_true, y_pred, y_probs = [], [], []\n",
    "    with torch.no_grad():\n",
    "        for text_batch, label_batch, lengths in dataloader:\n",
    "            text_batch, label_batch, lengths = text_batch.to(device), label_batch.to(device), lengths.to(device)\n",
    "            pred = model(text_batch, lengths)[:, 0]\n",
    "            loss = criterion(pred, label_batch)\n",
    "            total_acc += ((pred >= 0.5).float() == label_batch).float().sum().item()\n",
    "            total_loss += loss.item() * label_batch.size(0)\n",
    "            y_true.extend(label_batch.cpu().numpy())\n",
    "            y_pred.extend((pred >= 0.5).cpu().numpy())\n",
    "            y_probs.extend(pred.cpu().numpy())\n",
    "    avg_accuracy = total_acc / len(dataloader.dataset)\n",
    "    average_loss = total_loss / len(dataloader.dataset)\n",
    "    f1 = f1_score(y_true, y_pred)\n",
    "    classification_report_result = classification_report(y_true, y_pred)\n",
    "    \n",
    "    return avg_accuracy, average_loss, f1, classification_report_result, y_probs \n"
   ]
  },
  {
   "cell_type": "code",
   "execution_count": 44,
   "id": "0f8b4b62",
   "metadata": {
    "execution": {
     "iopub.execute_input": "2024-01-31T02:40:16.788477Z",
     "iopub.status.busy": "2024-01-31T02:40:16.788213Z",
     "iopub.status.idle": "2024-01-31T02:40:16.795672Z",
     "shell.execute_reply": "2024-01-31T02:40:16.794677Z"
    },
    "papermill": {
     "duration": 0.031255,
     "end_time": "2024-01-31T02:40:16.797562",
     "exception": false,
     "start_time": "2024-01-31T02:40:16.766307",
     "status": "completed"
    },
    "tags": []
   },
   "outputs": [
    {
     "data": {
      "text/plain": [
       "<torch._C.Generator at 0x7d50a768afd0>"
      ]
     },
     "execution_count": 44,
     "metadata": {},
     "output_type": "execute_result"
    }
   ],
   "source": [
    "torch.manual_seed(1)"
   ]
  },
  {
   "cell_type": "code",
   "execution_count": 45,
   "id": "ff07db55",
   "metadata": {
    "execution": {
     "iopub.execute_input": "2024-01-31T02:40:16.841534Z",
     "iopub.status.busy": "2024-01-31T02:40:16.841276Z",
     "iopub.status.idle": "2024-01-31T02:40:21.582861Z",
     "shell.execute_reply": "2024-01-31T02:40:21.582121Z"
    },
    "papermill": {
     "duration": 4.766192,
     "end_time": "2024-01-31T02:40:21.585250",
     "exception": false,
     "start_time": "2024-01-31T02:40:16.819058",
     "status": "completed"
    },
    "tags": []
   },
   "outputs": [],
   "source": [
    "vocab = Vocabulary(freq_threshold=5, max_size=10000)\n",
    "vocab.build_vocabulary(X_train)"
   ]
  },
  {
   "cell_type": "code",
   "execution_count": 46,
   "id": "44c5995b",
   "metadata": {
    "execution": {
     "iopub.execute_input": "2024-01-31T02:40:21.631180Z",
     "iopub.status.busy": "2024-01-31T02:40:21.630698Z",
     "iopub.status.idle": "2024-01-31T02:40:21.635722Z",
     "shell.execute_reply": "2024-01-31T02:40:21.634820Z"
    },
    "papermill": {
     "duration": 0.030116,
     "end_time": "2024-01-31T02:40:21.637877",
     "exception": false,
     "start_time": "2024-01-31T02:40:21.607761",
     "status": "completed"
    },
    "tags": []
   },
   "outputs": [
    {
     "name": "stdout",
     "output_type": "stream",
     "text": [
      "['<PAD>', '<SOS>', '<EOS>', '<UNK>', '.', ',', 'the', 'to', 'and', 'a', 'of', 'in', 'that', 'it', 'is', \"'\", 'for', 'can', 'you', 'be', 'they', 'i', 'have', 'are', 'students', 'on', 'not', 'their', 'this', 's', 'with', 'or', 'we', 'people', 'more', 'as', 'if', 'like', 'school', 'would', 'but', 'will', 'do', 'because', 'by', 't', 'also', 'there', 'from', 'help', 'when', 'our', 'them', 'time', 'an', 'so', 'about', 'all', 'your', 'one', 'some', 'make', 'should', 'what', 'at', 'get', 'could', 'who', 'has', 'my', 'just', 'car', 'other', 'may', 'was', 'electoral', 'think', 'cars', 'college', 'work', 'how', 'many', 'student', 'up', 'way', 'good', 'out', 'even', 'which', '?', 'these', 'know', 'better', 'life', 'important', 'us', 'take', 'while', 'want', 'states', 'learning', 'vote', 'use', 'new', 'need', '!', 're', 'being', 'learn', 'don', 'than', 'example', 'own', 'something', 'only', 'might', 'why', 'things', 'able', 'most', 'day', 'having', 'then', 'classes', 'me', 'no', 'he', 'go', 'really', 'activities', 'such', 'driving', 'world', 'person', 'online', 'been', 'home', 'others', 'different', 'venus', 'president', 'believe', 'had', 'lead', 'conclusion', 'technology', 'teachers', 'much', 'another', 'first', 'see', 'positive', 'into', 'its', 'going', 'system', 'community', 'phones', 'always', 'someone', 'were', 'class', 'feel', 'skills', 'face', 'doing', 'project', 'usage', 'summer', 'over', 'where', 'working', 'very', 'making', 'however', 'well', 'change', 'idea', 'best', 'benefits', 'success', 'give', 'thing', 'less', 'without', 'any', 'friends', 'say', 'after', 'projects', 'around', 'those', 'popular', 'now', 'provide', 'lot', 'teacher', 'advice', 'environment', 'too', 'hard', 'reason', 'during', 'each', 'future', 'sports', 'kids', 'right', 'great', 'votes', 'still', 'become', 'taking', 'schools', 'high', 'his', 'keep', 'let', 'experience', 'state', 'through', 'cell', 'social', 'extracurricular', 'made', 'limiting', 'additionally', 'phone', 'm', 'find', 'same', 'everyone', 'election', 'using', 'education', 'both', 'likely', 'electors', 'getting', 'bad', 'impact', 'she', 'every', 'goals', 'driverless', 'come', 'lives', 'air', 'parents', 'potential']\n"
     ]
    }
   ],
   "source": [
    "print(list(vocab.get_vocabularies().values())[:250])"
   ]
  },
  {
   "cell_type": "code",
   "execution_count": 47,
   "id": "fc67a00c",
   "metadata": {
    "execution": {
     "iopub.execute_input": "2024-01-31T02:40:21.682653Z",
     "iopub.status.busy": "2024-01-31T02:40:21.682404Z",
     "iopub.status.idle": "2024-01-31T02:40:21.686364Z",
     "shell.execute_reply": "2024-01-31T02:40:21.685538Z"
    },
    "papermill": {
     "duration": 0.028889,
     "end_time": "2024-01-31T02:40:21.688328",
     "exception": false,
     "start_time": "2024-01-31T02:40:21.659439",
     "status": "completed"
    },
    "tags": []
   },
   "outputs": [],
   "source": [
    "train_dataset = CustomDataset(X_train, y_train)\n",
    "validation_dataset = CustomDataset(X_val, y_val)"
   ]
  },
  {
   "cell_type": "code",
   "execution_count": 48,
   "id": "4dcdb1d5",
   "metadata": {
    "execution": {
     "iopub.execute_input": "2024-01-31T02:40:21.732536Z",
     "iopub.status.busy": "2024-01-31T02:40:21.732221Z",
     "iopub.status.idle": "2024-01-31T02:40:21.737931Z",
     "shell.execute_reply": "2024-01-31T02:40:21.736917Z"
    },
    "papermill": {
     "duration": 0.030287,
     "end_time": "2024-01-31T02:40:21.739934",
     "exception": false,
     "start_time": "2024-01-31T02:40:21.709647",
     "status": "completed"
    },
    "tags": []
   },
   "outputs": [],
   "source": [
    "batch_size = 64\n",
    "train_dl = DataLoader(train_dataset, batch_size=batch_size, shuffle=True, collate_fn=lambda batch: collate_batch(batch, vocab), drop_last=True)\n",
    "valid_dl = DataLoader(validation_dataset, batch_size=batch_size, shuffle=False, collate_fn=lambda batch: collate_batch(batch, vocab))"
   ]
  },
  {
   "cell_type": "code",
   "execution_count": 49,
   "id": "d57660fc",
   "metadata": {
    "execution": {
     "iopub.execute_input": "2024-01-31T02:40:21.784354Z",
     "iopub.status.busy": "2024-01-31T02:40:21.783838Z",
     "iopub.status.idle": "2024-01-31T02:40:21.788369Z",
     "shell.execute_reply": "2024-01-31T02:40:21.787528Z"
    },
    "papermill": {
     "duration": 0.028762,
     "end_time": "2024-01-31T02:40:21.790280",
     "exception": false,
     "start_time": "2024-01-31T02:40:21.761518",
     "status": "completed"
    },
    "tags": []
   },
   "outputs": [],
   "source": [
    "test_batch_size = 32\n",
    "test_dataset = CustomDataset(X_test, y_test)\n",
    "test_dl = DataLoader(test_dataset, batch_size=test_batch_size, shuffle=False, collate_fn=lambda batch: collate_batch(batch, vocab))"
   ]
  },
  {
   "cell_type": "code",
   "execution_count": 50,
   "id": "e6bef4db",
   "metadata": {
    "execution": {
     "iopub.execute_input": "2024-01-31T02:40:21.834448Z",
     "iopub.status.busy": "2024-01-31T02:40:21.834207Z",
     "iopub.status.idle": "2024-01-31T02:40:22.358167Z",
     "shell.execute_reply": "2024-01-31T02:40:22.357165Z"
    },
    "papermill": {
     "duration": 0.548302,
     "end_time": "2024-01-31T02:40:22.360259",
     "exception": false,
     "start_time": "2024-01-31T02:40:21.811957",
     "status": "completed"
    },
    "tags": []
   },
   "outputs": [
    {
     "name": "stdout",
     "output_type": "stream",
     "text": [
      "cuda\n",
      "RNN(\n",
      "  (embedding): Embedding(10000, 1024, padding_idx=0)\n",
      "  (rnn): LSTM(1024, 128, num_layers=4, batch_first=True, dropout=0.25, bidirectional=True)\n",
      "  (fc1): Linear(in_features=256, out_features=128, bias=True)\n",
      "  (fc2): Linear(in_features=128, out_features=64, bias=True)\n",
      "  (fc3): Linear(in_features=64, out_features=8, bias=True)\n",
      "  (fc4): Linear(in_features=8, out_features=1, bias=True)\n",
      "  (relu): ReLU()\n",
      "  (sigmoid): Sigmoid()\n",
      ")\n"
     ]
    }
   ],
   "source": [
    "device = 'cuda' if torch.cuda.is_available() else 'cpu'\n",
    "print(device)\n",
    "\n",
    "vocab_size = len(vocab)  \n",
    "embed_dim = 1024  \n",
    "rnn_hidden_dim = 128\n",
    "first_fc_dim =  128\n",
    "second_fc_dim =  64\n",
    "third_fc_dim =  8\n",
    "\n",
    "model = RNN(vocab_size, embed_dim, rnn_hidden_dim, first_fc_dim, second_fc_dim, third_fc_dim).to(device)\n",
    "\n",
    "print(model)"
   ]
  },
  {
   "cell_type": "code",
   "execution_count": 51,
   "id": "cd8c694f",
   "metadata": {
    "execution": {
     "iopub.execute_input": "2024-01-31T02:40:22.405036Z",
     "iopub.status.busy": "2024-01-31T02:40:22.404722Z",
     "iopub.status.idle": "2024-01-31T02:40:24.062825Z",
     "shell.execute_reply": "2024-01-31T02:40:24.062030Z"
    },
    "papermill": {
     "duration": 1.682825,
     "end_time": "2024-01-31T02:40:24.065074",
     "exception": false,
     "start_time": "2024-01-31T02:40:22.382249",
     "status": "completed"
    },
    "tags": []
   },
   "outputs": [],
   "source": [
    "criterion = nn.BCELoss()\n",
    "optimizer = torch.optim.Adam(model.parameters(), lr=0.01)\n",
    "scheduler = torch.optim.lr_scheduler.StepLR(optimizer, step_size=4, gamma=0.1)"
   ]
  },
  {
   "cell_type": "code",
   "execution_count": 52,
   "id": "eb6f1364",
   "metadata": {
    "execution": {
     "iopub.execute_input": "2024-01-31T02:40:24.110367Z",
     "iopub.status.busy": "2024-01-31T02:40:24.109909Z",
     "iopub.status.idle": "2024-01-31T02:48:31.895898Z",
     "shell.execute_reply": "2024-01-31T02:48:31.894719Z"
    },
    "papermill": {
     "duration": 487.837229,
     "end_time": "2024-01-31T02:48:31.924487",
     "exception": false,
     "start_time": "2024-01-31T02:40:24.087258",
     "status": "completed"
    },
    "tags": []
   },
   "outputs": [
    {
     "name": "stderr",
     "output_type": "stream",
     "text": [
      " 20%|██        | 1/5 [01:38<06:32, 98.22s/it]"
     ]
    },
    {
     "name": "stdout",
     "output_type": "stream",
     "text": [
      "Epoch 0 *** acc_train: 0.8859 ****** acc_valid: 0.9745\n",
      "Epoch 0 *** loss_train: 0.3081 ****** loss_valid: 0.0787\n",
      "Epoch 0 *** f1_score_train: 0.8910 ****** f1_score_valid: 0.9740\n"
     ]
    },
    {
     "name": "stderr",
     "output_type": "stream",
     "text": [
      " 40%|████      | 2/5 [03:15<04:53, 97.93s/it]"
     ]
    },
    {
     "name": "stdout",
     "output_type": "stream",
     "text": [
      "Epoch 1 *** acc_train: 0.9755 ****** acc_valid: 0.9847\n",
      "Epoch 1 *** loss_train: 0.0719 ****** loss_valid: 0.0427\n",
      "Epoch 1 *** f1_score_train: 0.9786 ****** f1_score_valid: 0.9849\n"
     ]
    },
    {
     "name": "stderr",
     "output_type": "stream",
     "text": [
      " 60%|██████    | 3/5 [04:52<03:15, 97.53s/it]"
     ]
    },
    {
     "name": "stdout",
     "output_type": "stream",
     "text": [
      "Epoch 2 *** acc_train: 0.9789 ****** acc_valid: 0.9607\n",
      "Epoch 2 *** loss_train: 0.0527 ****** loss_valid: 0.1532\n",
      "Epoch 2 *** f1_score_train: 0.9821 ****** f1_score_valid: 0.9621\n"
     ]
    },
    {
     "name": "stderr",
     "output_type": "stream",
     "text": [
      " 80%|████████  | 4/5 [06:30<01:37, 97.50s/it]"
     ]
    },
    {
     "name": "stdout",
     "output_type": "stream",
     "text": [
      "Epoch 3 *** acc_train: 0.9841 ****** acc_valid: 0.9752\n",
      "Epoch 3 *** loss_train: 0.0392 ****** loss_valid: 0.0830\n",
      "Epoch 3 *** f1_score_train: 0.9873 ****** f1_score_valid: 0.9756\n"
     ]
    },
    {
     "name": "stderr",
     "output_type": "stream",
     "text": [
      "100%|██████████| 5/5 [08:07<00:00, 97.55s/it]"
     ]
    },
    {
     "name": "stdout",
     "output_type": "stream",
     "text": [
      "Epoch 4 *** acc_train: 0.9896 ****** acc_valid: 0.9912\n",
      "Epoch 4 *** loss_train: 0.0242 ****** loss_valid: 0.0306\n",
      "Epoch 4 *** f1_score_train: 0.9928 ****** f1_score_valid: 0.9912\n"
     ]
    },
    {
     "name": "stderr",
     "output_type": "stream",
     "text": [
      "\n"
     ]
    }
   ],
   "source": [
    "num_epochs = 5\n",
    "torch.manual_seed(1)\n",
    "\n",
    "train_acc_list, train_loss_list = [], []\n",
    "valid_acc_list, valid_loss_list = [], []\n",
    "train_f1_score_list, valid_f1_score_list = [], []\n",
    "\n",
    "for epoch in tqdm(range(num_epochs)):\n",
    "    acc_train, loss_train, f1_score_train = train(train_dl)\n",
    "    acc_valid, loss_valid, f1_score_valid, _, _ = evaluate(valid_dl)\n",
    "    \n",
    "    train_acc_list.append(acc_train)\n",
    "    train_loss_list.append(loss_train)\n",
    "    train_f1_score_list.append(f1_score_train)\n",
    "    \n",
    "    valid_acc_list.append(acc_valid)\n",
    "    valid_loss_list.append(loss_valid)\n",
    "    valid_f1_score_list.append(f1_score_valid)\n",
    "    \n",
    "    print(f'Epoch {epoch} *** acc_train: {acc_train:.4f} ****** acc_valid: {acc_valid:.4f}')\n",
    "    print(f'Epoch {epoch} *** loss_train: {loss_train:.4f} ****** loss_valid: {loss_valid:.4f}')\n",
    "    print(f'Epoch {epoch} *** f1_score_train: {f1_score_train:.4f} ****** f1_score_valid: {f1_score_valid:.4f}')        "
   ]
  },
  {
   "cell_type": "markdown",
   "id": "ae04fb37",
   "metadata": {
    "papermill": {
     "duration": 0.029327,
     "end_time": "2024-01-31T02:48:31.979101",
     "exception": false,
     "start_time": "2024-01-31T02:48:31.949774",
     "status": "completed"
    },
    "tags": []
   },
   "source": [
    "# evaluate"
   ]
  },
  {
   "cell_type": "code",
   "execution_count": 53,
   "id": "0041515a",
   "metadata": {
    "execution": {
     "iopub.execute_input": "2024-01-31T02:48:32.039266Z",
     "iopub.status.busy": "2024-01-31T02:48:32.038562Z",
     "iopub.status.idle": "2024-01-31T02:51:39.449316Z",
     "shell.execute_reply": "2024-01-31T02:51:39.448518Z"
    },
    "papermill": {
     "duration": 187.441653,
     "end_time": "2024-01-31T02:51:39.451720",
     "exception": false,
     "start_time": "2024-01-31T02:48:32.010067",
     "status": "completed"
    },
    "tags": []
   },
   "outputs": [],
   "source": [
    "_, _, _, classification_result_report, y_probs = evaluate(test_dl)"
   ]
  },
  {
   "cell_type": "code",
   "execution_count": 54,
   "id": "4daefb8d",
   "metadata": {
    "execution": {
     "iopub.execute_input": "2024-01-31T02:51:39.500447Z",
     "iopub.status.busy": "2024-01-31T02:51:39.500092Z",
     "iopub.status.idle": "2024-01-31T02:51:39.504928Z",
     "shell.execute_reply": "2024-01-31T02:51:39.504057Z"
    },
    "papermill": {
     "duration": 0.031947,
     "end_time": "2024-01-31T02:51:39.507400",
     "exception": false,
     "start_time": "2024-01-31T02:51:39.475453",
     "status": "completed"
    },
    "tags": []
   },
   "outputs": [
    {
     "name": "stdout",
     "output_type": "stream",
     "text": [
      "              precision    recall  f1-score   support\n",
      "\n",
      "         0.0       0.99      0.99      0.99     29741\n",
      "         1.0       0.98      0.98      0.98     14414\n",
      "\n",
      "    accuracy                           0.99     44155\n",
      "   macro avg       0.99      0.98      0.99     44155\n",
      "weighted avg       0.99      0.99      0.99     44155\n",
      "\n"
     ]
    }
   ],
   "source": [
    "print(classification_result_report)"
   ]
  },
  {
   "cell_type": "code",
   "execution_count": 55,
   "id": "eb50b327",
   "metadata": {
    "execution": {
     "iopub.execute_input": "2024-01-31T02:51:39.556969Z",
     "iopub.status.busy": "2024-01-31T02:51:39.556136Z",
     "iopub.status.idle": "2024-01-31T02:51:39.732952Z",
     "shell.execute_reply": "2024-01-31T02:51:39.732051Z"
    },
    "papermill": {
     "duration": 0.204004,
     "end_time": "2024-01-31T02:51:39.735115",
     "exception": false,
     "start_time": "2024-01-31T02:51:39.531111",
     "status": "completed"
    },
    "tags": []
   },
   "outputs": [
    {
     "data": {
      "image/png": "[encoded data removed]",
      "text/plain": [
       "<Figure size 640x480 with 1 Axes>"
      ]
     },
     "metadata": {},
     "output_type": "display_data"
    }
   ],
   "source": [
    "fpr, tpr, thresholds = roc_curve(y_test, y_probs)\n",
    "roc_auc = auc(fpr, tpr)\n",
    "plt.plot(fpr, tpr);"
   ]
  },
  {
   "cell_type": "code",
   "execution_count": 56,
   "id": "b28864d2",
   "metadata": {
    "execution": {
     "iopub.execute_input": "2024-01-31T02:51:39.783135Z",
     "iopub.status.busy": "2024-01-31T02:51:39.782803Z",
     "iopub.status.idle": "2024-01-31T02:51:39.890949Z",
     "shell.execute_reply": "2024-01-31T02:51:39.890155Z"
    },
    "papermill": {
     "duration": 0.134349,
     "end_time": "2024-01-31T02:51:39.893070",
     "exception": false,
     "start_time": "2024-01-31T02:51:39.758721",
     "status": "completed"
    },
    "tags": []
   },
   "outputs": [],
   "source": [
    "torch.save(model, 'model.pth')"
   ]
  }
 ],
 "metadata": {
  "kaggle": {
   "accelerator": "gpu",
   "dataSources": [
    {
     "databundleVersionId": 7516023,
     "sourceId": 61542,
     "sourceType": "competition"
    },
    {
     "datasetId": 3942644,
     "sourceId": 6890527,
     "sourceType": "datasetVersion"
    }
   ],
   "dockerImageVersionId": 30648,
   "isGpuEnabled": true,
   "isInternetEnabled": true,
   "language": "python",
   "sourceType": "notebook"
  },
  "kernelspec": {
   "display_name": "Python 3 (ipykernel)",
   "language": "python",
   "name": "python3"
  },
  "language_info": {
   "codemirror_mode": {
    "name": "ipython",
    "version": 3
   },
   "file_extension": ".py",
   "mimetype": "text/x-python",
   "name": "python",
   "nbconvert_exporter": "python",
   "pygments_lexer": "ipython3",
   "version": "3.11.5"
  },
  "papermill": {
   "default_parameters": {},
   "duration": 718.442967,
   "end_time": "2024-01-31T02:51:42.731775",
   "environment_variables": {},
   "exception": null,
   "input_path": "__notebook__.ipynb",
   "output_path": "__notebook__.ipynb",
   "parameters": {},
   "start_time": "2024-01-31T02:39:44.288808",
   "version": "2.5.0"
  }
 },
 "nbformat": 4,
 "nbformat_minor": 5
}
