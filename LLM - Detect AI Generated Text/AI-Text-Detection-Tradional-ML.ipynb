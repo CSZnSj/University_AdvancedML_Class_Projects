{
 "cells": [
  {
   "cell_type": "markdown",
   "id": "dc017a3f",
   "metadata": {
    "papermill": {
     "duration": 0.00911,
     "end_time": "2024-01-31T08:54:12.369543",
     "exception": false,
     "start_time": "2024-01-31T08:54:12.360433",
     "status": "completed"
    },
    "tags": []
   },
   "source": [
    "# import"
   ]
  },
  {
   "cell_type": "code",
   "execution_count": 1,
   "id": "80000931",
   "metadata": {
    "_cell_guid": "b1076dfc-b9ad-4769-8c92-a6c4dae69d19",
    "_uuid": "8f2839f25d086af736a60e9eeb907d3b93b6e0e5",
    "execution": {
     "iopub.execute_input": "2024-01-31T08:54:12.391289Z",
     "iopub.status.busy": "2024-01-31T08:54:12.389867Z",
     "iopub.status.idle": "2024-01-31T08:54:13.336816Z",
     "shell.execute_reply": "2024-01-31T08:54:13.335459Z"
    },
    "papermill": {
     "duration": 0.960488,
     "end_time": "2024-01-31T08:54:13.340024",
     "exception": false,
     "start_time": "2024-01-31T08:54:12.379536",
     "status": "completed"
    },
    "tags": []
   },
   "outputs": [
    {
     "name": "stdout",
     "output_type": "stream",
     "text": [
      "/kaggle/input/daigt-proper-train-dataset/train_drcat_03.csv\n",
      "/kaggle/input/daigt-proper-train-dataset/train_drcat_02.csv\n",
      "/kaggle/input/daigt-proper-train-dataset/train_drcat_04.csv\n",
      "/kaggle/input/daigt-proper-train-dataset/train_drcat_01.csv\n",
      "/kaggle/input/llm-detect-ai-generated-text/sample_submission.csv\n",
      "/kaggle/input/llm-detect-ai-generated-text/train_prompts.csv\n",
      "/kaggle/input/llm-detect-ai-generated-text/test_essays.csv\n",
      "/kaggle/input/llm-detect-ai-generated-text/train_essays.csv\n"
     ]
    }
   ],
   "source": [
    "# This Python 3 environment comes with many helpful analytics libraries installed\n",
    "# It is defined by the kaggle/python Docker image: https://github.com/kaggle/docker-python\n",
    "# For example, here's several helpful packages to load\n",
    "\n",
    "import numpy as np # linear algebra\n",
    "import pandas as pd # data processing, CSV file I/O (e.g. pd.read_csv)\n",
    "\n",
    "# Input data files are available in the read-only \"../input/\" directory\n",
    "# For example, running this (by clicking run or pressing Shift+Enter) will list all files under the input directory\n",
    "\n",
    "import os\n",
    "for dirname, _, filenames in os.walk('/kaggle/input'):\n",
    "    for filename in filenames:\n",
    "        print(os.path.join(dirname, filename))\n",
    "\n",
    "# You can write up to 20GB to the current directory (/kaggle/working/) that gets preserved as output when you create a version using \"Save & Run All\" \n",
    "# You can also write temporary files to /kaggle/temp/, but they won't be saved outside of the current session"
   ]
  },
  {
   "cell_type": "code",
   "execution_count": null,
   "id": "203bb84f",
   "metadata": {
    "papermill": {
     "duration": 0.008413,
     "end_time": "2024-01-31T08:54:13.357054",
     "exception": false,
     "start_time": "2024-01-31T08:54:13.348641",
     "status": "completed"
    },
    "tags": []
   },
   "outputs": [],
   "source": []
  },
  {
   "cell_type": "code",
   "execution_count": 2,
   "id": "3f337394",
   "metadata": {
    "execution": {
     "iopub.execute_input": "2024-01-31T08:54:13.377857Z",
     "iopub.status.busy": "2024-01-31T08:54:13.377266Z",
     "iopub.status.idle": "2024-01-31T08:54:16.103465Z",
     "shell.execute_reply": "2024-01-31T08:54:16.102096Z"
    },
    "papermill": {
     "duration": 2.740994,
     "end_time": "2024-01-31T08:54:16.106511",
     "exception": false,
     "start_time": "2024-01-31T08:54:13.365517",
     "status": "completed"
    },
    "tags": []
   },
   "outputs": [],
   "source": [
    "org_data = pd.read_csv(\"/kaggle/input/llm-detect-ai-generated-text/train_essays.csv\")\n",
    "new_data = pd.read_csv(\"/kaggle/input/daigt-proper-train-dataset/train_drcat_02.csv\")"
   ]
  },
  {
   "cell_type": "markdown",
   "id": "8c54fc95",
   "metadata": {
    "papermill": {
     "duration": 0.008382,
     "end_time": "2024-01-31T08:54:16.123732",
     "exception": false,
     "start_time": "2024-01-31T08:54:16.115350",
     "status": "completed"
    },
    "tags": []
   },
   "source": [
    "# preprocessing"
   ]
  },
  {
   "cell_type": "code",
   "execution_count": 3,
   "id": "a1f9de61",
   "metadata": {
    "execution": {
     "iopub.execute_input": "2024-01-31T08:54:16.143314Z",
     "iopub.status.busy": "2024-01-31T08:54:16.142507Z",
     "iopub.status.idle": "2024-01-31T08:54:16.171309Z",
     "shell.execute_reply": "2024-01-31T08:54:16.169644Z"
    },
    "papermill": {
     "duration": 0.041733,
     "end_time": "2024-01-31T08:54:16.174164",
     "exception": false,
     "start_time": "2024-01-31T08:54:16.132431",
     "status": "completed"
    },
    "tags": []
   },
   "outputs": [
    {
     "data": {
      "text/html": [
       "<div>\n",
       "<style scoped>\n",
       "    .dataframe tbody tr th:only-of-type {\n",
       "        vertical-align: middle;\n",
       "    }\n",
       "\n",
       "    .dataframe tbody tr th {\n",
       "        vertical-align: top;\n",
       "    }\n",
       "\n",
       "    .dataframe thead th {\n",
       "        text-align: right;\n",
       "    }\n",
       "</style>\n",
       "<table border=\"1\" class=\"dataframe\">\n",
       "  <thead>\n",
       "    <tr style=\"text-align: right;\">\n",
       "      <th></th>\n",
       "      <th>text</th>\n",
       "      <th>generated</th>\n",
       "    </tr>\n",
       "  </thead>\n",
       "  <tbody>\n",
       "    <tr>\n",
       "      <th>0</th>\n",
       "      <td>Cars. Cars have been around since they became ...</td>\n",
       "      <td>0</td>\n",
       "    </tr>\n",
       "    <tr>\n",
       "      <th>1</th>\n",
       "      <td>Transportation is a large necessity in most co...</td>\n",
       "      <td>0</td>\n",
       "    </tr>\n",
       "    <tr>\n",
       "      <th>2</th>\n",
       "      <td>\"America's love affair with it's vehicles seem...</td>\n",
       "      <td>0</td>\n",
       "    </tr>\n",
       "    <tr>\n",
       "      <th>3</th>\n",
       "      <td>How often do you ride in a car? Do you drive a...</td>\n",
       "      <td>0</td>\n",
       "    </tr>\n",
       "    <tr>\n",
       "      <th>4</th>\n",
       "      <td>Cars are a wonderful thing. They are perhaps o...</td>\n",
       "      <td>0</td>\n",
       "    </tr>\n",
       "    <tr>\n",
       "      <th>...</th>\n",
       "      <td>...</td>\n",
       "      <td>...</td>\n",
       "    </tr>\n",
       "    <tr>\n",
       "      <th>1373</th>\n",
       "      <td>There has been a fuss about the Elector Colleg...</td>\n",
       "      <td>0</td>\n",
       "    </tr>\n",
       "    <tr>\n",
       "      <th>1374</th>\n",
       "      <td>Limiting car usage has many advantages. Such a...</td>\n",
       "      <td>0</td>\n",
       "    </tr>\n",
       "    <tr>\n",
       "      <th>1375</th>\n",
       "      <td>There's a new trend that has been developing f...</td>\n",
       "      <td>0</td>\n",
       "    </tr>\n",
       "    <tr>\n",
       "      <th>1376</th>\n",
       "      <td>As we all know cars are a big part of our soci...</td>\n",
       "      <td>0</td>\n",
       "    </tr>\n",
       "    <tr>\n",
       "      <th>1377</th>\n",
       "      <td>Cars have been around since the 1800's and hav...</td>\n",
       "      <td>0</td>\n",
       "    </tr>\n",
       "  </tbody>\n",
       "</table>\n",
       "<p>1378 rows × 2 columns</p>\n",
       "</div>"
      ],
      "text/plain": [
       "                                                   text  generated\n",
       "0     Cars. Cars have been around since they became ...          0\n",
       "1     Transportation is a large necessity in most co...          0\n",
       "2     \"America's love affair with it's vehicles seem...          0\n",
       "3     How often do you ride in a car? Do you drive a...          0\n",
       "4     Cars are a wonderful thing. They are perhaps o...          0\n",
       "...                                                 ...        ...\n",
       "1373  There has been a fuss about the Elector Colleg...          0\n",
       "1374  Limiting car usage has many advantages. Such a...          0\n",
       "1375  There's a new trend that has been developing f...          0\n",
       "1376  As we all know cars are a big part of our soci...          0\n",
       "1377  Cars have been around since the 1800's and hav...          0\n",
       "\n",
       "[1378 rows x 2 columns]"
      ]
     },
     "execution_count": 3,
     "metadata": {},
     "output_type": "execute_result"
    }
   ],
   "source": [
    "org_data = org_data[[\"text\", \"generated\"]]\n",
    "org_data"
   ]
  },
  {
   "cell_type": "code",
   "execution_count": 4,
   "id": "c6834e8d",
   "metadata": {
    "execution": {
     "iopub.execute_input": "2024-01-31T08:54:16.194387Z",
     "iopub.status.busy": "2024-01-31T08:54:16.193935Z",
     "iopub.status.idle": "2024-01-31T08:54:16.383007Z",
     "shell.execute_reply": "2024-01-31T08:54:16.381772Z"
    },
    "papermill": {
     "duration": 0.202483,
     "end_time": "2024-01-31T08:54:16.385715",
     "exception": false,
     "start_time": "2024-01-31T08:54:16.183232",
     "status": "completed"
    },
    "tags": []
   },
   "outputs": [
    {
     "name": "stdout",
     "output_type": "stream",
     "text": [
      "generated\n",
      "0    1375\n",
      "1       3\n",
      "Name: count, dtype: int64\n"
     ]
    },
    {
     "data": {
      "image/png": "[encoded data removed]",
      "text/plain": [
       "<Figure size 640x480 with 1 Axes>"
      ]
     },
     "metadata": {},
     "output_type": "display_data"
    }
   ],
   "source": [
    "# Calculate the value counts of the \"generated\" column in the original data\n",
    "org_data_generated_counts = org_data[\"generated\"].value_counts()\n",
    "\n",
    "# Print the value counts of the original data\n",
    "print(org_data_generated_counts)\n",
    "\n",
    "# Plot a pie chart of the value counts of the original data with percentage labels\n",
    "org_data_generated_counts.plot.pie(autopct='%1.1f%%');"
   ]
  },
  {
   "cell_type": "code",
   "execution_count": 5,
   "id": "73b299e2",
   "metadata": {
    "execution": {
     "iopub.execute_input": "2024-01-31T08:54:16.406446Z",
     "iopub.status.busy": "2024-01-31T08:54:16.406034Z",
     "iopub.status.idle": "2024-01-31T08:54:16.427187Z",
     "shell.execute_reply": "2024-01-31T08:54:16.426358Z"
    },
    "papermill": {
     "duration": 0.034095,
     "end_time": "2024-01-31T08:54:16.429345",
     "exception": false,
     "start_time": "2024-01-31T08:54:16.395250",
     "status": "completed"
    },
    "tags": []
   },
   "outputs": [
    {
     "data": {
      "text/html": [
       "<div>\n",
       "<style scoped>\n",
       "    .dataframe tbody tr th:only-of-type {\n",
       "        vertical-align: middle;\n",
       "    }\n",
       "\n",
       "    .dataframe tbody tr th {\n",
       "        vertical-align: top;\n",
       "    }\n",
       "\n",
       "    .dataframe thead th {\n",
       "        text-align: right;\n",
       "    }\n",
       "</style>\n",
       "<table border=\"1\" class=\"dataframe\">\n",
       "  <thead>\n",
       "    <tr style=\"text-align: right;\">\n",
       "      <th></th>\n",
       "      <th>text</th>\n",
       "      <th>generated</th>\n",
       "    </tr>\n",
       "  </thead>\n",
       "  <tbody>\n",
       "    <tr>\n",
       "      <th>0</th>\n",
       "      <td>Okay, here is my essay:\\n\\nWorking or doing th...</td>\n",
       "      <td>1</td>\n",
       "    </tr>\n",
       "    <tr>\n",
       "      <th>1</th>\n",
       "      <td>Dear Principal,\\r\\n\\r\\nI just want to let you ...</td>\n",
       "      <td>0</td>\n",
       "    </tr>\n",
       "    <tr>\n",
       "      <th>2</th>\n",
       "      <td>I believe they should change the voting to pop...</td>\n",
       "      <td>0</td>\n",
       "    </tr>\n",
       "    <tr>\n",
       "      <th>3</th>\n",
       "      <td>One example of an inspiring individual who has...</td>\n",
       "      <td>1</td>\n",
       "    </tr>\n",
       "    <tr>\n",
       "      <th>4</th>\n",
       "      <td>Dear Mr. Principal,\\n\\nI believe that students...</td>\n",
       "      <td>0</td>\n",
       "    </tr>\n",
       "    <tr>\n",
       "      <th>...</th>\n",
       "      <td>...</td>\n",
       "      <td>...</td>\n",
       "    </tr>\n",
       "    <tr>\n",
       "      <th>39780</th>\n",
       "      <td>\"Oh man I didn't make the soccer team!\", yelle...</td>\n",
       "      <td>0</td>\n",
       "    </tr>\n",
       "    <tr>\n",
       "      <th>39781</th>\n",
       "      <td>I believe that using this technology could be ...</td>\n",
       "      <td>0</td>\n",
       "    </tr>\n",
       "    <tr>\n",
       "      <th>39782</th>\n",
       "      <td>The Face on Mars is a fascinating phenomenon t...</td>\n",
       "      <td>1</td>\n",
       "    </tr>\n",
       "    <tr>\n",
       "      <th>39783</th>\n",
       "      <td>Texting &amp; Driving\\n\\nUsing your phone while dr...</td>\n",
       "      <td>0</td>\n",
       "    </tr>\n",
       "    <tr>\n",
       "      <th>39784</th>\n",
       "      <td>Dear Principal,\\n\\nI have been really good thi...</td>\n",
       "      <td>0</td>\n",
       "    </tr>\n",
       "  </tbody>\n",
       "</table>\n",
       "<p>39785 rows × 2 columns</p>\n",
       "</div>"
      ],
      "text/plain": [
       "                                                    text  generated\n",
       "0      Okay, here is my essay:\\n\\nWorking or doing th...          1\n",
       "1      Dear Principal,\\r\\n\\r\\nI just want to let you ...          0\n",
       "2      I believe they should change the voting to pop...          0\n",
       "3      One example of an inspiring individual who has...          1\n",
       "4      Dear Mr. Principal,\\n\\nI believe that students...          0\n",
       "...                                                  ...        ...\n",
       "39780  \"Oh man I didn't make the soccer team!\", yelle...          0\n",
       "39781  I believe that using this technology could be ...          0\n",
       "39782  The Face on Mars is a fascinating phenomenon t...          1\n",
       "39783  Texting & Driving\\n\\nUsing your phone while dr...          0\n",
       "39784  Dear Principal,\\n\\nI have been really good thi...          0\n",
       "\n",
       "[39785 rows x 2 columns]"
      ]
     },
     "execution_count": 5,
     "metadata": {},
     "output_type": "execute_result"
    }
   ],
   "source": [
    "new_data = new_data[[\"text\", \"label\"]].rename(columns={'text':'text', 'label':'generated'})\n",
    "new_data"
   ]
  },
  {
   "cell_type": "code",
   "execution_count": 6,
   "id": "48350617",
   "metadata": {
    "execution": {
     "iopub.execute_input": "2024-01-31T08:54:16.450793Z",
     "iopub.status.busy": "2024-01-31T08:54:16.450310Z",
     "iopub.status.idle": "2024-01-31T08:54:16.534423Z",
     "shell.execute_reply": "2024-01-31T08:54:16.532888Z"
    },
    "papermill": {
     "duration": 0.097923,
     "end_time": "2024-01-31T08:54:16.537184",
     "exception": false,
     "start_time": "2024-01-31T08:54:16.439261",
     "status": "completed"
    },
    "tags": []
   },
   "outputs": [
    {
     "data": {
      "text/plain": [
       "(None, None)"
      ]
     },
     "execution_count": 6,
     "metadata": {},
     "output_type": "execute_result"
    }
   ],
   "source": [
    "org_data.drop_duplicates(subset=['text'], inplace=True), new_data.drop_duplicates(subset=['text'], inplace=True)"
   ]
  },
  {
   "cell_type": "code",
   "execution_count": 7,
   "id": "6ddd7796",
   "metadata": {
    "execution": {
     "iopub.execute_input": "2024-01-31T08:54:16.559252Z",
     "iopub.status.busy": "2024-01-31T08:54:16.558854Z",
     "iopub.status.idle": "2024-01-31T08:54:16.574047Z",
     "shell.execute_reply": "2024-01-31T08:54:16.572769Z"
    },
    "papermill": {
     "duration": 0.029568,
     "end_time": "2024-01-31T08:54:16.576768",
     "exception": false,
     "start_time": "2024-01-31T08:54:16.547200",
     "status": "completed"
    },
    "tags": []
   },
   "outputs": [
    {
     "data": {
      "text/html": [
       "<div>\n",
       "<style scoped>\n",
       "    .dataframe tbody tr th:only-of-type {\n",
       "        vertical-align: middle;\n",
       "    }\n",
       "\n",
       "    .dataframe tbody tr th {\n",
       "        vertical-align: top;\n",
       "    }\n",
       "\n",
       "    .dataframe thead th {\n",
       "        text-align: right;\n",
       "    }\n",
       "</style>\n",
       "<table border=\"1\" class=\"dataframe\">\n",
       "  <thead>\n",
       "    <tr style=\"text-align: right;\">\n",
       "      <th></th>\n",
       "      <th>text</th>\n",
       "      <th>generated</th>\n",
       "    </tr>\n",
       "  </thead>\n",
       "  <tbody>\n",
       "    <tr>\n",
       "      <th>0</th>\n",
       "      <td>Okay, here is my essay:\\n\\nWorking or doing th...</td>\n",
       "      <td>1</td>\n",
       "    </tr>\n",
       "    <tr>\n",
       "      <th>3</th>\n",
       "      <td>One example of an inspiring individual who has...</td>\n",
       "      <td>1</td>\n",
       "    </tr>\n",
       "    <tr>\n",
       "      <th>6</th>\n",
       "      <td>\"As a high school student, I have witnessed th...</td>\n",
       "      <td>1</td>\n",
       "    </tr>\n",
       "    <tr>\n",
       "      <th>11</th>\n",
       "      <td>Video games have been a popular form of entert...</td>\n",
       "      <td>1</td>\n",
       "    </tr>\n",
       "    <tr>\n",
       "      <th>13</th>\n",
       "      <td>Group work is an essential part of life; it ca...</td>\n",
       "      <td>1</td>\n",
       "    </tr>\n",
       "    <tr>\n",
       "      <th>...</th>\n",
       "      <td>...</td>\n",
       "      <td>...</td>\n",
       "    </tr>\n",
       "    <tr>\n",
       "      <th>39767</th>\n",
       "      <td>Sure thing! Here's my attempt at writing an es...</td>\n",
       "      <td>1</td>\n",
       "    </tr>\n",
       "    <tr>\n",
       "      <th>39770</th>\n",
       "      <td>I think our principal's idea of making us do e...</td>\n",
       "      <td>1</td>\n",
       "    </tr>\n",
       "    <tr>\n",
       "      <th>39771</th>\n",
       "      <td>I think it's a good idea for schools to have o...</td>\n",
       "      <td>1</td>\n",
       "    </tr>\n",
       "    <tr>\n",
       "      <th>39778</th>\n",
       "      <td>Advantages of Limiting Car Usage\\n\\nLimiting c...</td>\n",
       "      <td>1</td>\n",
       "    </tr>\n",
       "    <tr>\n",
       "      <th>39782</th>\n",
       "      <td>The Face on Mars is a fascinating phenomenon t...</td>\n",
       "      <td>1</td>\n",
       "    </tr>\n",
       "  </tbody>\n",
       "</table>\n",
       "<p>9993 rows × 2 columns</p>\n",
       "</div>"
      ],
      "text/plain": [
       "                                                    text  generated\n",
       "0      Okay, here is my essay:\\n\\nWorking or doing th...          1\n",
       "3      One example of an inspiring individual who has...          1\n",
       "6      \"As a high school student, I have witnessed th...          1\n",
       "11     Video games have been a popular form of entert...          1\n",
       "13     Group work is an essential part of life; it ca...          1\n",
       "...                                                  ...        ...\n",
       "39767  Sure thing! Here's my attempt at writing an es...          1\n",
       "39770  I think our principal's idea of making us do e...          1\n",
       "39771  I think it's a good idea for schools to have o...          1\n",
       "39778  Advantages of Limiting Car Usage\\n\\nLimiting c...          1\n",
       "39782  The Face on Mars is a fascinating phenomenon t...          1\n",
       "\n",
       "[9993 rows x 2 columns]"
      ]
     },
     "execution_count": 7,
     "metadata": {},
     "output_type": "execute_result"
    }
   ],
   "source": [
    "positive = new_data.loc[new_data['generated'] == 1]\n",
    "positive"
   ]
  },
  {
   "cell_type": "code",
   "execution_count": 8,
   "id": "4cf012a9",
   "metadata": {
    "execution": {
     "iopub.execute_input": "2024-01-31T08:54:16.600804Z",
     "iopub.status.busy": "2024-01-31T08:54:16.600379Z",
     "iopub.status.idle": "2024-01-31T08:54:16.616325Z",
     "shell.execute_reply": "2024-01-31T08:54:16.615011Z"
    },
    "papermill": {
     "duration": 0.031418,
     "end_time": "2024-01-31T08:54:16.619281",
     "exception": false,
     "start_time": "2024-01-31T08:54:16.587863",
     "status": "completed"
    },
    "tags": []
   },
   "outputs": [
    {
     "data": {
      "text/html": [
       "<div>\n",
       "<style scoped>\n",
       "    .dataframe tbody tr th:only-of-type {\n",
       "        vertical-align: middle;\n",
       "    }\n",
       "\n",
       "    .dataframe tbody tr th {\n",
       "        vertical-align: top;\n",
       "    }\n",
       "\n",
       "    .dataframe thead th {\n",
       "        text-align: right;\n",
       "    }\n",
       "</style>\n",
       "<table border=\"1\" class=\"dataframe\">\n",
       "  <thead>\n",
       "    <tr style=\"text-align: right;\">\n",
       "      <th></th>\n",
       "      <th>text</th>\n",
       "      <th>generated</th>\n",
       "    </tr>\n",
       "  </thead>\n",
       "  <tbody>\n",
       "    <tr>\n",
       "      <th>1</th>\n",
       "      <td>Dear Principal,\\r\\n\\r\\nI just want to let you ...</td>\n",
       "      <td>0</td>\n",
       "    </tr>\n",
       "    <tr>\n",
       "      <th>2</th>\n",
       "      <td>I believe they should change the voting to pop...</td>\n",
       "      <td>0</td>\n",
       "    </tr>\n",
       "    <tr>\n",
       "      <th>4</th>\n",
       "      <td>Dear Mr. Principal,\\n\\nI believe that students...</td>\n",
       "      <td>0</td>\n",
       "    </tr>\n",
       "    <tr>\n",
       "      <th>5</th>\n",
       "      <td>I think that this image of this face is very n...</td>\n",
       "      <td>0</td>\n",
       "    </tr>\n",
       "    <tr>\n",
       "      <th>7</th>\n",
       "      <td>Dear Principle,\\n\\nI sincerely hope you will n...</td>\n",
       "      <td>0</td>\n",
       "    </tr>\n",
       "    <tr>\n",
       "      <th>...</th>\n",
       "      <td>...</td>\n",
       "      <td>...</td>\n",
       "    </tr>\n",
       "    <tr>\n",
       "      <th>39779</th>\n",
       "      <td>Are driverless cars really necessary? Most of ...</td>\n",
       "      <td>0</td>\n",
       "    </tr>\n",
       "    <tr>\n",
       "      <th>39780</th>\n",
       "      <td>\"Oh man I didn't make the soccer team!\", yelle...</td>\n",
       "      <td>0</td>\n",
       "    </tr>\n",
       "    <tr>\n",
       "      <th>39781</th>\n",
       "      <td>I believe that using this technology could be ...</td>\n",
       "      <td>0</td>\n",
       "    </tr>\n",
       "    <tr>\n",
       "      <th>39783</th>\n",
       "      <td>Texting &amp; Driving\\n\\nUsing your phone while dr...</td>\n",
       "      <td>0</td>\n",
       "    </tr>\n",
       "    <tr>\n",
       "      <th>39784</th>\n",
       "      <td>Dear Principal,\\n\\nI have been really good thi...</td>\n",
       "      <td>0</td>\n",
       "    </tr>\n",
       "  </tbody>\n",
       "</table>\n",
       "<p>29741 rows × 2 columns</p>\n",
       "</div>"
      ],
      "text/plain": [
       "                                                    text  generated\n",
       "1      Dear Principal,\\r\\n\\r\\nI just want to let you ...          0\n",
       "2      I believe they should change the voting to pop...          0\n",
       "4      Dear Mr. Principal,\\n\\nI believe that students...          0\n",
       "5      I think that this image of this face is very n...          0\n",
       "7      Dear Principle,\\n\\nI sincerely hope you will n...          0\n",
       "...                                                  ...        ...\n",
       "39779  Are driverless cars really necessary? Most of ...          0\n",
       "39780  \"Oh man I didn't make the soccer team!\", yelle...          0\n",
       "39781  I believe that using this technology could be ...          0\n",
       "39783  Texting & Driving\\n\\nUsing your phone while dr...          0\n",
       "39784  Dear Principal,\\n\\nI have been really good thi...          0\n",
       "\n",
       "[29741 rows x 2 columns]"
      ]
     },
     "execution_count": 8,
     "metadata": {},
     "output_type": "execute_result"
    }
   ],
   "source": [
    "negative = new_data.loc[new_data['generated'] == 0]\n",
    "negative"
   ]
  },
  {
   "cell_type": "code",
   "execution_count": 9,
   "id": "659c2437",
   "metadata": {
    "execution": {
     "iopub.execute_input": "2024-01-31T08:54:16.642214Z",
     "iopub.status.busy": "2024-01-31T08:54:16.641796Z",
     "iopub.status.idle": "2024-01-31T08:54:16.656730Z",
     "shell.execute_reply": "2024-01-31T08:54:16.655297Z"
    },
    "papermill": {
     "duration": 0.02963,
     "end_time": "2024-01-31T08:54:16.659359",
     "exception": false,
     "start_time": "2024-01-31T08:54:16.629729",
     "status": "completed"
    },
    "tags": []
   },
   "outputs": [
    {
     "name": "stdout",
     "output_type": "stream",
     "text": [
      "3\n"
     ]
    }
   ],
   "source": [
    "text_overlap_of_positive = positive[\"text\"].isin(org_data[\"text\"])\n",
    "print(text_overlap_of_positive.sum())\n",
    "\n",
    "positive = positive[~text_overlap_of_positive]"
   ]
  },
  {
   "cell_type": "code",
   "execution_count": 10,
   "id": "670361a5",
   "metadata": {
    "execution": {
     "iopub.execute_input": "2024-01-31T08:54:16.682550Z",
     "iopub.status.busy": "2024-01-31T08:54:16.681599Z",
     "iopub.status.idle": "2024-01-31T08:54:16.700542Z",
     "shell.execute_reply": "2024-01-31T08:54:16.699217Z"
    },
    "papermill": {
     "duration": 0.033221,
     "end_time": "2024-01-31T08:54:16.703180",
     "exception": false,
     "start_time": "2024-01-31T08:54:16.669959",
     "status": "completed"
    },
    "tags": []
   },
   "outputs": [
    {
     "name": "stdout",
     "output_type": "stream",
     "text": [
      "1375\n"
     ]
    }
   ],
   "source": [
    "text_overlap_of_negative = negative[\"text\"].isin(org_data[\"text\"])\n",
    "print(text_overlap_of_negative.sum())\n",
    "\n",
    "negative = negative[~text_overlap_of_negative]"
   ]
  },
  {
   "cell_type": "code",
   "execution_count": 11,
   "id": "ef89bdd3",
   "metadata": {
    "execution": {
     "iopub.execute_input": "2024-01-31T08:54:16.726086Z",
     "iopub.status.busy": "2024-01-31T08:54:16.725658Z",
     "iopub.status.idle": "2024-01-31T08:54:16.747016Z",
     "shell.execute_reply": "2024-01-31T08:54:16.745733Z"
    },
    "papermill": {
     "duration": 0.036065,
     "end_time": "2024-01-31T08:54:16.749764",
     "exception": false,
     "start_time": "2024-01-31T08:54:16.713699",
     "status": "completed"
    },
    "tags": []
   },
   "outputs": [
    {
     "data": {
      "text/html": [
       "<div>\n",
       "<style scoped>\n",
       "    .dataframe tbody tr th:only-of-type {\n",
       "        vertical-align: middle;\n",
       "    }\n",
       "\n",
       "    .dataframe tbody tr th {\n",
       "        vertical-align: top;\n",
       "    }\n",
       "\n",
       "    .dataframe thead th {\n",
       "        text-align: right;\n",
       "    }\n",
       "</style>\n",
       "<table border=\"1\" class=\"dataframe\">\n",
       "  <thead>\n",
       "    <tr style=\"text-align: right;\">\n",
       "      <th></th>\n",
       "      <th>text</th>\n",
       "      <th>generated</th>\n",
       "    </tr>\n",
       "  </thead>\n",
       "  <tbody>\n",
       "    <tr>\n",
       "      <th>0</th>\n",
       "      <td>I believe that dress codes can be beneficial t...</td>\n",
       "      <td>1</td>\n",
       "    </tr>\n",
       "    <tr>\n",
       "      <th>1</th>\n",
       "      <td>As an 8th grader, I have to say that social me...</td>\n",
       "      <td>1</td>\n",
       "    </tr>\n",
       "    <tr>\n",
       "      <th>2</th>\n",
       "      <td>\"Can you imagine a time in the future when no ...</td>\n",
       "      <td>0</td>\n",
       "    </tr>\n",
       "    <tr>\n",
       "      <th>3</th>\n",
       "      <td>Ralph Waldo Emerson’s quote “To be in a world ...</td>\n",
       "      <td>1</td>\n",
       "    </tr>\n",
       "    <tr>\n",
       "      <th>4</th>\n",
       "      <td>Electoral college should go away. electoral co...</td>\n",
       "      <td>0</td>\n",
       "    </tr>\n",
       "    <tr>\n",
       "      <th>...</th>\n",
       "      <td>...</td>\n",
       "      <td>...</td>\n",
       "    </tr>\n",
       "    <tr>\n",
       "      <th>19981</th>\n",
       "      <td>A four-day school week is a concept that has b...</td>\n",
       "      <td>1</td>\n",
       "    </tr>\n",
       "    <tr>\n",
       "      <th>19982</th>\n",
       "      <td>Dear Principal,\\n\\nI don't think this is a goo...</td>\n",
       "      <td>0</td>\n",
       "    </tr>\n",
       "    <tr>\n",
       "      <th>19983</th>\n",
       "      <td>In a time where technology is creating more an...</td>\n",
       "      <td>0</td>\n",
       "    </tr>\n",
       "    <tr>\n",
       "      <th>19984</th>\n",
       "      <td>Transportation is the second largest source of...</td>\n",
       "      <td>0</td>\n",
       "    </tr>\n",
       "    <tr>\n",
       "      <th>19985</th>\n",
       "      <td>Have you ever felt the rush of winning first p...</td>\n",
       "      <td>0</td>\n",
       "    </tr>\n",
       "  </tbody>\n",
       "</table>\n",
       "<p>19986 rows × 2 columns</p>\n",
       "</div>"
      ],
      "text/plain": [
       "                                                    text  generated\n",
       "0      I believe that dress codes can be beneficial t...          1\n",
       "1      As an 8th grader, I have to say that social me...          1\n",
       "2      \"Can you imagine a time in the future when no ...          0\n",
       "3      Ralph Waldo Emerson’s quote “To be in a world ...          1\n",
       "4      Electoral college should go away. electoral co...          0\n",
       "...                                                  ...        ...\n",
       "19981  A four-day school week is a concept that has b...          1\n",
       "19982  Dear Principal,\\n\\nI don't think this is a goo...          0\n",
       "19983  In a time where technology is creating more an...          0\n",
       "19984  Transportation is the second largest source of...          0\n",
       "19985  Have you ever felt the rush of winning first p...          0\n",
       "\n",
       "[19986 rows x 2 columns]"
      ]
     },
     "execution_count": 11,
     "metadata": {},
     "output_type": "execute_result"
    }
   ],
   "source": [
    "augmented_data  = pd.concat([org_data, positive, negative.sample(8618)])\n",
    "augmented_data  = augmented_data .sample(frac=1).reset_index(drop=True)\n",
    "augmented_data "
   ]
  },
  {
   "cell_type": "code",
   "execution_count": 12,
   "id": "16557460",
   "metadata": {
    "execution": {
     "iopub.execute_input": "2024-01-31T08:54:16.774164Z",
     "iopub.status.busy": "2024-01-31T08:54:16.773735Z",
     "iopub.status.idle": "2024-01-31T08:54:16.886156Z",
     "shell.execute_reply": "2024-01-31T08:54:16.885236Z"
    },
    "papermill": {
     "duration": 0.127496,
     "end_time": "2024-01-31T08:54:16.888630",
     "exception": false,
     "start_time": "2024-01-31T08:54:16.761134",
     "status": "completed"
    },
    "tags": []
   },
   "outputs": [
    {
     "name": "stdout",
     "output_type": "stream",
     "text": [
      "generated\n",
      "1    9993\n",
      "0    9993\n",
      "Name: count, dtype: int64\n"
     ]
    },
    {
     "data": {
      "image/png": "[encoded data removed]",
      "text/plain": [
       "<Figure size 640x480 with 1 Axes>"
      ]
     },
     "metadata": {},
     "output_type": "display_data"
    }
   ],
   "source": [
    "# Calculate the counts of each unique value in the \"generated\" column of augmented data\n",
    "augmented_generated_value_counts = augmented_data[\"generated\"].value_counts()\n",
    "\n",
    "# Print the augmented generated value counts\n",
    "print(augmented_generated_value_counts)\n",
    "\n",
    "# Plot a pie chart of the augmented generated value counts with percentage labels\n",
    "augmented_generated_value_counts.plot.pie(autopct='%1.1f%%');"
   ]
  },
  {
   "cell_type": "code",
   "execution_count": 13,
   "id": "5cfb7d0a",
   "metadata": {
    "execution": {
     "iopub.execute_input": "2024-01-31T08:54:16.913851Z",
     "iopub.status.busy": "2024-01-31T08:54:16.913449Z",
     "iopub.status.idle": "2024-01-31T08:54:16.919122Z",
     "shell.execute_reply": "2024-01-31T08:54:16.917973Z"
    },
    "papermill": {
     "duration": 0.021667,
     "end_time": "2024-01-31T08:54:16.921919",
     "exception": false,
     "start_time": "2024-01-31T08:54:16.900252",
     "status": "completed"
    },
    "tags": []
   },
   "outputs": [],
   "source": [
    "X, y = augmented_data [\"text\"], augmented_data [\"generated\"]"
   ]
  },
  {
   "cell_type": "code",
   "execution_count": 14,
   "id": "6fcd7a48",
   "metadata": {
    "execution": {
     "iopub.execute_input": "2024-01-31T08:54:16.946968Z",
     "iopub.status.busy": "2024-01-31T08:54:16.946522Z",
     "iopub.status.idle": "2024-01-31T08:54:18.340188Z",
     "shell.execute_reply": "2024-01-31T08:54:18.339066Z"
    },
    "papermill": {
     "duration": 1.4093,
     "end_time": "2024-01-31T08:54:18.343058",
     "exception": false,
     "start_time": "2024-01-31T08:54:16.933758",
     "status": "completed"
    },
    "tags": []
   },
   "outputs": [],
   "source": [
    "from sklearn.model_selection import train_test_split\n",
    "X_train, X_val, y_train, y_val = train_test_split(X, y, train_size=0.8, stratify=y)"
   ]
  },
  {
   "cell_type": "markdown",
   "id": "0c9f20ac",
   "metadata": {
    "papermill": {
     "duration": 0.010983,
     "end_time": "2024-01-31T08:54:18.366632",
     "exception": false,
     "start_time": "2024-01-31T08:54:18.355649",
     "status": "completed"
    },
    "tags": []
   },
   "source": [
    "# training models : binary text classification"
   ]
  },
  {
   "cell_type": "code",
   "execution_count": 15,
   "id": "84528879",
   "metadata": {
    "execution": {
     "iopub.execute_input": "2024-01-31T08:54:18.392812Z",
     "iopub.status.busy": "2024-01-31T08:54:18.392338Z",
     "iopub.status.idle": "2024-01-31T08:54:24.035030Z",
     "shell.execute_reply": "2024-01-31T08:54:24.033756Z"
    },
    "papermill": {
     "duration": 5.660009,
     "end_time": "2024-01-31T08:54:24.038078",
     "exception": false,
     "start_time": "2024-01-31T08:54:18.378069",
     "status": "completed"
    },
    "tags": []
   },
   "outputs": [],
   "source": [
    "import matplotlib.pyplot as plt\n",
    "from torchtext.data.utils import get_tokenizer\n",
    "from sklearn.feature_extraction.text import TfidfVectorizer\n",
    "from sklearn.metrics import classification_report, roc_curve, auc\n",
    "import time"
   ]
  },
  {
   "cell_type": "code",
   "execution_count": 16,
   "id": "1d095ab7",
   "metadata": {
    "execution": {
     "iopub.execute_input": "2024-01-31T08:54:24.064498Z",
     "iopub.status.busy": "2024-01-31T08:54:24.063196Z",
     "iopub.status.idle": "2024-01-31T08:54:24.348134Z",
     "shell.execute_reply": "2024-01-31T08:54:24.346805Z"
    },
    "papermill": {
     "duration": 0.301649,
     "end_time": "2024-01-31T08:54:24.351037",
     "exception": false,
     "start_time": "2024-01-31T08:54:24.049388",
     "status": "completed"
    },
    "tags": []
   },
   "outputs": [],
   "source": [
    "from sklearn.linear_model import LogisticRegression\n",
    "from sklearn.ensemble import RandomForestClassifier\n",
    "from sklearn.svm import SVC"
   ]
  },
  {
   "cell_type": "code",
   "execution_count": 17,
   "id": "c77c97d8",
   "metadata": {
    "execution": {
     "iopub.execute_input": "2024-01-31T08:54:24.375358Z",
     "iopub.status.busy": "2024-01-31T08:54:24.374906Z",
     "iopub.status.idle": "2024-01-31T08:54:24.381924Z",
     "shell.execute_reply": "2024-01-31T08:54:24.380759Z"
    },
    "papermill": {
     "duration": 0.021823,
     "end_time": "2024-01-31T08:54:24.384153",
     "exception": false,
     "start_time": "2024-01-31T08:54:24.362330",
     "status": "completed"
    },
    "tags": []
   },
   "outputs": [],
   "source": [
    "vectorizer = TfidfVectorizer(tokenizer=get_tokenizer(\"basic_english\"), token_pattern=None)\n",
    "\n",
    "def vectorize_text(X_train, X_val):\n",
    "    \"\"\"\n",
    "    Vectorizes the text data using TF-IDF.\n",
    "    \"\"\"\n",
    "    X_train_vectorized = vectorizer.fit_transform(X_train)\n",
    "    X_val_vectorized = vectorizer.transform(X_val)\n",
    "    return X_train_vectorized, X_val_vectorized"
   ]
  },
  {
   "cell_type": "code",
   "execution_count": 18,
   "id": "d8bcf91f",
   "metadata": {
    "execution": {
     "iopub.execute_input": "2024-01-31T08:54:24.410415Z",
     "iopub.status.busy": "2024-01-31T08:54:24.409627Z",
     "iopub.status.idle": "2024-01-31T08:54:24.416319Z",
     "shell.execute_reply": "2024-01-31T08:54:24.415198Z"
    },
    "papermill": {
     "duration": 0.023056,
     "end_time": "2024-01-31T08:54:24.419241",
     "exception": false,
     "start_time": "2024-01-31T08:54:24.396185",
     "status": "completed"
    },
    "tags": []
   },
   "outputs": [],
   "source": [
    "def evaluate_model(model, X_val, y_val):\n",
    "    \"\"\"\n",
    "    Evaluates the trained model on the validation data and returns classification report.\n",
    "    \"\"\"\n",
    "    predictions = model.predict(X_val)\n",
    "    report = classification_report(y_val, predictions)\n",
    "    return report"
   ]
  },
  {
   "cell_type": "code",
   "execution_count": 19,
   "id": "ba9d31fb",
   "metadata": {
    "execution": {
     "iopub.execute_input": "2024-01-31T08:54:24.444074Z",
     "iopub.status.busy": "2024-01-31T08:54:24.443627Z",
     "iopub.status.idle": "2024-01-31T08:54:24.451328Z",
     "shell.execute_reply": "2024-01-31T08:54:24.450009Z"
    },
    "papermill": {
     "duration": 0.023379,
     "end_time": "2024-01-31T08:54:24.453983",
     "exception": false,
     "start_time": "2024-01-31T08:54:24.430604",
     "status": "completed"
    },
    "tags": []
   },
   "outputs": [],
   "source": [
    "def plot_roc_auc(model, X_val, y_val, ax):\n",
    "    \"\"\"\n",
    "    Plots the ROC curve for a given model.\n",
    "\n",
    "    Parameters:\n",
    "    model : object\n",
    "        The trained classification model.\n",
    "    X_val : array-like or sparse matrix, shape (n_samples, n_features)\n",
    "        Validation data.\n",
    "    y_val : array-like, shape (n_samples,)\n",
    "        True binary labels in range {0, 1} or {-1, 1}.\n",
    "    ax : matplotlib Axes object\n",
    "        The axes to plot the ROC curve on.\n",
    "\n",
    "    Returns:\n",
    "    None\n",
    "    \"\"\"\n",
    "    # Predict probabilities\n",
    "    y_score = model.predict_proba(X_val)[:, 1]\n",
    "    \n",
    "    # Compute ROC curve and ROC area\n",
    "    fpr, tpr, _ = roc_curve(y_val, y_score)\n",
    "    roc_auc = auc(fpr, tpr)\n",
    "    \n",
    "    # Plot ROC curve\n",
    "    ax.plot(fpr, tpr, lw=2, label='%s (area = %0.2f)' % (type(model).__name__, roc_auc))\n",
    "    \n",
    "    return ax"
   ]
  },
  {
   "cell_type": "code",
   "execution_count": 20,
   "id": "c803c4e9",
   "metadata": {
    "execution": {
     "iopub.execute_input": "2024-01-31T08:54:24.480006Z",
     "iopub.status.busy": "2024-01-31T08:54:24.479577Z",
     "iopub.status.idle": "2024-01-31T08:55:02.893698Z",
     "shell.execute_reply": "2024-01-31T08:55:02.892742Z"
    },
    "papermill": {
     "duration": 38.429476,
     "end_time": "2024-01-31T08:55:02.896051",
     "exception": false,
     "start_time": "2024-01-31T08:54:24.466575",
     "status": "completed"
    },
    "tags": []
   },
   "outputs": [
    {
     "name": "stdout",
     "output_type": "stream",
     "text": [
      "LogisticRegression is trained in 3.0872209072113037 seonds\n",
      "RandomForestClassifier is trained in 22.876126766204834 seonds\n"
     ]
    },
    {
     "data": {
      "image/png": "[encoded data removed]",
      "text/plain": [
       "<Figure size 800x600 with 1 Axes>"
      ]
     },
     "metadata": {},
     "output_type": "display_data"
    }
   ],
   "source": [
    "X_train_vectorized, X_val_vectorized = vectorize_text(X_train, X_val)\n",
    "\n",
    "models = [LogisticRegression(), RandomForestClassifier()]\n",
    "model_reports = {}\n",
    "\n",
    "fig, ax = plt.subplots(figsize=(8, 6))\n",
    "\n",
    "for model in models:\n",
    "    start = time.time()\n",
    "    model.fit(X_train_vectorized, y_train)\n",
    "    end = time.time()\n",
    "    ax = plot_roc_auc(model, X_val_vectorized, y_val, ax)\n",
    "    report = evaluate_model(model, X_val_vectorized, y_val)\n",
    "    model_name = type(model).__name__\n",
    "    model_reports[model_name] = report\n",
    "    print(f'{model_name} is trained in {end-start} seonds')\n",
    "\n",
    "ax.plot([0, 1], [0, 1], color='navy', lw=2, linestyle='--')\n",
    "ax.set_xlim([0.0, 1.0])\n",
    "ax.set_ylim([0.0, 1.05])\n",
    "ax.set_xlabel('False Positive Rate')\n",
    "ax.set_ylabel('True Positive Rate')\n",
    "ax.set_title('ROC Curves for Different Models')\n",
    "ax.legend(loc=\"lower right\")\n",
    "plt.show();"
   ]
  },
  {
   "cell_type": "code",
   "execution_count": 21,
   "id": "7528f684",
   "metadata": {
    "execution": {
     "iopub.execute_input": "2024-01-31T08:55:02.922987Z",
     "iopub.status.busy": "2024-01-31T08:55:02.921857Z",
     "iopub.status.idle": "2024-01-31T08:55:02.928437Z",
     "shell.execute_reply": "2024-01-31T08:55:02.927609Z"
    },
    "papermill": {
     "duration": 0.02252,
     "end_time": "2024-01-31T08:55:02.930878",
     "exception": false,
     "start_time": "2024-01-31T08:55:02.908358",
     "status": "completed"
    },
    "tags": []
   },
   "outputs": [
    {
     "name": "stdout",
     "output_type": "stream",
     "text": [
      "Classification Report for LogisticRegression:\n",
      "              precision    recall  f1-score   support\n",
      "\n",
      "           0       0.99      0.99      0.99      1999\n",
      "           1       0.99      0.99      0.99      1999\n",
      "\n",
      "    accuracy                           0.99      3998\n",
      "   macro avg       0.99      0.99      0.99      3998\n",
      "weighted avg       0.99      0.99      0.99      3998\n",
      "\n",
      "\n",
      "Classification Report for RandomForestClassifier:\n",
      "              precision    recall  f1-score   support\n",
      "\n",
      "           0       0.98      0.99      0.99      1999\n",
      "           1       0.99      0.98      0.99      1999\n",
      "\n",
      "    accuracy                           0.99      3998\n",
      "   macro avg       0.99      0.99      0.99      3998\n",
      "weighted avg       0.99      0.99      0.99      3998\n",
      "\n",
      "\n"
     ]
    }
   ],
   "source": [
    "# print classification reports\n",
    "for model_name, report in model_reports.items():\n",
    "    print(f\"Classification Report for {model_name}:\\n{report}\\n\")"
   ]
  }
 ],
 "metadata": {
  "kaggle": {
   "accelerator": "none",
   "dataSources": [
    {
     "databundleVersionId": 7516023,
     "sourceId": 61542,
     "sourceType": "competition"
    },
    {
     "datasetId": 3942644,
     "sourceId": 6890527,
     "sourceType": "datasetVersion"
    }
   ],
   "dockerImageVersionId": 30646,
   "isGpuEnabled": false,
   "isInternetEnabled": true,
   "language": "python",
   "sourceType": "notebook"
  },
  "kernelspec": {
   "display_name": "Python 3 (ipykernel)",
   "language": "python",
   "name": "python3"
  },
  "language_info": {
   "codemirror_mode": {
    "name": "ipython",
    "version": 3
   },
   "file_extension": ".py",
   "mimetype": "text/x-python",
   "name": "python",
   "nbconvert_exporter": "python",
   "pygments_lexer": "ipython3",
   "version": "3.11.5"
  },
  "papermill": {
   "default_parameters": {},
   "duration": 55.151086,
   "end_time": "2024-01-31T08:55:04.368258",
   "environment_variables": {},
   "exception": null,
   "input_path": "__notebook__.ipynb",
   "output_path": "__notebook__.ipynb",
   "parameters": {},
   "start_time": "2024-01-31T08:54:09.217172",
   "version": "2.5.0"
  }
 },
 "nbformat": 4,
 "nbformat_minor": 5
}
